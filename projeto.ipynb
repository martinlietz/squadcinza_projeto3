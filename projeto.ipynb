{
 "metadata": {
  "language_info": {
   "codemirror_mode": {
    "name": "ipython",
    "version": 3
   },
   "file_extension": ".py",
   "mimetype": "text/x-python",
   "name": "python",
   "nbconvert_exporter": "python",
   "pygments_lexer": "ipython3",
   "version": "3.9.0"
  },
  "orig_nbformat": 2,
  "kernelspec": {
   "name": "python390jvsc74a57bd0e922dd073470bdcc017ae3abd31d6491d6ed7bf31c1d559806e5511bfea88b81",
   "display_name": "Python 3.9.0 32-bit"
  }
 },
 "nbformat": 4,
 "nbformat_minor": 2,
 "cells": [
  {
   "cell_type": "code",
   "execution_count": 2,
   "metadata": {},
   "outputs": [],
   "source": [
    "import pandas as pd\n",
    "import numpy as np\n",
    "\n",
    "import matplotlib.pyplot as plt\n",
    "import seaborn as sns\n",
    "\n",
    "import datetime as dt"
   ]
  },
  {
   "source": [
    "vamos carregar os dados"
   ],
   "cell_type": "markdown",
   "metadata": {}
  },
  {
   "cell_type": "code",
   "execution_count": 3,
   "metadata": {},
   "outputs": [],
   "source": [
    "df_limites = pd.read_excel('gastos_limites.xlsx', sheet_name='limites')\n",
    "df_gastos = pd.read_excel('gastos_limites.xlsx', sheet_name='gastos')"
   ]
  },
  {
   "source": [
    "Limpar os dados do limite"
   ],
   "cell_type": "markdown",
   "metadata": {}
  },
  {
   "cell_type": "code",
   "execution_count": 4,
   "metadata": {},
   "outputs": [
    {
     "output_type": "stream",
     "name": "stderr",
     "text": [
      "<ipython-input-4-378fc3bdbaeb>:2: FutureWarning: The default value of regex will change from True to False in a future version. In addition, single character regular expressions will*not* be treated as literal strings when regex=True.\n  df_limites['limite'] = df_limites['limite'].str.replace('$','')\n"
     ]
    }
   ],
   "source": [
    "df_limites['dt_fechamento'] = pd.to_datetime(df_limites.dt_fechamento)\n",
    "df_limites['limite'] = df_limites['limite'].str.replace('$','')\n",
    "df_limites['limite'] = df_limites['limite'].str.replace('R ','')\n",
    "df_limites['limite'] = df_limites['limite'].str.replace(',','.')\n",
    "df_limites['limite'] = pd.to_numeric(df_limites['limite'])\n",
    "df_limites['cliente'] = df_limites['cliente'].str.title()"
   ]
  },
  {
   "cell_type": "code",
   "execution_count": 5,
   "metadata": {},
   "outputs": [
    {
     "output_type": "execute_result",
     "data": {
      "text/plain": [
       "Unnamed: 0       0\n",
       "cliente          0\n",
       "limite           0\n",
       "dt_fechamento    0\n",
       "dtype: int64"
      ]
     },
     "metadata": {},
     "execution_count": 5
    }
   ],
   "source": [
    "df_limites.isnull().sum()"
   ]
  },
  {
   "source": [
    "Limpar os dados dos gastos"
   ],
   "cell_type": "markdown",
   "metadata": {}
  },
  {
   "cell_type": "code",
   "execution_count": 6,
   "metadata": {},
   "outputs": [
    {
     "output_type": "stream",
     "name": "stderr",
     "text": [
      "<ipython-input-6-ce37e9d1b2cf>:2: FutureWarning: The default value of regex will change from True to False in a future version. In addition, single character regular expressions will*not* be treated as literal strings when regex=True.\n  df_gastos['valor_operacao'] = df_gastos['valor_operacao'].str.replace('$','')\n"
     ]
    }
   ],
   "source": [
    "df_gastos['dt_operacao'] = pd.to_datetime(df_gastos.dt_operacao)\n",
    "df_gastos['valor_operacao'] = df_gastos['valor_operacao'].str.replace('$','')\n",
    "df_gastos['valor_operacao'] = df_gastos['valor_operacao'].str.replace('R ','')\n",
    "df_gastos['valor_operacao'] = df_gastos['valor_operacao'].str.replace(',','.')\n",
    "df_gastos['valor_operacao'] = pd.to_numeric(df_gastos['valor_operacao']) \n",
    "df_gastos['mes_atual'] = pd.to_datetime(df_gastos.mes_atual, format='%b/%y')\n",
    "df_gastos['nm_cliente'] = df_gastos['nm_cliente'].str.title()"
   ]
  },
  {
   "cell_type": "code",
   "execution_count": 7,
   "metadata": {},
   "outputs": [],
   "source": [
    "inverteNome = lambda s : s.split(', ')[1] + ' ' +  s.split(', ')[0] if ', ' in s else s\n"
   ]
  },
  {
   "cell_type": "code",
   "execution_count": 8,
   "metadata": {},
   "outputs": [],
   "source": [
    "df_gastos['nm_cliente'] = df_gastos['nm_cliente'].apply(inverteNome)\n",
    "df_limites['cliente'] = df_limites['cliente'].apply(inverteNome)"
   ]
  },
  {
   "cell_type": "code",
   "execution_count": 9,
   "metadata": {},
   "outputs": [
    {
     "output_type": "execute_result",
     "data": {
      "text/plain": [
       "Unnamed: 0        0\n",
       "nm_cliente        0\n",
       "valor_operacao    0\n",
       "num_parcelas      0\n",
       "dt_operacao       0\n",
       "mes_atual         0\n",
       "dtype: int64"
      ]
     },
     "metadata": {},
     "execution_count": 9
    }
   ],
   "source": [
    "df_gastos.isnull().sum()"
   ]
  },
  {
   "cell_type": "code",
   "execution_count": 10,
   "metadata": {},
   "outputs": [
    {
     "output_type": "stream",
     "name": "stdout",
     "text": [
      "<class 'pandas.core.frame.DataFrame'>\nRangeIndex: 20 entries, 0 to 19\nData columns (total 4 columns):\n #   Column         Non-Null Count  Dtype         \n---  ------         --------------  -----         \n 0   Unnamed: 0     20 non-null     int64         \n 1   cliente        20 non-null     object        \n 2   limite         20 non-null     float64       \n 3   dt_fechamento  20 non-null     datetime64[ns]\ndtypes: datetime64[ns](1), float64(1), int64(1), object(1)\nmemory usage: 624.0+ bytes\n"
     ]
    }
   ],
   "source": [
    "df_limites.info()"
   ]
  },
  {
   "cell_type": "code",
   "execution_count": 11,
   "metadata": {},
   "outputs": [
    {
     "output_type": "execute_result",
     "data": {
      "text/plain": [
       "   Unnamed: 0                cliente  limite dt_fechamento\n",
       "0           0             João Silva  2575.0    2021-01-25\n",
       "1           1         José Silva      4500.0    2021-05-01\n",
       "2           2   Antônio Oliveira      2325.0    2021-01-25\n",
       "3           3       Francisco Santos   375.0    2021-01-25\n",
       "4           4       Carlos Rodrigues  2675.0    2021-05-01"
      ],
      "text/html": "<div>\n<style scoped>\n    .dataframe tbody tr th:only-of-type {\n        vertical-align: middle;\n    }\n\n    .dataframe tbody tr th {\n        vertical-align: top;\n    }\n\n    .dataframe thead th {\n        text-align: right;\n    }\n</style>\n<table border=\"1\" class=\"dataframe\">\n  <thead>\n    <tr style=\"text-align: right;\">\n      <th></th>\n      <th>Unnamed: 0</th>\n      <th>cliente</th>\n      <th>limite</th>\n      <th>dt_fechamento</th>\n    </tr>\n  </thead>\n  <tbody>\n    <tr>\n      <th>0</th>\n      <td>0</td>\n      <td>João Silva</td>\n      <td>2575.0</td>\n      <td>2021-01-25</td>\n    </tr>\n    <tr>\n      <th>1</th>\n      <td>1</td>\n      <td>José Silva</td>\n      <td>4500.0</td>\n      <td>2021-05-01</td>\n    </tr>\n    <tr>\n      <th>2</th>\n      <td>2</td>\n      <td>Antônio Oliveira</td>\n      <td>2325.0</td>\n      <td>2021-01-25</td>\n    </tr>\n    <tr>\n      <th>3</th>\n      <td>3</td>\n      <td>Francisco Santos</td>\n      <td>375.0</td>\n      <td>2021-01-25</td>\n    </tr>\n    <tr>\n      <th>4</th>\n      <td>4</td>\n      <td>Carlos Rodrigues</td>\n      <td>2675.0</td>\n      <td>2021-05-01</td>\n    </tr>\n  </tbody>\n</table>\n</div>"
     },
     "metadata": {},
     "execution_count": 11
    }
   ],
   "source": [
    "df_limites.head()"
   ]
  },
  {
   "cell_type": "code",
   "execution_count": 12,
   "metadata": {},
   "outputs": [
    {
     "output_type": "stream",
     "name": "stdout",
     "text": [
      "<class 'pandas.core.frame.DataFrame'>\nRangeIndex: 150 entries, 0 to 149\nData columns (total 6 columns):\n #   Column          Non-Null Count  Dtype         \n---  ------          --------------  -----         \n 0   Unnamed: 0      150 non-null    int64         \n 1   nm_cliente      150 non-null    object        \n 2   valor_operacao  150 non-null    float64       \n 3   num_parcelas    150 non-null    int64         \n 4   dt_operacao     150 non-null    datetime64[ns]\n 5   mes_atual       150 non-null    datetime64[ns]\ndtypes: datetime64[ns](2), float64(1), int64(2), object(1)\nmemory usage: 6.5+ KB\n"
     ]
    }
   ],
   "source": [
    "df_gastos.info()"
   ]
  },
  {
   "cell_type": "code",
   "execution_count": 15,
   "metadata": {},
   "outputs": [
    {
     "output_type": "execute_result",
     "data": {
      "text/plain": [
       "array(['2021-01-01T00:00:00.000000000', '2021-02-01T00:00:00.000000000',\n",
       "       '2021-03-01T00:00:00.000000000', '2021-04-01T00:00:00.000000000',\n",
       "       '2021-05-01T00:00:00.000000000', '2021-06-01T00:00:00.000000000',\n",
       "       '2021-07-01T00:00:00.000000000', '2021-08-01T00:00:00.000000000',\n",
       "       '2021-09-01T00:00:00.000000000', '2021-10-01T00:00:00.000000000',\n",
       "       '2021-11-01T00:00:00.000000000', '2021-12-01T00:00:00.000000000',\n",
       "       '2021-01-13T00:00:00.000000000', '2021-01-14T00:00:00.000000000',\n",
       "       '2021-01-15T00:00:00.000000000', '2021-01-16T00:00:00.000000000',\n",
       "       '2021-01-17T00:00:00.000000000', '2021-01-18T00:00:00.000000000',\n",
       "       '2021-01-19T00:00:00.000000000', '2021-01-20T00:00:00.000000000',\n",
       "       '2021-01-21T00:00:00.000000000', '2021-01-22T00:00:00.000000000',\n",
       "       '2021-01-23T00:00:00.000000000', '2021-01-24T00:00:00.000000000',\n",
       "       '2021-01-25T00:00:00.000000000', '2021-01-26T00:00:00.000000000',\n",
       "       '2021-01-27T00:00:00.000000000', '2021-01-28T00:00:00.000000000',\n",
       "       '2021-01-29T00:00:00.000000000', '2021-01-30T00:00:00.000000000',\n",
       "       '2021-01-31T00:00:00.000000000'], dtype='datetime64[ns]')"
      ]
     },
     "metadata": {},
     "execution_count": 15
    }
   ],
   "source": [
    "df_gastos['dt_operacao'].unique()"
   ]
  },
  {
   "cell_type": "code",
   "execution_count": 29,
   "metadata": {},
   "outputs": [],
   "source": [
    "df_gastos_acum = df_gastos.groupby(df_gastos['dt_operacao'].dt.strftime('%B'))[['nm_cliente','valor_operacao']]"
   ]
  },
  {
   "cell_type": "code",
   "execution_count": 30,
   "metadata": {},
   "outputs": [
    {
     "output_type": "execute_result",
     "data": {
      "text/plain": [
       "           nm_cliente  valor_operacao\n",
       "0         Paulo Gomes          855.00\n",
       "1       Camila Santos          504.18\n",
       "2        Márcia Silva          970.00\n",
       "3         Maria Alves         2010.31\n",
       "4      Lucas Oliveira          465.00\n",
       "5         Paulo Gomes          465.50\n",
       "6        Sandra Souza         2107.00\n",
       "7         Maria Alves         1071.67\n",
       "8         Maria Alves          382.67\n",
       "9    Francisco Santos          889.00\n",
       "12         José Silva          692.00\n",
       "13          Ana Costa          115.00\n",
       "14      Pedro Ribeira          135.00\n",
       "15         José Silva          354.00\n",
       "16         João Silva          243.42\n",
       "17          Ana Costa          734.85\n",
       "18          Ana Costa          265.62\n",
       "19   Patrícia Pereira          175.00\n",
       "20       Marcos Souza         1916.53\n",
       "21  Fernanda Oliveira          468.75\n",
       "24       Sandra Souza          359.53\n",
       "25          Ana Costa          620.41\n",
       "26      Camila Santos          216.97\n",
       "27   Antônio Oliveira          773.42\n",
       "28   Carlos Rodrigues          343.08\n",
       "29       Sandra Souza          443.72\n",
       "30        Paulo Gomes          343.00\n",
       "31         Luiz Alves         2644.30\n",
       "32        Paulo Gomes          559.36\n",
       "33    Aline Rodrigues          234.00\n",
       "34   Francisco Santos         1121.98\n",
       "35      Juliana Costa          205.00\n",
       "36    Aline Rodrigues          673.12\n",
       "37         Luiz Alves          110.66\n",
       "38         José Silva          187.21\n",
       "39      Camila Santos          666.00\n",
       "40       Márcia Silva         1046.00\n",
       "41        Paulo Gomes          652.44\n",
       "42          Ana Costa          513.76\n",
       "43     Lucas Oliveira          440.25\n",
       "44       Márcia Silva          165.00\n",
       "45   Antônio Oliveira          310.67\n",
       "46      Juliana Costa          385.50\n",
       "47   Patrícia Pereira         1363.96\n",
       "49    Aline Rodrigues          130.00\n",
       "50     Lucas Oliveira          740.89\n",
       "51   Francisco Santos          411.00\n",
       "52         José Silva          321.97\n",
       "53      Pedro Ribeira          941.33\n",
       "58         José Silva          745.00\n",
       "59       Marcos Souza         1274.40\n",
       "60   Francisco Santos          379.59\n",
       "61      Juliana Costa          485.00\n",
       "62  Fernanda Oliveira          225.19\n",
       "63       Márcia Silva          208.96\n",
       "64     Lucas Oliveira         1113.00\n",
       "65      Juliana Costa         1749.67\n",
       "66     Lucas Oliveira          532.77\n",
       "67  Fernanda Oliveira         1304.45"
      ],
      "text/html": "<div>\n<style scoped>\n    .dataframe tbody tr th:only-of-type {\n        vertical-align: middle;\n    }\n\n    .dataframe tbody tr th {\n        vertical-align: top;\n    }\n\n    .dataframe thead th {\n        text-align: right;\n    }\n</style>\n<table border=\"1\" class=\"dataframe\">\n  <thead>\n    <tr style=\"text-align: right;\">\n      <th></th>\n      <th>nm_cliente</th>\n      <th>valor_operacao</th>\n    </tr>\n  </thead>\n  <tbody>\n    <tr>\n      <th>0</th>\n      <td>Paulo Gomes</td>\n      <td>855.00</td>\n    </tr>\n    <tr>\n      <th>1</th>\n      <td>Camila Santos</td>\n      <td>504.18</td>\n    </tr>\n    <tr>\n      <th>2</th>\n      <td>Márcia Silva</td>\n      <td>970.00</td>\n    </tr>\n    <tr>\n      <th>3</th>\n      <td>Maria Alves</td>\n      <td>2010.31</td>\n    </tr>\n    <tr>\n      <th>4</th>\n      <td>Lucas Oliveira</td>\n      <td>465.00</td>\n    </tr>\n    <tr>\n      <th>5</th>\n      <td>Paulo Gomes</td>\n      <td>465.50</td>\n    </tr>\n    <tr>\n      <th>6</th>\n      <td>Sandra Souza</td>\n      <td>2107.00</td>\n    </tr>\n    <tr>\n      <th>7</th>\n      <td>Maria Alves</td>\n      <td>1071.67</td>\n    </tr>\n    <tr>\n      <th>8</th>\n      <td>Maria Alves</td>\n      <td>382.67</td>\n    </tr>\n    <tr>\n      <th>9</th>\n      <td>Francisco Santos</td>\n      <td>889.00</td>\n    </tr>\n    <tr>\n      <th>12</th>\n      <td>José Silva</td>\n      <td>692.00</td>\n    </tr>\n    <tr>\n      <th>13</th>\n      <td>Ana Costa</td>\n      <td>115.00</td>\n    </tr>\n    <tr>\n      <th>14</th>\n      <td>Pedro Ribeira</td>\n      <td>135.00</td>\n    </tr>\n    <tr>\n      <th>15</th>\n      <td>José Silva</td>\n      <td>354.00</td>\n    </tr>\n    <tr>\n      <th>16</th>\n      <td>João Silva</td>\n      <td>243.42</td>\n    </tr>\n    <tr>\n      <th>17</th>\n      <td>Ana Costa</td>\n      <td>734.85</td>\n    </tr>\n    <tr>\n      <th>18</th>\n      <td>Ana Costa</td>\n      <td>265.62</td>\n    </tr>\n    <tr>\n      <th>19</th>\n      <td>Patrícia Pereira</td>\n      <td>175.00</td>\n    </tr>\n    <tr>\n      <th>20</th>\n      <td>Marcos Souza</td>\n      <td>1916.53</td>\n    </tr>\n    <tr>\n      <th>21</th>\n      <td>Fernanda Oliveira</td>\n      <td>468.75</td>\n    </tr>\n    <tr>\n      <th>24</th>\n      <td>Sandra Souza</td>\n      <td>359.53</td>\n    </tr>\n    <tr>\n      <th>25</th>\n      <td>Ana Costa</td>\n      <td>620.41</td>\n    </tr>\n    <tr>\n      <th>26</th>\n      <td>Camila Santos</td>\n      <td>216.97</td>\n    </tr>\n    <tr>\n      <th>27</th>\n      <td>Antônio Oliveira</td>\n      <td>773.42</td>\n    </tr>\n    <tr>\n      <th>28</th>\n      <td>Carlos Rodrigues</td>\n      <td>343.08</td>\n    </tr>\n    <tr>\n      <th>29</th>\n      <td>Sandra Souza</td>\n      <td>443.72</td>\n    </tr>\n    <tr>\n      <th>30</th>\n      <td>Paulo Gomes</td>\n      <td>343.00</td>\n    </tr>\n    <tr>\n      <th>31</th>\n      <td>Luiz Alves</td>\n      <td>2644.30</td>\n    </tr>\n    <tr>\n      <th>32</th>\n      <td>Paulo Gomes</td>\n      <td>559.36</td>\n    </tr>\n    <tr>\n      <th>33</th>\n      <td>Aline Rodrigues</td>\n      <td>234.00</td>\n    </tr>\n    <tr>\n      <th>34</th>\n      <td>Francisco Santos</td>\n      <td>1121.98</td>\n    </tr>\n    <tr>\n      <th>35</th>\n      <td>Juliana Costa</td>\n      <td>205.00</td>\n    </tr>\n    <tr>\n      <th>36</th>\n      <td>Aline Rodrigues</td>\n      <td>673.12</td>\n    </tr>\n    <tr>\n      <th>37</th>\n      <td>Luiz Alves</td>\n      <td>110.66</td>\n    </tr>\n    <tr>\n      <th>38</th>\n      <td>José Silva</td>\n      <td>187.21</td>\n    </tr>\n    <tr>\n      <th>39</th>\n      <td>Camila Santos</td>\n      <td>666.00</td>\n    </tr>\n    <tr>\n      <th>40</th>\n      <td>Márcia Silva</td>\n      <td>1046.00</td>\n    </tr>\n    <tr>\n      <th>41</th>\n      <td>Paulo Gomes</td>\n      <td>652.44</td>\n    </tr>\n    <tr>\n      <th>42</th>\n      <td>Ana Costa</td>\n      <td>513.76</td>\n    </tr>\n    <tr>\n      <th>43</th>\n      <td>Lucas Oliveira</td>\n      <td>440.25</td>\n    </tr>\n    <tr>\n      <th>44</th>\n      <td>Márcia Silva</td>\n      <td>165.00</td>\n    </tr>\n    <tr>\n      <th>45</th>\n      <td>Antônio Oliveira</td>\n      <td>310.67</td>\n    </tr>\n    <tr>\n      <th>46</th>\n      <td>Juliana Costa</td>\n      <td>385.50</td>\n    </tr>\n    <tr>\n      <th>47</th>\n      <td>Patrícia Pereira</td>\n      <td>1363.96</td>\n    </tr>\n    <tr>\n      <th>49</th>\n      <td>Aline Rodrigues</td>\n      <td>130.00</td>\n    </tr>\n    <tr>\n      <th>50</th>\n      <td>Lucas Oliveira</td>\n      <td>740.89</td>\n    </tr>\n    <tr>\n      <th>51</th>\n      <td>Francisco Santos</td>\n      <td>411.00</td>\n    </tr>\n    <tr>\n      <th>52</th>\n      <td>José Silva</td>\n      <td>321.97</td>\n    </tr>\n    <tr>\n      <th>53</th>\n      <td>Pedro Ribeira</td>\n      <td>941.33</td>\n    </tr>\n    <tr>\n      <th>58</th>\n      <td>José Silva</td>\n      <td>745.00</td>\n    </tr>\n    <tr>\n      <th>59</th>\n      <td>Marcos Souza</td>\n      <td>1274.40</td>\n    </tr>\n    <tr>\n      <th>60</th>\n      <td>Francisco Santos</td>\n      <td>379.59</td>\n    </tr>\n    <tr>\n      <th>61</th>\n      <td>Juliana Costa</td>\n      <td>485.00</td>\n    </tr>\n    <tr>\n      <th>62</th>\n      <td>Fernanda Oliveira</td>\n      <td>225.19</td>\n    </tr>\n    <tr>\n      <th>63</th>\n      <td>Márcia Silva</td>\n      <td>208.96</td>\n    </tr>\n    <tr>\n      <th>64</th>\n      <td>Lucas Oliveira</td>\n      <td>1113.00</td>\n    </tr>\n    <tr>\n      <th>65</th>\n      <td>Juliana Costa</td>\n      <td>1749.67</td>\n    </tr>\n    <tr>\n      <th>66</th>\n      <td>Lucas Oliveira</td>\n      <td>532.77</td>\n    </tr>\n    <tr>\n      <th>67</th>\n      <td>Fernanda Oliveira</td>\n      <td>1304.45</td>\n    </tr>\n  </tbody>\n</table>\n</div>"
     },
     "metadata": {},
     "execution_count": 30
    }
   ],
   "source": [
    "df_gastos_acum.head()"
   ]
  },
  {
   "cell_type": "code",
   "execution_count": 20,
   "metadata": {},
   "outputs": [
    {
     "output_type": "error",
     "ename": "KeyError",
     "evalue": "'nm_cliente'",
     "traceback": [
      "\u001b[1;31m---------------------------------------------------------------------------\u001b[0m",
      "\u001b[1;31mKeyError\u001b[0m                                  Traceback (most recent call last)",
      "\u001b[1;32m<ipython-input-20-db5be46ec4d2>\u001b[0m in \u001b[0;36m<module>\u001b[1;34m\u001b[0m\n\u001b[1;32m----> 1\u001b[1;33m \u001b[0mdf_gastos_acum\u001b[0m\u001b[1;33m.\u001b[0m\u001b[0mpivot_table\u001b[0m\u001b[1;33m(\u001b[0m\u001b[0mvalues\u001b[0m\u001b[1;33m=\u001b[0m\u001b[1;34m'valor_operacao'\u001b[0m\u001b[1;33m,\u001b[0m \u001b[0mindex\u001b[0m\u001b[1;33m=\u001b[0m\u001b[1;34m'nm_cliente'\u001b[0m\u001b[1;33m,\u001b[0m \u001b[0mcolumns\u001b[0m\u001b[1;33m=\u001b[0m\u001b[1;34m'dt_operacao'\u001b[0m\u001b[1;33m)\u001b[0m\u001b[1;33m\u001b[0m\u001b[1;33m\u001b[0m\u001b[0m\n\u001b[0m",
      "\u001b[1;32mC:\\python\\lib\\site-packages\\pandas\\core\\frame.py\u001b[0m in \u001b[0;36mpivot_table\u001b[1;34m(self, values, index, columns, aggfunc, fill_value, margins, dropna, margins_name, observed)\u001b[0m\n\u001b[0;32m   7029\u001b[0m         \u001b[1;32mfrom\u001b[0m \u001b[0mpandas\u001b[0m\u001b[1;33m.\u001b[0m\u001b[0mcore\u001b[0m\u001b[1;33m.\u001b[0m\u001b[0mreshape\u001b[0m\u001b[1;33m.\u001b[0m\u001b[0mpivot\u001b[0m \u001b[1;32mimport\u001b[0m \u001b[0mpivot_table\u001b[0m\u001b[1;33m\u001b[0m\u001b[1;33m\u001b[0m\u001b[0m\n\u001b[0;32m   7030\u001b[0m \u001b[1;33m\u001b[0m\u001b[0m\n\u001b[1;32m-> 7031\u001b[1;33m         return pivot_table(\n\u001b[0m\u001b[0;32m   7032\u001b[0m             \u001b[0mself\u001b[0m\u001b[1;33m,\u001b[0m\u001b[1;33m\u001b[0m\u001b[1;33m\u001b[0m\u001b[0m\n\u001b[0;32m   7033\u001b[0m             \u001b[0mvalues\u001b[0m\u001b[1;33m=\u001b[0m\u001b[0mvalues\u001b[0m\u001b[1;33m,\u001b[0m\u001b[1;33m\u001b[0m\u001b[1;33m\u001b[0m\u001b[0m\n",
      "\u001b[1;32mC:\\python\\lib\\site-packages\\pandas\\core\\reshape\\pivot.py\u001b[0m in \u001b[0;36mpivot_table\u001b[1;34m(data, values, index, columns, aggfunc, fill_value, margins, dropna, margins_name, observed)\u001b[0m\n\u001b[0;32m    110\u001b[0m         \u001b[0mvalues\u001b[0m \u001b[1;33m=\u001b[0m \u001b[0mlist\u001b[0m\u001b[1;33m(\u001b[0m\u001b[0mvalues\u001b[0m\u001b[1;33m)\u001b[0m\u001b[1;33m\u001b[0m\u001b[1;33m\u001b[0m\u001b[0m\n\u001b[0;32m    111\u001b[0m \u001b[1;33m\u001b[0m\u001b[0m\n\u001b[1;32m--> 112\u001b[1;33m     \u001b[0mgrouped\u001b[0m \u001b[1;33m=\u001b[0m \u001b[0mdata\u001b[0m\u001b[1;33m.\u001b[0m\u001b[0mgroupby\u001b[0m\u001b[1;33m(\u001b[0m\u001b[0mkeys\u001b[0m\u001b[1;33m,\u001b[0m \u001b[0mobserved\u001b[0m\u001b[1;33m=\u001b[0m\u001b[0mobserved\u001b[0m\u001b[1;33m)\u001b[0m\u001b[1;33m\u001b[0m\u001b[1;33m\u001b[0m\u001b[0m\n\u001b[0m\u001b[0;32m    113\u001b[0m     \u001b[0magged\u001b[0m \u001b[1;33m=\u001b[0m \u001b[0mgrouped\u001b[0m\u001b[1;33m.\u001b[0m\u001b[0magg\u001b[0m\u001b[1;33m(\u001b[0m\u001b[0maggfunc\u001b[0m\u001b[1;33m)\u001b[0m\u001b[1;33m\u001b[0m\u001b[1;33m\u001b[0m\u001b[0m\n\u001b[0;32m    114\u001b[0m     \u001b[1;32mif\u001b[0m \u001b[0mdropna\u001b[0m \u001b[1;32mand\u001b[0m \u001b[0misinstance\u001b[0m\u001b[1;33m(\u001b[0m\u001b[0magged\u001b[0m\u001b[1;33m,\u001b[0m \u001b[0mABCDataFrame\u001b[0m\u001b[1;33m)\u001b[0m \u001b[1;32mand\u001b[0m \u001b[0mlen\u001b[0m\u001b[1;33m(\u001b[0m\u001b[0magged\u001b[0m\u001b[1;33m.\u001b[0m\u001b[0mcolumns\u001b[0m\u001b[1;33m)\u001b[0m\u001b[1;33m:\u001b[0m\u001b[1;33m\u001b[0m\u001b[1;33m\u001b[0m\u001b[0m\n",
      "\u001b[1;32mC:\\python\\lib\\site-packages\\pandas\\core\\frame.py\u001b[0m in \u001b[0;36mgroupby\u001b[1;34m(self, by, axis, level, as_index, sort, group_keys, squeeze, observed, dropna)\u001b[0m\n\u001b[0;32m   6715\u001b[0m         \u001b[0maxis\u001b[0m \u001b[1;33m=\u001b[0m \u001b[0mself\u001b[0m\u001b[1;33m.\u001b[0m\u001b[0m_get_axis_number\u001b[0m\u001b[1;33m(\u001b[0m\u001b[0maxis\u001b[0m\u001b[1;33m)\u001b[0m\u001b[1;33m\u001b[0m\u001b[1;33m\u001b[0m\u001b[0m\n\u001b[0;32m   6716\u001b[0m \u001b[1;33m\u001b[0m\u001b[0m\n\u001b[1;32m-> 6717\u001b[1;33m         return DataFrameGroupBy(\n\u001b[0m\u001b[0;32m   6718\u001b[0m             \u001b[0mobj\u001b[0m\u001b[1;33m=\u001b[0m\u001b[0mself\u001b[0m\u001b[1;33m,\u001b[0m\u001b[1;33m\u001b[0m\u001b[1;33m\u001b[0m\u001b[0m\n\u001b[0;32m   6719\u001b[0m             \u001b[0mkeys\u001b[0m\u001b[1;33m=\u001b[0m\u001b[0mby\u001b[0m\u001b[1;33m,\u001b[0m\u001b[1;33m\u001b[0m\u001b[1;33m\u001b[0m\u001b[0m\n",
      "\u001b[1;32mC:\\python\\lib\\site-packages\\pandas\\core\\groupby\\groupby.py\u001b[0m in \u001b[0;36m__init__\u001b[1;34m(self, obj, keys, axis, level, grouper, exclusions, selection, as_index, sort, group_keys, squeeze, observed, mutated, dropna)\u001b[0m\n\u001b[0;32m    558\u001b[0m             \u001b[1;32mfrom\u001b[0m \u001b[0mpandas\u001b[0m\u001b[1;33m.\u001b[0m\u001b[0mcore\u001b[0m\u001b[1;33m.\u001b[0m\u001b[0mgroupby\u001b[0m\u001b[1;33m.\u001b[0m\u001b[0mgrouper\u001b[0m \u001b[1;32mimport\u001b[0m \u001b[0mget_grouper\u001b[0m\u001b[1;33m\u001b[0m\u001b[1;33m\u001b[0m\u001b[0m\n\u001b[0;32m    559\u001b[0m \u001b[1;33m\u001b[0m\u001b[0m\n\u001b[1;32m--> 560\u001b[1;33m             grouper, exclusions, obj = get_grouper(\n\u001b[0m\u001b[0;32m    561\u001b[0m                 \u001b[0mobj\u001b[0m\u001b[1;33m,\u001b[0m\u001b[1;33m\u001b[0m\u001b[1;33m\u001b[0m\u001b[0m\n\u001b[0;32m    562\u001b[0m                 \u001b[0mkeys\u001b[0m\u001b[1;33m,\u001b[0m\u001b[1;33m\u001b[0m\u001b[1;33m\u001b[0m\u001b[0m\n",
      "\u001b[1;32mC:\\python\\lib\\site-packages\\pandas\\core\\groupby\\grouper.py\u001b[0m in \u001b[0;36mget_grouper\u001b[1;34m(obj, key, axis, level, sort, observed, mutated, validate, dropna)\u001b[0m\n\u001b[0;32m    809\u001b[0m                 \u001b[0min_axis\u001b[0m\u001b[1;33m,\u001b[0m \u001b[0mname\u001b[0m\u001b[1;33m,\u001b[0m \u001b[0mlevel\u001b[0m\u001b[1;33m,\u001b[0m \u001b[0mgpr\u001b[0m \u001b[1;33m=\u001b[0m \u001b[1;32mFalse\u001b[0m\u001b[1;33m,\u001b[0m \u001b[1;32mNone\u001b[0m\u001b[1;33m,\u001b[0m \u001b[0mgpr\u001b[0m\u001b[1;33m,\u001b[0m \u001b[1;32mNone\u001b[0m\u001b[1;33m\u001b[0m\u001b[1;33m\u001b[0m\u001b[0m\n\u001b[0;32m    810\u001b[0m             \u001b[1;32melse\u001b[0m\u001b[1;33m:\u001b[0m\u001b[1;33m\u001b[0m\u001b[1;33m\u001b[0m\u001b[0m\n\u001b[1;32m--> 811\u001b[1;33m                 \u001b[1;32mraise\u001b[0m \u001b[0mKeyError\u001b[0m\u001b[1;33m(\u001b[0m\u001b[0mgpr\u001b[0m\u001b[1;33m)\u001b[0m\u001b[1;33m\u001b[0m\u001b[1;33m\u001b[0m\u001b[0m\n\u001b[0m\u001b[0;32m    812\u001b[0m         \u001b[1;32melif\u001b[0m \u001b[0misinstance\u001b[0m\u001b[1;33m(\u001b[0m\u001b[0mgpr\u001b[0m\u001b[1;33m,\u001b[0m \u001b[0mGrouper\u001b[0m\u001b[1;33m)\u001b[0m \u001b[1;32mand\u001b[0m \u001b[0mgpr\u001b[0m\u001b[1;33m.\u001b[0m\u001b[0mkey\u001b[0m \u001b[1;32mis\u001b[0m \u001b[1;32mnot\u001b[0m \u001b[1;32mNone\u001b[0m\u001b[1;33m:\u001b[0m\u001b[1;33m\u001b[0m\u001b[1;33m\u001b[0m\u001b[0m\n\u001b[0;32m    813\u001b[0m             \u001b[1;31m# Add key to exclusions\u001b[0m\u001b[1;33m\u001b[0m\u001b[1;33m\u001b[0m\u001b[1;33m\u001b[0m\u001b[0m\n",
      "\u001b[1;31mKeyError\u001b[0m: 'nm_cliente'"
     ]
    }
   ],
   "source": [
    "df_gastos_acum.pivot_table(values='valor_operacao', index='nm_cliente', columns='dt_operacao')"
   ]
  },
  {
   "cell_type": "code",
   "execution_count": null,
   "metadata": {},
   "outputs": [],
   "source": []
  }
 ]
}