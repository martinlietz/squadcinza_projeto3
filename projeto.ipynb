{
 "cells": [
  {
   "cell_type": "markdown",
   "metadata": {},
   "source": [
    "## Projeto 3 - Alexandre, Gabriel, Martin, Pedro, Thiago"
   ]
  },
  {
   "cell_type": "code",
   "execution_count": 1,
   "metadata": {
    "executionInfo": {
     "elapsed": 236,
     "status": "ok",
     "timestamp": 1624285598192,
     "user": {
      "displayName": "Thiago Oliveira",
      "photoUrl": "",
      "userId": "16792580446587139449"
     },
     "user_tz": 180
    },
    "id": "R5k7LAY4n-TA"
   },
   "outputs": [],
   "source": [
    "import pandas as pd\n",
    "import numpy as np\n",
    "\n",
    "import matplotlib.pyplot as plt\n",
    "import seaborn as sns\n",
    "\n",
    "import datetime as dt\n",
    "from dateutil.relativedelta import relativedelta"
   ]
  },
  {
   "cell_type": "markdown",
   "metadata": {
    "id": "SJYzKK22n-TF"
   },
   "source": [
    "Vamos carregar os dados"
   ]
  },
  {
   "cell_type": "code",
   "execution_count": 2,
   "metadata": {
    "colab": {
     "base_uri": "https://localhost:8080/"
    },
    "executionInfo": {
     "elapsed": 762,
     "status": "ok",
     "timestamp": 1624285599376,
     "user": {
      "displayName": "Thiago Oliveira",
      "photoUrl": "",
      "userId": "16792580446587139449"
     },
     "user_tz": 180
    },
    "id": "AwJ7nanwoejY",
    "outputId": "d4961a4a-c67f-4c78-f9d5-989d89fd7c29"
   },
   "outputs": [],
   "source": [
    "# from google.colab import drive\n",
    "# drive.mount('/content/drive')"
   ]
  },
  {
   "cell_type": "code",
   "execution_count": 3,
   "metadata": {
    "executionInfo": {
     "elapsed": 146,
     "status": "ok",
     "timestamp": 1624285599378,
     "user": {
      "displayName": "Thiago Oliveira",
      "photoUrl": "",
      "userId": "16792580446587139449"
     },
     "user_tz": 180
    },
    "id": "t5tq4KvVn-TG"
   },
   "outputs": [],
   "source": [
    "# df_limites = pd.read_excel('/content/drive/MyDrive/PI DATA SCIENCE/Módulo 3/PROJETO MÓDULO 3/squadcinza_projeto3/gastos_limites.xlsx', sheet_name='limites')\n",
    "# df_gastos = pd.read_excel('/content/drive/MyDrive/PI DATA SCIENCE/Módulo 3/PROJETO MÓDULO 3/squadcinza_projeto3/gastos_limites.xlsx', sheet_name='gastos')"
   ]
  },
  {
   "cell_type": "code",
   "execution_count": 4,
   "metadata": {},
   "outputs": [],
   "source": [
    "df_limites = pd.read_excel('gastos_limites.xlsx', sheet_name='limites')\n",
    "df_gastos = pd.read_excel('gastos_limites.xlsx', sheet_name='gastos')"
   ]
  },
  {
   "cell_type": "markdown",
   "metadata": {
    "id": "z4IbnBCrn-TG"
   },
   "source": [
    "Realizada a limpeza de dados do limite, arrumando a data, retirando símbolos, alterando ',' por '.', etc. Deixando os dados aptos para o uso."
   ]
  },
  {
   "cell_type": "code",
   "execution_count": 5,
   "metadata": {
    "executionInfo": {
     "elapsed": 145,
     "status": "ok",
     "timestamp": 1624285599379,
     "user": {
      "displayName": "Thiago Oliveira",
      "photoUrl": "",
      "userId": "16792580446587139449"
     },
     "user_tz": 180
    },
    "id": "m5S5lfwhn-TH"
   },
   "outputs": [],
   "source": [
    "df_limites['dt_fechamento'] = pd.to_datetime(df_limites.dt_fechamento, format=\"%d-%m-%y\")\n",
    "df_limites['limite'] = df_limites['limite'].str.replace('$','', regex=False)\n",
    "df_limites['limite'] = df_limites['limite'].str.replace('R ','')\n",
    "df_limites['limite'] = df_limites['limite'].str.replace(',','.')\n",
    "df_limites['limite'] = pd.to_numeric(df_limites['limite'])\n",
    "df_limites['cliente'] = df_limites['cliente'].str.title()\n",
    "df_limites['cliente'] = df_limites['cliente'].str.strip()"
   ]
  },
  {
   "cell_type": "code",
   "execution_count": 6,
   "metadata": {
    "colab": {
     "base_uri": "https://localhost:8080/"
    },
    "executionInfo": {
     "elapsed": 145,
     "status": "ok",
     "timestamp": 1624285599380,
     "user": {
      "displayName": "Thiago Oliveira",
      "photoUrl": "",
      "userId": "16792580446587139449"
     },
     "user_tz": 180
    },
    "id": "Wn4NATaan-TI",
    "outputId": "401aaf99-8acb-43cf-dd56-2e39cee959c7"
   },
   "outputs": [
    {
     "data": {
      "text/plain": [
       "Unnamed: 0       0\n",
       "cliente          0\n",
       "limite           0\n",
       "dt_fechamento    0\n",
       "dtype: int64"
      ]
     },
     "execution_count": 6,
     "metadata": {},
     "output_type": "execute_result"
    }
   ],
   "source": [
    "df_limites.isnull().sum()"
   ]
  },
  {
   "cell_type": "markdown",
   "metadata": {
    "id": "E6SUGDG7n-TM"
   },
   "source": [
    "Realizada a limpeza de dados dos gastos, arrumando a data, retirando símbolos, alterando ',' por '.', etc. Deixando os dados aptos para o uso."
   ]
  },
  {
   "cell_type": "code",
   "execution_count": 7,
   "metadata": {
    "executionInfo": {
     "elapsed": 120,
     "status": "ok",
     "timestamp": 1624285599381,
     "user": {
      "displayName": "Thiago Oliveira",
      "photoUrl": "",
      "userId": "16792580446587139449"
     },
     "user_tz": 180
    },
    "id": "2axGQIsln-TN"
   },
   "outputs": [],
   "source": [
    "df_gastos['dt_operacao'] = pd.to_datetime(df_gastos.dt_operacao, format=\"%d-%m-%y\")\n",
    "df_gastos['valor_operacao'] = df_gastos['valor_operacao'].str.replace('$','', regex=False)\n",
    "df_gastos['valor_operacao'] = df_gastos['valor_operacao'].str.replace('R ','')\n",
    "df_gastos['valor_operacao'] = df_gastos['valor_operacao'].str.replace(',','.')\n",
    "df_gastos['valor_operacao'] = pd.to_numeric(df_gastos['valor_operacao']) \n",
    "df_gastos['mes_atual'] = pd.to_datetime(df_gastos.mes_atual, format='%b/%y')\n",
    "df_gastos['nm_cliente'] = df_gastos['nm_cliente'].str.title()\n",
    "df_gastos['nm_cliente'] = df_gastos['nm_cliente'].str.strip()"
   ]
  },
  {
   "cell_type": "markdown",
   "metadata": {},
   "source": [
    "Função lambda para inverter o Nome, caso contenha a vírgula, pois quando isso ocorre, o Sobrenome vem antes da vírgula."
   ]
  },
  {
   "cell_type": "code",
   "execution_count": 8,
   "metadata": {
    "executionInfo": {
     "elapsed": 119,
     "status": "ok",
     "timestamp": 1624285599382,
     "user": {
      "displayName": "Thiago Oliveira",
      "photoUrl": "",
      "userId": "16792580446587139449"
     },
     "user_tz": 180
    },
    "id": "sHC5gOQAn-TP"
   },
   "outputs": [],
   "source": [
    "inverteNome = lambda s : s.split(', ')[1] + ' ' +  s.split(', ')[0] if ', ' in s else s\n"
   ]
  },
  {
   "cell_type": "markdown",
   "metadata": {},
   "source": [
    "Aplicada a função lambda em df_gastos e df_limites, utilizando o apply, deixando todos os nomes dos cliente na forma: Nome Sobrenome"
   ]
  },
  {
   "cell_type": "code",
   "execution_count": 9,
   "metadata": {
    "executionInfo": {
     "elapsed": 119,
     "status": "ok",
     "timestamp": 1624285599383,
     "user": {
      "displayName": "Thiago Oliveira",
      "photoUrl": "",
      "userId": "16792580446587139449"
     },
     "user_tz": 180
    },
    "id": "8iqiuty3n-TQ"
   },
   "outputs": [],
   "source": [
    "df_gastos['nm_cliente'] = df_gastos['nm_cliente'].apply(inverteNome)\n",
    "df_limites['cliente'] = df_limites['cliente'].apply(inverteNome)"
   ]
  },
  {
   "cell_type": "code",
   "execution_count": 10,
   "metadata": {
    "colab": {
     "base_uri": "https://localhost:8080/"
    },
    "executionInfo": {
     "elapsed": 118,
     "status": "ok",
     "timestamp": 1624285599384,
     "user": {
      "displayName": "Thiago Oliveira",
      "photoUrl": "",
      "userId": "16792580446587139449"
     },
     "user_tz": 180
    },
    "id": "hLmRKXgnn-TQ",
    "outputId": "40ed2677-6fb4-4d48-89ad-0022b0ac83c2"
   },
   "outputs": [
    {
     "data": {
      "text/plain": [
       "Unnamed: 0        0\n",
       "nm_cliente        0\n",
       "valor_operacao    0\n",
       "num_parcelas      0\n",
       "dt_operacao       0\n",
       "mes_atual         0\n",
       "dtype: int64"
      ]
     },
     "execution_count": 10,
     "metadata": {},
     "output_type": "execute_result"
    }
   ],
   "source": [
    "df_gastos.isnull().sum()"
   ]
  },
  {
   "cell_type": "code",
   "execution_count": 11,
   "metadata": {
    "colab": {
     "base_uri": "https://localhost:8080/"
    },
    "executionInfo": {
     "elapsed": 96,
     "status": "ok",
     "timestamp": 1624285599385,
     "user": {
      "displayName": "Thiago Oliveira",
      "photoUrl": "",
      "userId": "16792580446587139449"
     },
     "user_tz": 180
    },
    "id": "8YR3fLhVn-TS",
    "outputId": "1ba1171b-0c66-405b-8db5-69150df3e962"
   },
   "outputs": [
    {
     "name": "stdout",
     "output_type": "stream",
     "text": [
      "<class 'pandas.core.frame.DataFrame'>\n",
      "RangeIndex: 20 entries, 0 to 19\n",
      "Data columns (total 4 columns):\n",
      " #   Column         Non-Null Count  Dtype         \n",
      "---  ------         --------------  -----         \n",
      " 0   Unnamed: 0     20 non-null     int64         \n",
      " 1   cliente        20 non-null     object        \n",
      " 2   limite         20 non-null     float64       \n",
      " 3   dt_fechamento  20 non-null     datetime64[ns]\n",
      "dtypes: datetime64[ns](1), float64(1), int64(1), object(1)\n",
      "memory usage: 768.0+ bytes\n"
     ]
    }
   ],
   "source": [
    "df_limites.info()"
   ]
  },
  {
   "cell_type": "code",
   "execution_count": 12,
   "metadata": {
    "colab": {
     "base_uri": "https://localhost:8080/",
     "height": 204
    },
    "executionInfo": {
     "elapsed": 75,
     "status": "ok",
     "timestamp": 1624285599387,
     "user": {
      "displayName": "Thiago Oliveira",
      "photoUrl": "",
      "userId": "16792580446587139449"
     },
     "user_tz": 180
    },
    "id": "bDzcyz3yn-TU",
    "outputId": "78a0983d-a44b-443f-fd1c-e47a3d45f60e"
   },
   "outputs": [
    {
     "data": {
      "text/html": [
       "<div>\n",
       "<style scoped>\n",
       "    .dataframe tbody tr th:only-of-type {\n",
       "        vertical-align: middle;\n",
       "    }\n",
       "\n",
       "    .dataframe tbody tr th {\n",
       "        vertical-align: top;\n",
       "    }\n",
       "\n",
       "    .dataframe thead th {\n",
       "        text-align: right;\n",
       "    }\n",
       "</style>\n",
       "<table border=\"1\" class=\"dataframe\">\n",
       "  <thead>\n",
       "    <tr style=\"text-align: right;\">\n",
       "      <th></th>\n",
       "      <th>Unnamed: 0</th>\n",
       "      <th>cliente</th>\n",
       "      <th>limite</th>\n",
       "      <th>dt_fechamento</th>\n",
       "    </tr>\n",
       "  </thead>\n",
       "  <tbody>\n",
       "    <tr>\n",
       "      <th>0</th>\n",
       "      <td>0</td>\n",
       "      <td>João Silva</td>\n",
       "      <td>2575.0</td>\n",
       "      <td>2021-01-25</td>\n",
       "    </tr>\n",
       "    <tr>\n",
       "      <th>1</th>\n",
       "      <td>1</td>\n",
       "      <td>José Silva</td>\n",
       "      <td>4500.0</td>\n",
       "      <td>2021-01-05</td>\n",
       "    </tr>\n",
       "    <tr>\n",
       "      <th>2</th>\n",
       "      <td>2</td>\n",
       "      <td>Antônio Oliveira</td>\n",
       "      <td>2325.0</td>\n",
       "      <td>2021-01-25</td>\n",
       "    </tr>\n",
       "    <tr>\n",
       "      <th>3</th>\n",
       "      <td>3</td>\n",
       "      <td>Francisco Santos</td>\n",
       "      <td>375.0</td>\n",
       "      <td>2021-01-25</td>\n",
       "    </tr>\n",
       "    <tr>\n",
       "      <th>4</th>\n",
       "      <td>4</td>\n",
       "      <td>Carlos Rodrigues</td>\n",
       "      <td>2675.0</td>\n",
       "      <td>2021-01-05</td>\n",
       "    </tr>\n",
       "  </tbody>\n",
       "</table>\n",
       "</div>"
      ],
      "text/plain": [
       "   Unnamed: 0           cliente  limite dt_fechamento\n",
       "0           0        João Silva  2575.0    2021-01-25\n",
       "1           1        José Silva  4500.0    2021-01-05\n",
       "2           2  Antônio Oliveira  2325.0    2021-01-25\n",
       "3           3  Francisco Santos   375.0    2021-01-25\n",
       "4           4  Carlos Rodrigues  2675.0    2021-01-05"
      ]
     },
     "execution_count": 12,
     "metadata": {},
     "output_type": "execute_result"
    }
   ],
   "source": [
    "df_limites.head()"
   ]
  },
  {
   "cell_type": "code",
   "execution_count": 13,
   "metadata": {
    "colab": {
     "base_uri": "https://localhost:8080/"
    },
    "executionInfo": {
     "elapsed": 72,
     "status": "ok",
     "timestamp": 1624285599388,
     "user": {
      "displayName": "Thiago Oliveira",
      "photoUrl": "",
      "userId": "16792580446587139449"
     },
     "user_tz": 180
    },
    "id": "hLmE0OU4n-TV",
    "outputId": "ea9858d3-cd5b-4af1-dda9-905d9f1f0aa2"
   },
   "outputs": [
    {
     "name": "stdout",
     "output_type": "stream",
     "text": [
      "<class 'pandas.core.frame.DataFrame'>\n",
      "RangeIndex: 150 entries, 0 to 149\n",
      "Data columns (total 6 columns):\n",
      " #   Column          Non-Null Count  Dtype         \n",
      "---  ------          --------------  -----         \n",
      " 0   Unnamed: 0      150 non-null    int64         \n",
      " 1   nm_cliente      150 non-null    object        \n",
      " 2   valor_operacao  150 non-null    float64       \n",
      " 3   num_parcelas    150 non-null    int64         \n",
      " 4   dt_operacao     150 non-null    datetime64[ns]\n",
      " 5   mes_atual       150 non-null    datetime64[ns]\n",
      "dtypes: datetime64[ns](2), float64(1), int64(2), object(1)\n",
      "memory usage: 7.2+ KB\n"
     ]
    }
   ],
   "source": [
    "df_gastos.info()"
   ]
  },
  {
   "cell_type": "code",
   "execution_count": 14,
   "metadata": {
    "colab": {
     "base_uri": "https://localhost:8080/"
    },
    "executionInfo": {
     "elapsed": 49,
     "status": "ok",
     "timestamp": 1624285599389,
     "user": {
      "displayName": "Thiago Oliveira",
      "photoUrl": "",
      "userId": "16792580446587139449"
     },
     "user_tz": 180
    },
    "id": "2zb7J3eWn-TW",
    "outputId": "4dd7e89e-5c34-48c7-e8a1-f466cd89f7d4"
   },
   "outputs": [
    {
     "data": {
      "text/plain": [
       "array(['2021-01-01T00:00:00.000000000', '2021-01-02T00:00:00.000000000',\n",
       "       '2021-01-03T00:00:00.000000000', '2021-01-04T00:00:00.000000000',\n",
       "       '2021-01-05T00:00:00.000000000', '2021-01-06T00:00:00.000000000',\n",
       "       '2021-01-07T00:00:00.000000000', '2021-01-08T00:00:00.000000000',\n",
       "       '2021-01-09T00:00:00.000000000', '2021-01-10T00:00:00.000000000',\n",
       "       '2021-01-11T00:00:00.000000000', '2021-01-12T00:00:00.000000000',\n",
       "       '2021-01-13T00:00:00.000000000', '2021-01-14T00:00:00.000000000',\n",
       "       '2021-01-15T00:00:00.000000000', '2021-01-16T00:00:00.000000000',\n",
       "       '2021-01-17T00:00:00.000000000', '2021-01-18T00:00:00.000000000',\n",
       "       '2021-01-19T00:00:00.000000000', '2021-01-20T00:00:00.000000000',\n",
       "       '2021-01-21T00:00:00.000000000', '2021-01-22T00:00:00.000000000',\n",
       "       '2021-01-23T00:00:00.000000000', '2021-01-24T00:00:00.000000000',\n",
       "       '2021-01-25T00:00:00.000000000', '2021-01-26T00:00:00.000000000',\n",
       "       '2021-01-27T00:00:00.000000000', '2021-01-28T00:00:00.000000000',\n",
       "       '2021-01-29T00:00:00.000000000', '2021-01-30T00:00:00.000000000',\n",
       "       '2021-01-31T00:00:00.000000000'], dtype='datetime64[ns]')"
      ]
     },
     "execution_count": 14,
     "metadata": {},
     "output_type": "execute_result"
    }
   ],
   "source": [
    "df_gastos['dt_operacao'].unique()"
   ]
  },
  {
   "cell_type": "markdown",
   "metadata": {},
   "source": [
    "Agrupado o df_gastos pela data de operação, mostrando os clientes com o valor da operação"
   ]
  },
  {
   "cell_type": "code",
   "execution_count": 15,
   "metadata": {
    "executionInfo": {
     "elapsed": 650,
     "status": "ok",
     "timestamp": 1624285600013,
     "user": {
      "displayName": "Thiago Oliveira",
      "photoUrl": "",
      "userId": "16792580446587139449"
     },
     "user_tz": 180
    },
    "id": "ySCLnj01n-TY"
   },
   "outputs": [],
   "source": [
    "df_gastos_acum = df_gastos.groupby(df_gastos['dt_operacao'].dt.strftime('%B'))[['nm_cliente','valor_operacao']]"
   ]
  },
  {
   "cell_type": "code",
   "execution_count": 16,
   "metadata": {
    "colab": {
     "base_uri": "https://localhost:8080/",
     "height": 204
    },
    "executionInfo": {
     "elapsed": 233,
     "status": "ok",
     "timestamp": 1624285600014,
     "user": {
      "displayName": "Thiago Oliveira",
      "photoUrl": "",
      "userId": "16792580446587139449"
     },
     "user_tz": 180
    },
    "id": "8XgP7Xean-TZ",
    "outputId": "74a61207-2e1c-42a3-94d7-3827a641c1ef"
   },
   "outputs": [
    {
     "data": {
      "text/html": [
       "<div>\n",
       "<style scoped>\n",
       "    .dataframe tbody tr th:only-of-type {\n",
       "        vertical-align: middle;\n",
       "    }\n",
       "\n",
       "    .dataframe tbody tr th {\n",
       "        vertical-align: top;\n",
       "    }\n",
       "\n",
       "    .dataframe thead th {\n",
       "        text-align: right;\n",
       "    }\n",
       "</style>\n",
       "<table border=\"1\" class=\"dataframe\">\n",
       "  <thead>\n",
       "    <tr style=\"text-align: right;\">\n",
       "      <th></th>\n",
       "      <th>nm_cliente</th>\n",
       "      <th>valor_operacao</th>\n",
       "    </tr>\n",
       "  </thead>\n",
       "  <tbody>\n",
       "    <tr>\n",
       "      <th>0</th>\n",
       "      <td>Paulo Gomes</td>\n",
       "      <td>855.00</td>\n",
       "    </tr>\n",
       "    <tr>\n",
       "      <th>1</th>\n",
       "      <td>Camila Santos</td>\n",
       "      <td>504.18</td>\n",
       "    </tr>\n",
       "    <tr>\n",
       "      <th>2</th>\n",
       "      <td>Márcia Silva</td>\n",
       "      <td>970.00</td>\n",
       "    </tr>\n",
       "    <tr>\n",
       "      <th>3</th>\n",
       "      <td>Maria Alves</td>\n",
       "      <td>2010.31</td>\n",
       "    </tr>\n",
       "    <tr>\n",
       "      <th>4</th>\n",
       "      <td>Lucas Oliveira</td>\n",
       "      <td>465.00</td>\n",
       "    </tr>\n",
       "  </tbody>\n",
       "</table>\n",
       "</div>"
      ],
      "text/plain": [
       "       nm_cliente  valor_operacao\n",
       "0     Paulo Gomes          855.00\n",
       "1   Camila Santos          504.18\n",
       "2    Márcia Silva          970.00\n",
       "3     Maria Alves         2010.31\n",
       "4  Lucas Oliveira          465.00"
      ]
     },
     "execution_count": 16,
     "metadata": {},
     "output_type": "execute_result"
    }
   ],
   "source": [
    "df_gastos_acum.head()"
   ]
  },
  {
   "cell_type": "markdown",
   "metadata": {},
   "source": [
    "Divisão do valor da operação pela quantidade de parcelas indicadas no momento da compra, arrendondando para 2 casas decimais, quando necessário."
   ]
  },
  {
   "cell_type": "code",
   "execution_count": 17,
   "metadata": {
    "executionInfo": {
     "elapsed": 230,
     "status": "ok",
     "timestamp": 1624285600015,
     "user": {
      "displayName": "Thiago Oliveira",
      "photoUrl": "",
      "userId": "16792580446587139449"
     },
     "user_tz": 180
    },
    "id": "oGcPA4bTn-Ta"
   },
   "outputs": [],
   "source": [
    "df_gastos['valor_parcela']=round((df_gastos['valor_operacao']/df_gastos['num_parcelas']),2)"
   ]
  },
  {
   "cell_type": "code",
   "execution_count": 18,
   "metadata": {
    "colab": {
     "base_uri": "https://localhost:8080/",
     "height": 359
    },
    "executionInfo": {
     "elapsed": 229,
     "status": "ok",
     "timestamp": 1624285600016,
     "user": {
      "displayName": "Thiago Oliveira",
      "photoUrl": "",
      "userId": "16792580446587139449"
     },
     "user_tz": 180
    },
    "id": "KK7w9Ia4n-Tb",
    "outputId": "8377c3b9-62b4-4bf4-d8e6-7efb87de6df1"
   },
   "outputs": [
    {
     "data": {
      "text/html": [
       "<div>\n",
       "<style scoped>\n",
       "    .dataframe tbody tr th:only-of-type {\n",
       "        vertical-align: middle;\n",
       "    }\n",
       "\n",
       "    .dataframe tbody tr th {\n",
       "        vertical-align: top;\n",
       "    }\n",
       "\n",
       "    .dataframe thead th {\n",
       "        text-align: right;\n",
       "    }\n",
       "</style>\n",
       "<table border=\"1\" class=\"dataframe\">\n",
       "  <thead>\n",
       "    <tr style=\"text-align: right;\">\n",
       "      <th></th>\n",
       "      <th>Unnamed: 0</th>\n",
       "      <th>cliente</th>\n",
       "      <th>limite</th>\n",
       "      <th>dt_fechamento</th>\n",
       "    </tr>\n",
       "  </thead>\n",
       "  <tbody>\n",
       "    <tr>\n",
       "      <th>12</th>\n",
       "      <td>12</td>\n",
       "      <td>Adriana Pereira</td>\n",
       "      <td>1875.0</td>\n",
       "      <td>2021-01-05</td>\n",
       "    </tr>\n",
       "    <tr>\n",
       "      <th>17</th>\n",
       "      <td>17</td>\n",
       "      <td>Aline Rodrigues</td>\n",
       "      <td>2600.0</td>\n",
       "      <td>2021-01-15</td>\n",
       "    </tr>\n",
       "    <tr>\n",
       "      <th>11</th>\n",
       "      <td>11</td>\n",
       "      <td>Ana Costa</td>\n",
       "      <td>5375.0</td>\n",
       "      <td>2021-01-25</td>\n",
       "    </tr>\n",
       "    <tr>\n",
       "      <th>2</th>\n",
       "      <td>2</td>\n",
       "      <td>Antônio Oliveira</td>\n",
       "      <td>2325.0</td>\n",
       "      <td>2021-01-25</td>\n",
       "    </tr>\n",
       "    <tr>\n",
       "      <th>19</th>\n",
       "      <td>19</td>\n",
       "      <td>Camila Santos</td>\n",
       "      <td>3275.0</td>\n",
       "      <td>2021-01-15</td>\n",
       "    </tr>\n",
       "    <tr>\n",
       "      <th>4</th>\n",
       "      <td>4</td>\n",
       "      <td>Carlos Rodrigues</td>\n",
       "      <td>2675.0</td>\n",
       "      <td>2021-01-05</td>\n",
       "    </tr>\n",
       "    <tr>\n",
       "      <th>15</th>\n",
       "      <td>15</td>\n",
       "      <td>Fernanda Oliveira</td>\n",
       "      <td>2925.0</td>\n",
       "      <td>2021-01-05</td>\n",
       "    </tr>\n",
       "    <tr>\n",
       "      <th>3</th>\n",
       "      <td>3</td>\n",
       "      <td>Francisco Santos</td>\n",
       "      <td>375.0</td>\n",
       "      <td>2021-01-25</td>\n",
       "    </tr>\n",
       "    <tr>\n",
       "      <th>1</th>\n",
       "      <td>1</td>\n",
       "      <td>José Silva</td>\n",
       "      <td>4500.0</td>\n",
       "      <td>2021-01-05</td>\n",
       "    </tr>\n",
       "    <tr>\n",
       "      <th>0</th>\n",
       "      <td>0</td>\n",
       "      <td>João Silva</td>\n",
       "      <td>2575.0</td>\n",
       "      <td>2021-01-25</td>\n",
       "    </tr>\n",
       "  </tbody>\n",
       "</table>\n",
       "</div>"
      ],
      "text/plain": [
       "    Unnamed: 0            cliente  limite dt_fechamento\n",
       "12          12    Adriana Pereira  1875.0    2021-01-05\n",
       "17          17    Aline Rodrigues  2600.0    2021-01-15\n",
       "11          11          Ana Costa  5375.0    2021-01-25\n",
       "2            2   Antônio Oliveira  2325.0    2021-01-25\n",
       "19          19      Camila Santos  3275.0    2021-01-15\n",
       "4            4   Carlos Rodrigues  2675.0    2021-01-05\n",
       "15          15  Fernanda Oliveira  2925.0    2021-01-05\n",
       "3            3   Francisco Santos   375.0    2021-01-25\n",
       "1            1         José Silva  4500.0    2021-01-05\n",
       "0            0         João Silva  2575.0    2021-01-25"
      ]
     },
     "execution_count": 18,
     "metadata": {},
     "output_type": "execute_result"
    }
   ],
   "source": [
    "df_limites.sort_values(by='cliente').head(10)"
   ]
  },
  {
   "cell_type": "code",
   "execution_count": 19,
   "metadata": {
    "colab": {
     "base_uri": "https://localhost:8080/",
     "height": 359
    },
    "executionInfo": {
     "elapsed": 227,
     "status": "ok",
     "timestamp": 1624285600017,
     "user": {
      "displayName": "Thiago Oliveira",
      "photoUrl": "",
      "userId": "16792580446587139449"
     },
     "user_tz": 180
    },
    "id": "9he1Vidbn-Td",
    "outputId": "7b02cca0-ee43-4966-e1c5-2746640fffbe"
   },
   "outputs": [
    {
     "data": {
      "text/html": [
       "<div>\n",
       "<style scoped>\n",
       "    .dataframe tbody tr th:only-of-type {\n",
       "        vertical-align: middle;\n",
       "    }\n",
       "\n",
       "    .dataframe tbody tr th {\n",
       "        vertical-align: top;\n",
       "    }\n",
       "\n",
       "    .dataframe thead th {\n",
       "        text-align: right;\n",
       "    }\n",
       "</style>\n",
       "<table border=\"1\" class=\"dataframe\">\n",
       "  <thead>\n",
       "    <tr style=\"text-align: right;\">\n",
       "      <th></th>\n",
       "      <th>Unnamed: 0</th>\n",
       "      <th>nm_cliente</th>\n",
       "      <th>valor_operacao</th>\n",
       "      <th>num_parcelas</th>\n",
       "      <th>dt_operacao</th>\n",
       "      <th>mes_atual</th>\n",
       "      <th>valor_parcela</th>\n",
       "    </tr>\n",
       "  </thead>\n",
       "  <tbody>\n",
       "    <tr>\n",
       "      <th>74</th>\n",
       "      <td>74</td>\n",
       "      <td>Adriana Pereira</td>\n",
       "      <td>63.88</td>\n",
       "      <td>1</td>\n",
       "      <td>2021-01-14</td>\n",
       "      <td>2021-01-01</td>\n",
       "      <td>63.88</td>\n",
       "    </tr>\n",
       "    <tr>\n",
       "      <th>145</th>\n",
       "      <td>145</td>\n",
       "      <td>Adriana Pereira</td>\n",
       "      <td>1084.58</td>\n",
       "      <td>10</td>\n",
       "      <td>2021-01-30</td>\n",
       "      <td>2021-01-01</td>\n",
       "      <td>108.46</td>\n",
       "    </tr>\n",
       "    <tr>\n",
       "      <th>118</th>\n",
       "      <td>118</td>\n",
       "      <td>Adriana Pereira</td>\n",
       "      <td>1464.84</td>\n",
       "      <td>2</td>\n",
       "      <td>2021-01-25</td>\n",
       "      <td>2021-01-01</td>\n",
       "      <td>732.42</td>\n",
       "    </tr>\n",
       "    <tr>\n",
       "      <th>71</th>\n",
       "      <td>71</td>\n",
       "      <td>Adriana Pereira</td>\n",
       "      <td>2036.00</td>\n",
       "      <td>3</td>\n",
       "      <td>2021-01-14</td>\n",
       "      <td>2021-01-01</td>\n",
       "      <td>678.67</td>\n",
       "    </tr>\n",
       "    <tr>\n",
       "      <th>135</th>\n",
       "      <td>135</td>\n",
       "      <td>Adriana Pereira</td>\n",
       "      <td>2056.00</td>\n",
       "      <td>1</td>\n",
       "      <td>2021-01-28</td>\n",
       "      <td>2021-01-01</td>\n",
       "      <td>2056.00</td>\n",
       "    </tr>\n",
       "    <tr>\n",
       "      <th>126</th>\n",
       "      <td>126</td>\n",
       "      <td>Adriana Pereira</td>\n",
       "      <td>247.98</td>\n",
       "      <td>3</td>\n",
       "      <td>2021-01-26</td>\n",
       "      <td>2021-01-01</td>\n",
       "      <td>82.66</td>\n",
       "    </tr>\n",
       "    <tr>\n",
       "      <th>68</th>\n",
       "      <td>68</td>\n",
       "      <td>Adriana Pereira</td>\n",
       "      <td>764.42</td>\n",
       "      <td>3</td>\n",
       "      <td>2021-01-13</td>\n",
       "      <td>2021-01-01</td>\n",
       "      <td>254.81</td>\n",
       "    </tr>\n",
       "    <tr>\n",
       "      <th>130</th>\n",
       "      <td>130</td>\n",
       "      <td>Adriana Pereira</td>\n",
       "      <td>155.56</td>\n",
       "      <td>4</td>\n",
       "      <td>2021-01-27</td>\n",
       "      <td>2021-01-01</td>\n",
       "      <td>38.89</td>\n",
       "    </tr>\n",
       "    <tr>\n",
       "      <th>33</th>\n",
       "      <td>33</td>\n",
       "      <td>Aline Rodrigues</td>\n",
       "      <td>234.00</td>\n",
       "      <td>5</td>\n",
       "      <td>2021-01-06</td>\n",
       "      <td>2021-01-01</td>\n",
       "      <td>46.80</td>\n",
       "    </tr>\n",
       "    <tr>\n",
       "      <th>56</th>\n",
       "      <td>56</td>\n",
       "      <td>Aline Rodrigues</td>\n",
       "      <td>281.00</td>\n",
       "      <td>1</td>\n",
       "      <td>2021-01-10</td>\n",
       "      <td>2021-01-01</td>\n",
       "      <td>281.00</td>\n",
       "    </tr>\n",
       "  </tbody>\n",
       "</table>\n",
       "</div>"
      ],
      "text/plain": [
       "     Unnamed: 0       nm_cliente  valor_operacao  num_parcelas dt_operacao  \\\n",
       "74           74  Adriana Pereira           63.88             1  2021-01-14   \n",
       "145         145  Adriana Pereira         1084.58            10  2021-01-30   \n",
       "118         118  Adriana Pereira         1464.84             2  2021-01-25   \n",
       "71           71  Adriana Pereira         2036.00             3  2021-01-14   \n",
       "135         135  Adriana Pereira         2056.00             1  2021-01-28   \n",
       "126         126  Adriana Pereira          247.98             3  2021-01-26   \n",
       "68           68  Adriana Pereira          764.42             3  2021-01-13   \n",
       "130         130  Adriana Pereira          155.56             4  2021-01-27   \n",
       "33           33  Aline Rodrigues          234.00             5  2021-01-06   \n",
       "56           56  Aline Rodrigues          281.00             1  2021-01-10   \n",
       "\n",
       "     mes_atual  valor_parcela  \n",
       "74  2021-01-01          63.88  \n",
       "145 2021-01-01         108.46  \n",
       "118 2021-01-01         732.42  \n",
       "71  2021-01-01         678.67  \n",
       "135 2021-01-01        2056.00  \n",
       "126 2021-01-01          82.66  \n",
       "68  2021-01-01         254.81  \n",
       "130 2021-01-01          38.89  \n",
       "33  2021-01-01          46.80  \n",
       "56  2021-01-01         281.00  "
      ]
     },
     "execution_count": 19,
     "metadata": {},
     "output_type": "execute_result"
    }
   ],
   "source": [
    "df_gastos.sort_values(by='nm_cliente').head(10)"
   ]
  },
  {
   "cell_type": "markdown",
   "metadata": {},
   "source": [
    "Realizada a junção do df_gastos com o df_limites, utilizando como chave primária o nome do cliente, assim, teremos os dados que queremos em um único df"
   ]
  },
  {
   "cell_type": "code",
   "execution_count": 20,
   "metadata": {
    "colab": {
     "base_uri": "https://localhost:8080/"
    },
    "executionInfo": {
     "elapsed": 224,
     "status": "ok",
     "timestamp": 1624285600018,
     "user": {
      "displayName": "Thiago Oliveira",
      "photoUrl": "",
      "userId": "16792580446587139449"
     },
     "user_tz": 180
    },
    "id": "NcR0yhbIn-Te",
    "outputId": "e79709ab-cb08-40c4-e308-2d39bc99dfb0"
   },
   "outputs": [
    {
     "data": {
      "text/plain": [
       "Index(['Unnamed: 0_x', 'cliente', 'limite', 'dt_fechamento', 'Unnamed: 0_y',\n",
       "       'nm_cliente', 'valor_operacao', 'num_parcelas', 'dt_operacao',\n",
       "       'mes_atual', 'valor_parcela'],\n",
       "      dtype='object')"
      ]
     },
     "execution_count": 20,
     "metadata": {},
     "output_type": "execute_result"
    }
   ],
   "source": [
    "df_total = df_limites.merge(df_gastos, left_on='cliente', right_on='nm_cliente', how='left')\n",
    "df_total.columns\n"
   ]
  },
  {
   "cell_type": "code",
   "execution_count": 21,
   "metadata": {
    "colab": {
     "base_uri": "https://localhost:8080/"
    },
    "executionInfo": {
     "elapsed": 200,
     "status": "ok",
     "timestamp": 1624285600019,
     "user": {
      "displayName": "Thiago Oliveira",
      "photoUrl": "",
      "userId": "16792580446587139449"
     },
     "user_tz": 180
    },
    "id": "ZAcItOoFn-Tf",
    "outputId": "ac4789e9-e7ac-439c-9587-5e0fcbb70e0c"
   },
   "outputs": [
    {
     "data": {
      "text/plain": [
       "20"
      ]
     },
     "execution_count": 21,
     "metadata": {},
     "output_type": "execute_result"
    }
   ],
   "source": [
    "len(df_total['cliente'].unique().tolist())"
   ]
  },
  {
   "cell_type": "code",
   "execution_count": 22,
   "metadata": {
    "colab": {
     "base_uri": "https://localhost:8080/"
    },
    "executionInfo": {
     "elapsed": 179,
     "status": "ok",
     "timestamp": 1624285600021,
     "user": {
      "displayName": "Thiago Oliveira",
      "photoUrl": "",
      "userId": "16792580446587139449"
     },
     "user_tz": 180
    },
    "id": "Qap-ngYGn-Tg",
    "outputId": "ba30dee4-dfa6-4463-a194-a78360cbffd1"
   },
   "outputs": [
    {
     "data": {
      "text/plain": [
       "20"
      ]
     },
     "execution_count": 22,
     "metadata": {},
     "output_type": "execute_result"
    }
   ],
   "source": [
    "len(df_gastos['nm_cliente'].unique().tolist())"
   ]
  },
  {
   "cell_type": "code",
   "execution_count": 23,
   "metadata": {
    "executionInfo": {
     "elapsed": 157,
     "status": "ok",
     "timestamp": 1624285600022,
     "user": {
      "displayName": "Thiago Oliveira",
      "photoUrl": "",
      "userId": "16792580446587139449"
     },
     "user_tz": 180
    },
    "id": "sHd3rG3Hn-Th"
   },
   "outputs": [],
   "source": [
    "df_total.drop(df_total.columns[df_total.columns.str.contains('unnamed',case = False)],axis = 1, inplace = True)"
   ]
  },
  {
   "cell_type": "code",
   "execution_count": 24,
   "metadata": {
    "colab": {
     "base_uri": "https://localhost:8080/",
     "height": 233
    },
    "executionInfo": {
     "elapsed": 157,
     "status": "ok",
     "timestamp": 1624285600024,
     "user": {
      "displayName": "Thiago Oliveira",
      "photoUrl": "",
      "userId": "16792580446587139449"
     },
     "user_tz": 180
    },
    "id": "Z5s16FhKn-Ti",
    "outputId": "566f0938-781a-42b5-98b5-9d10f0957779"
   },
   "outputs": [
    {
     "data": {
      "text/html": [
       "<div>\n",
       "<style scoped>\n",
       "    .dataframe tbody tr th:only-of-type {\n",
       "        vertical-align: middle;\n",
       "    }\n",
       "\n",
       "    .dataframe tbody tr th {\n",
       "        vertical-align: top;\n",
       "    }\n",
       "\n",
       "    .dataframe thead th {\n",
       "        text-align: right;\n",
       "    }\n",
       "</style>\n",
       "<table border=\"1\" class=\"dataframe\">\n",
       "  <thead>\n",
       "    <tr style=\"text-align: right;\">\n",
       "      <th></th>\n",
       "      <th>cliente</th>\n",
       "      <th>limite</th>\n",
       "      <th>dt_fechamento</th>\n",
       "      <th>nm_cliente</th>\n",
       "      <th>valor_operacao</th>\n",
       "      <th>num_parcelas</th>\n",
       "      <th>dt_operacao</th>\n",
       "      <th>mes_atual</th>\n",
       "      <th>valor_parcela</th>\n",
       "    </tr>\n",
       "  </thead>\n",
       "  <tbody>\n",
       "    <tr>\n",
       "      <th>0</th>\n",
       "      <td>João Silva</td>\n",
       "      <td>2575.0</td>\n",
       "      <td>2021-01-25</td>\n",
       "      <td>João Silva</td>\n",
       "      <td>243.42</td>\n",
       "      <td>5</td>\n",
       "      <td>2021-01-03</td>\n",
       "      <td>2021-01-01</td>\n",
       "      <td>48.68</td>\n",
       "    </tr>\n",
       "    <tr>\n",
       "      <th>1</th>\n",
       "      <td>João Silva</td>\n",
       "      <td>2575.0</td>\n",
       "      <td>2021-01-25</td>\n",
       "      <td>João Silva</td>\n",
       "      <td>1121.00</td>\n",
       "      <td>8</td>\n",
       "      <td>2021-01-15</td>\n",
       "      <td>2021-01-01</td>\n",
       "      <td>140.12</td>\n",
       "    </tr>\n",
       "    <tr>\n",
       "      <th>2</th>\n",
       "      <td>João Silva</td>\n",
       "      <td>2575.0</td>\n",
       "      <td>2021-01-25</td>\n",
       "      <td>João Silva</td>\n",
       "      <td>611.00</td>\n",
       "      <td>4</td>\n",
       "      <td>2021-01-16</td>\n",
       "      <td>2021-01-01</td>\n",
       "      <td>152.75</td>\n",
       "    </tr>\n",
       "  </tbody>\n",
       "</table>\n",
       "</div>"
      ],
      "text/plain": [
       "      cliente  limite dt_fechamento  nm_cliente  valor_operacao  num_parcelas  \\\n",
       "0  João Silva  2575.0    2021-01-25  João Silva          243.42             5   \n",
       "1  João Silva  2575.0    2021-01-25  João Silva         1121.00             8   \n",
       "2  João Silva  2575.0    2021-01-25  João Silva          611.00             4   \n",
       "\n",
       "  dt_operacao  mes_atual  valor_parcela  \n",
       "0  2021-01-03 2021-01-01          48.68  \n",
       "1  2021-01-15 2021-01-01         140.12  \n",
       "2  2021-01-16 2021-01-01         152.75  "
      ]
     },
     "execution_count": 24,
     "metadata": {},
     "output_type": "execute_result"
    }
   ],
   "source": [
    "df_total.head(3)"
   ]
  },
  {
   "cell_type": "code",
   "execution_count": 25,
   "metadata": {
    "colab": {
     "base_uri": "https://localhost:8080/"
    },
    "executionInfo": {
     "elapsed": 155,
     "status": "ok",
     "timestamp": 1624285600025,
     "user": {
      "displayName": "Thiago Oliveira",
      "photoUrl": "",
      "userId": "16792580446587139449"
     },
     "user_tz": 180
    },
    "id": "Gw2JiOjNn-Tj",
    "outputId": "38c87191-0a6e-4fa9-d7b0-f460515999a9"
   },
   "outputs": [
    {
     "data": {
      "text/plain": [
       "Index(['cliente', 'limite', 'dt_fechamento', 'nm_cliente', 'valor_operacao',\n",
       "       'num_parcelas', 'dt_operacao', 'mes_atual', 'valor_parcela'],\n",
       "      dtype='object')"
      ]
     },
     "execution_count": 25,
     "metadata": {},
     "output_type": "execute_result"
    }
   ],
   "source": [
    "df_total.columns"
   ]
  },
  {
   "cell_type": "code",
   "execution_count": 26,
   "metadata": {
    "executionInfo": {
     "elapsed": 132,
     "status": "ok",
     "timestamp": 1624285600026,
     "user": {
      "displayName": "Thiago Oliveira",
      "photoUrl": "",
      "userId": "16792580446587139449"
     },
     "user_tz": 180
    },
    "id": "Izikhovpn-Tk"
   },
   "outputs": [],
   "source": [
    "df_total_com_parcelas = pd.DataFrame(columns=['cliente', 'limite', 'dt_pagamento', 'valor_operacao',\n",
    "       'num_parcelas', 'num_parcela','dt_operacao', 'valor_parcela'])"
   ]
  },
  {
   "cell_type": "code",
   "execution_count": 27,
   "metadata": {
    "colab": {
     "base_uri": "https://localhost:8080/"
    },
    "executionInfo": {
     "elapsed": 132,
     "status": "ok",
     "timestamp": 1624285600027,
     "user": {
      "displayName": "Thiago Oliveira",
      "photoUrl": "",
      "userId": "16792580446587139449"
     },
     "user_tz": 180
    },
    "id": "RMkIdwGjn-Tl",
    "outputId": "070b540f-15be-4c3e-8047-40a45ca20c2c"
   },
   "outputs": [
    {
     "name": "stdout",
     "output_type": "stream",
     "text": [
      "<class 'pandas.core.frame.DataFrame'>\n",
      "Int64Index: 150 entries, 0 to 149\n",
      "Data columns (total 9 columns):\n",
      " #   Column          Non-Null Count  Dtype         \n",
      "---  ------          --------------  -----         \n",
      " 0   cliente         150 non-null    object        \n",
      " 1   limite          150 non-null    float64       \n",
      " 2   dt_fechamento   150 non-null    datetime64[ns]\n",
      " 3   nm_cliente      150 non-null    object        \n",
      " 4   valor_operacao  150 non-null    float64       \n",
      " 5   num_parcelas    150 non-null    int64         \n",
      " 6   dt_operacao     150 non-null    datetime64[ns]\n",
      " 7   mes_atual       150 non-null    datetime64[ns]\n",
      " 8   valor_parcela   150 non-null    float64       \n",
      "dtypes: datetime64[ns](3), float64(3), int64(1), object(2)\n",
      "memory usage: 11.7+ KB\n"
     ]
    }
   ],
   "source": [
    "df_total.info()\n",
    "\n"
   ]
  },
  {
   "cell_type": "code",
   "execution_count": 28,
   "metadata": {
    "colab": {
     "base_uri": "https://localhost:8080/"
    },
    "executionInfo": {
     "elapsed": 108,
     "status": "ok",
     "timestamp": 1624285600028,
     "user": {
      "displayName": "Thiago Oliveira",
      "photoUrl": "",
      "userId": "16792580446587139449"
     },
     "user_tz": 180
    },
    "id": "LnRF-tQyn-Tn",
    "outputId": "f7c44656-db17-4ab7-febc-c795265a1e57"
   },
   "outputs": [
    {
     "data": {
      "text/plain": [
       "cliente           0\n",
       "limite            0\n",
       "dt_fechamento     0\n",
       "nm_cliente        0\n",
       "valor_operacao    0\n",
       "num_parcelas      0\n",
       "dt_operacao       0\n",
       "mes_atual         0\n",
       "valor_parcela     0\n",
       "dtype: int64"
      ]
     },
     "execution_count": 28,
     "metadata": {},
     "output_type": "execute_result"
    }
   ],
   "source": [
    "df_total.isna().sum()"
   ]
  },
  {
   "cell_type": "markdown",
   "metadata": {},
   "source": [
    "Feito um loop para verificar a quantidade de parcelas e assim criar uma linha pra cada parcela. Verificando o mês de pagamento, comparando-o com a data da operação. Caso a data da operação seja após o fechamento mensal, o pagamento ficará para o mês seguinte."
   ]
  },
  {
   "cell_type": "code",
   "execution_count": 29,
   "metadata": {
    "executionInfo": {
     "elapsed": 4330,
     "status": "ok",
     "timestamp": 1624285604273,
     "user": {
      "displayName": "Thiago Oliveira",
      "photoUrl": "",
      "userId": "16792580446587139449"
     },
     "user_tz": 180
    },
    "id": "Ru_vfSBln-To"
   },
   "outputs": [],
   "source": [
    "for i in df_total.values:\n",
    "    for n in range(int(i[5])):\n",
    "        \n",
    "        limite = i[1]\n",
    "        vencim = i[2]\n",
    "        cliente = i[0]\n",
    "        valor= i[4]\n",
    "        num_parcelas = i[5]\n",
    "        parcela=i[8]\n",
    "        data_operacao=i[6]\n",
    "        mes = 0\n",
    "        data_pagamento = dt.datetime(data_operacao.year, data_operacao.month,vencim.day)\n",
    "        data_pagamento = data_pagamento + relativedelta(months=n)\n",
    "        if data_operacao.day > vencim.day:\n",
    "            data_pagamento = data_pagamento + relativedelta(months=1)\n",
    "        \n",
    "        df_total_com_parcelas.loc[0 if pd.isnull(df_total_com_parcelas.index.max()) else df_total_com_parcelas.index.max() + 1] = [cliente, limite, data_pagamento, valor,\n",
    "            num_parcelas, str(n+1), data_operacao, parcela]\n",
    "        #print(i)\n",
    "    \n"
   ]
  },
  {
   "cell_type": "markdown",
   "metadata": {},
   "source": [
    "Conferindo o df, quando a cliente é Adriana Pereira"
   ]
  },
  {
   "cell_type": "code",
   "execution_count": 30,
   "metadata": {
    "colab": {
     "base_uri": "https://localhost:8080/",
     "height": 1000
    },
    "executionInfo": {
     "elapsed": 35,
     "status": "ok",
     "timestamp": 1624285604275,
     "user": {
      "displayName": "Thiago Oliveira",
      "photoUrl": "",
      "userId": "16792580446587139449"
     },
     "user_tz": 180
    },
    "id": "Y1MGwan7n-Tp",
    "outputId": "b8e0fb50-080f-4ce7-bf41-9096f3852eff"
   },
   "outputs": [
    {
     "data": {
      "text/html": [
       "<div>\n",
       "<style scoped>\n",
       "    .dataframe tbody tr th:only-of-type {\n",
       "        vertical-align: middle;\n",
       "    }\n",
       "\n",
       "    .dataframe tbody tr th {\n",
       "        vertical-align: top;\n",
       "    }\n",
       "\n",
       "    .dataframe thead th {\n",
       "        text-align: right;\n",
       "    }\n",
       "</style>\n",
       "<table border=\"1\" class=\"dataframe\">\n",
       "  <thead>\n",
       "    <tr style=\"text-align: right;\">\n",
       "      <th></th>\n",
       "      <th>cliente</th>\n",
       "      <th>limite</th>\n",
       "      <th>dt_pagamento</th>\n",
       "      <th>valor_operacao</th>\n",
       "      <th>num_parcelas</th>\n",
       "      <th>num_parcela</th>\n",
       "      <th>dt_operacao</th>\n",
       "      <th>valor_parcela</th>\n",
       "    </tr>\n",
       "  </thead>\n",
       "  <tbody>\n",
       "    <tr>\n",
       "      <th>412</th>\n",
       "      <td>Adriana Pereira</td>\n",
       "      <td>1875.0</td>\n",
       "      <td>2021-02-05</td>\n",
       "      <td>764.42</td>\n",
       "      <td>3</td>\n",
       "      <td>1</td>\n",
       "      <td>2021-01-13</td>\n",
       "      <td>254.81</td>\n",
       "    </tr>\n",
       "    <tr>\n",
       "      <th>413</th>\n",
       "      <td>Adriana Pereira</td>\n",
       "      <td>1875.0</td>\n",
       "      <td>2021-03-05</td>\n",
       "      <td>764.42</td>\n",
       "      <td>3</td>\n",
       "      <td>2</td>\n",
       "      <td>2021-01-13</td>\n",
       "      <td>254.81</td>\n",
       "    </tr>\n",
       "    <tr>\n",
       "      <th>414</th>\n",
       "      <td>Adriana Pereira</td>\n",
       "      <td>1875.0</td>\n",
       "      <td>2021-04-05</td>\n",
       "      <td>764.42</td>\n",
       "      <td>3</td>\n",
       "      <td>3</td>\n",
       "      <td>2021-01-13</td>\n",
       "      <td>254.81</td>\n",
       "    </tr>\n",
       "    <tr>\n",
       "      <th>415</th>\n",
       "      <td>Adriana Pereira</td>\n",
       "      <td>1875.0</td>\n",
       "      <td>2021-02-05</td>\n",
       "      <td>2036.00</td>\n",
       "      <td>3</td>\n",
       "      <td>1</td>\n",
       "      <td>2021-01-14</td>\n",
       "      <td>678.67</td>\n",
       "    </tr>\n",
       "    <tr>\n",
       "      <th>416</th>\n",
       "      <td>Adriana Pereira</td>\n",
       "      <td>1875.0</td>\n",
       "      <td>2021-03-05</td>\n",
       "      <td>2036.00</td>\n",
       "      <td>3</td>\n",
       "      <td>2</td>\n",
       "      <td>2021-01-14</td>\n",
       "      <td>678.67</td>\n",
       "    </tr>\n",
       "    <tr>\n",
       "      <th>417</th>\n",
       "      <td>Adriana Pereira</td>\n",
       "      <td>1875.0</td>\n",
       "      <td>2021-04-05</td>\n",
       "      <td>2036.00</td>\n",
       "      <td>3</td>\n",
       "      <td>3</td>\n",
       "      <td>2021-01-14</td>\n",
       "      <td>678.67</td>\n",
       "    </tr>\n",
       "    <tr>\n",
       "      <th>418</th>\n",
       "      <td>Adriana Pereira</td>\n",
       "      <td>1875.0</td>\n",
       "      <td>2021-02-05</td>\n",
       "      <td>63.88</td>\n",
       "      <td>1</td>\n",
       "      <td>1</td>\n",
       "      <td>2021-01-14</td>\n",
       "      <td>63.88</td>\n",
       "    </tr>\n",
       "    <tr>\n",
       "      <th>419</th>\n",
       "      <td>Adriana Pereira</td>\n",
       "      <td>1875.0</td>\n",
       "      <td>2021-02-05</td>\n",
       "      <td>1464.84</td>\n",
       "      <td>2</td>\n",
       "      <td>1</td>\n",
       "      <td>2021-01-25</td>\n",
       "      <td>732.42</td>\n",
       "    </tr>\n",
       "    <tr>\n",
       "      <th>420</th>\n",
       "      <td>Adriana Pereira</td>\n",
       "      <td>1875.0</td>\n",
       "      <td>2021-03-05</td>\n",
       "      <td>1464.84</td>\n",
       "      <td>2</td>\n",
       "      <td>2</td>\n",
       "      <td>2021-01-25</td>\n",
       "      <td>732.42</td>\n",
       "    </tr>\n",
       "    <tr>\n",
       "      <th>421</th>\n",
       "      <td>Adriana Pereira</td>\n",
       "      <td>1875.0</td>\n",
       "      <td>2021-02-05</td>\n",
       "      <td>247.98</td>\n",
       "      <td>3</td>\n",
       "      <td>1</td>\n",
       "      <td>2021-01-26</td>\n",
       "      <td>82.66</td>\n",
       "    </tr>\n",
       "    <tr>\n",
       "      <th>422</th>\n",
       "      <td>Adriana Pereira</td>\n",
       "      <td>1875.0</td>\n",
       "      <td>2021-03-05</td>\n",
       "      <td>247.98</td>\n",
       "      <td>3</td>\n",
       "      <td>2</td>\n",
       "      <td>2021-01-26</td>\n",
       "      <td>82.66</td>\n",
       "    </tr>\n",
       "    <tr>\n",
       "      <th>423</th>\n",
       "      <td>Adriana Pereira</td>\n",
       "      <td>1875.0</td>\n",
       "      <td>2021-04-05</td>\n",
       "      <td>247.98</td>\n",
       "      <td>3</td>\n",
       "      <td>3</td>\n",
       "      <td>2021-01-26</td>\n",
       "      <td>82.66</td>\n",
       "    </tr>\n",
       "    <tr>\n",
       "      <th>424</th>\n",
       "      <td>Adriana Pereira</td>\n",
       "      <td>1875.0</td>\n",
       "      <td>2021-02-05</td>\n",
       "      <td>155.56</td>\n",
       "      <td>4</td>\n",
       "      <td>1</td>\n",
       "      <td>2021-01-27</td>\n",
       "      <td>38.89</td>\n",
       "    </tr>\n",
       "    <tr>\n",
       "      <th>425</th>\n",
       "      <td>Adriana Pereira</td>\n",
       "      <td>1875.0</td>\n",
       "      <td>2021-03-05</td>\n",
       "      <td>155.56</td>\n",
       "      <td>4</td>\n",
       "      <td>2</td>\n",
       "      <td>2021-01-27</td>\n",
       "      <td>38.89</td>\n",
       "    </tr>\n",
       "    <tr>\n",
       "      <th>426</th>\n",
       "      <td>Adriana Pereira</td>\n",
       "      <td>1875.0</td>\n",
       "      <td>2021-04-05</td>\n",
       "      <td>155.56</td>\n",
       "      <td>4</td>\n",
       "      <td>3</td>\n",
       "      <td>2021-01-27</td>\n",
       "      <td>38.89</td>\n",
       "    </tr>\n",
       "    <tr>\n",
       "      <th>427</th>\n",
       "      <td>Adriana Pereira</td>\n",
       "      <td>1875.0</td>\n",
       "      <td>2021-05-05</td>\n",
       "      <td>155.56</td>\n",
       "      <td>4</td>\n",
       "      <td>4</td>\n",
       "      <td>2021-01-27</td>\n",
       "      <td>38.89</td>\n",
       "    </tr>\n",
       "    <tr>\n",
       "      <th>428</th>\n",
       "      <td>Adriana Pereira</td>\n",
       "      <td>1875.0</td>\n",
       "      <td>2021-02-05</td>\n",
       "      <td>2056.00</td>\n",
       "      <td>1</td>\n",
       "      <td>1</td>\n",
       "      <td>2021-01-28</td>\n",
       "      <td>2056.00</td>\n",
       "    </tr>\n",
       "    <tr>\n",
       "      <th>429</th>\n",
       "      <td>Adriana Pereira</td>\n",
       "      <td>1875.0</td>\n",
       "      <td>2021-02-05</td>\n",
       "      <td>1084.58</td>\n",
       "      <td>10</td>\n",
       "      <td>1</td>\n",
       "      <td>2021-01-30</td>\n",
       "      <td>108.46</td>\n",
       "    </tr>\n",
       "    <tr>\n",
       "      <th>430</th>\n",
       "      <td>Adriana Pereira</td>\n",
       "      <td>1875.0</td>\n",
       "      <td>2021-03-05</td>\n",
       "      <td>1084.58</td>\n",
       "      <td>10</td>\n",
       "      <td>2</td>\n",
       "      <td>2021-01-30</td>\n",
       "      <td>108.46</td>\n",
       "    </tr>\n",
       "    <tr>\n",
       "      <th>431</th>\n",
       "      <td>Adriana Pereira</td>\n",
       "      <td>1875.0</td>\n",
       "      <td>2021-04-05</td>\n",
       "      <td>1084.58</td>\n",
       "      <td>10</td>\n",
       "      <td>3</td>\n",
       "      <td>2021-01-30</td>\n",
       "      <td>108.46</td>\n",
       "    </tr>\n",
       "    <tr>\n",
       "      <th>432</th>\n",
       "      <td>Adriana Pereira</td>\n",
       "      <td>1875.0</td>\n",
       "      <td>2021-05-05</td>\n",
       "      <td>1084.58</td>\n",
       "      <td>10</td>\n",
       "      <td>4</td>\n",
       "      <td>2021-01-30</td>\n",
       "      <td>108.46</td>\n",
       "    </tr>\n",
       "    <tr>\n",
       "      <th>433</th>\n",
       "      <td>Adriana Pereira</td>\n",
       "      <td>1875.0</td>\n",
       "      <td>2021-06-05</td>\n",
       "      <td>1084.58</td>\n",
       "      <td>10</td>\n",
       "      <td>5</td>\n",
       "      <td>2021-01-30</td>\n",
       "      <td>108.46</td>\n",
       "    </tr>\n",
       "    <tr>\n",
       "      <th>434</th>\n",
       "      <td>Adriana Pereira</td>\n",
       "      <td>1875.0</td>\n",
       "      <td>2021-07-05</td>\n",
       "      <td>1084.58</td>\n",
       "      <td>10</td>\n",
       "      <td>6</td>\n",
       "      <td>2021-01-30</td>\n",
       "      <td>108.46</td>\n",
       "    </tr>\n",
       "    <tr>\n",
       "      <th>435</th>\n",
       "      <td>Adriana Pereira</td>\n",
       "      <td>1875.0</td>\n",
       "      <td>2021-08-05</td>\n",
       "      <td>1084.58</td>\n",
       "      <td>10</td>\n",
       "      <td>7</td>\n",
       "      <td>2021-01-30</td>\n",
       "      <td>108.46</td>\n",
       "    </tr>\n",
       "    <tr>\n",
       "      <th>436</th>\n",
       "      <td>Adriana Pereira</td>\n",
       "      <td>1875.0</td>\n",
       "      <td>2021-09-05</td>\n",
       "      <td>1084.58</td>\n",
       "      <td>10</td>\n",
       "      <td>8</td>\n",
       "      <td>2021-01-30</td>\n",
       "      <td>108.46</td>\n",
       "    </tr>\n",
       "    <tr>\n",
       "      <th>437</th>\n",
       "      <td>Adriana Pereira</td>\n",
       "      <td>1875.0</td>\n",
       "      <td>2021-10-05</td>\n",
       "      <td>1084.58</td>\n",
       "      <td>10</td>\n",
       "      <td>9</td>\n",
       "      <td>2021-01-30</td>\n",
       "      <td>108.46</td>\n",
       "    </tr>\n",
       "    <tr>\n",
       "      <th>438</th>\n",
       "      <td>Adriana Pereira</td>\n",
       "      <td>1875.0</td>\n",
       "      <td>2021-11-05</td>\n",
       "      <td>1084.58</td>\n",
       "      <td>10</td>\n",
       "      <td>10</td>\n",
       "      <td>2021-01-30</td>\n",
       "      <td>108.46</td>\n",
       "    </tr>\n",
       "  </tbody>\n",
       "</table>\n",
       "</div>"
      ],
      "text/plain": [
       "             cliente  limite dt_pagamento  valor_operacao num_parcelas  \\\n",
       "412  Adriana Pereira  1875.0   2021-02-05          764.42            3   \n",
       "413  Adriana Pereira  1875.0   2021-03-05          764.42            3   \n",
       "414  Adriana Pereira  1875.0   2021-04-05          764.42            3   \n",
       "415  Adriana Pereira  1875.0   2021-02-05         2036.00            3   \n",
       "416  Adriana Pereira  1875.0   2021-03-05         2036.00            3   \n",
       "417  Adriana Pereira  1875.0   2021-04-05         2036.00            3   \n",
       "418  Adriana Pereira  1875.0   2021-02-05           63.88            1   \n",
       "419  Adriana Pereira  1875.0   2021-02-05         1464.84            2   \n",
       "420  Adriana Pereira  1875.0   2021-03-05         1464.84            2   \n",
       "421  Adriana Pereira  1875.0   2021-02-05          247.98            3   \n",
       "422  Adriana Pereira  1875.0   2021-03-05          247.98            3   \n",
       "423  Adriana Pereira  1875.0   2021-04-05          247.98            3   \n",
       "424  Adriana Pereira  1875.0   2021-02-05          155.56            4   \n",
       "425  Adriana Pereira  1875.0   2021-03-05          155.56            4   \n",
       "426  Adriana Pereira  1875.0   2021-04-05          155.56            4   \n",
       "427  Adriana Pereira  1875.0   2021-05-05          155.56            4   \n",
       "428  Adriana Pereira  1875.0   2021-02-05         2056.00            1   \n",
       "429  Adriana Pereira  1875.0   2021-02-05         1084.58           10   \n",
       "430  Adriana Pereira  1875.0   2021-03-05         1084.58           10   \n",
       "431  Adriana Pereira  1875.0   2021-04-05         1084.58           10   \n",
       "432  Adriana Pereira  1875.0   2021-05-05         1084.58           10   \n",
       "433  Adriana Pereira  1875.0   2021-06-05         1084.58           10   \n",
       "434  Adriana Pereira  1875.0   2021-07-05         1084.58           10   \n",
       "435  Adriana Pereira  1875.0   2021-08-05         1084.58           10   \n",
       "436  Adriana Pereira  1875.0   2021-09-05         1084.58           10   \n",
       "437  Adriana Pereira  1875.0   2021-10-05         1084.58           10   \n",
       "438  Adriana Pereira  1875.0   2021-11-05         1084.58           10   \n",
       "\n",
       "    num_parcela dt_operacao  valor_parcela  \n",
       "412           1  2021-01-13         254.81  \n",
       "413           2  2021-01-13         254.81  \n",
       "414           3  2021-01-13         254.81  \n",
       "415           1  2021-01-14         678.67  \n",
       "416           2  2021-01-14         678.67  \n",
       "417           3  2021-01-14         678.67  \n",
       "418           1  2021-01-14          63.88  \n",
       "419           1  2021-01-25         732.42  \n",
       "420           2  2021-01-25         732.42  \n",
       "421           1  2021-01-26          82.66  \n",
       "422           2  2021-01-26          82.66  \n",
       "423           3  2021-01-26          82.66  \n",
       "424           1  2021-01-27          38.89  \n",
       "425           2  2021-01-27          38.89  \n",
       "426           3  2021-01-27          38.89  \n",
       "427           4  2021-01-27          38.89  \n",
       "428           1  2021-01-28        2056.00  \n",
       "429           1  2021-01-30         108.46  \n",
       "430           2  2021-01-30         108.46  \n",
       "431           3  2021-01-30         108.46  \n",
       "432           4  2021-01-30         108.46  \n",
       "433           5  2021-01-30         108.46  \n",
       "434           6  2021-01-30         108.46  \n",
       "435           7  2021-01-30         108.46  \n",
       "436           8  2021-01-30         108.46  \n",
       "437           9  2021-01-30         108.46  \n",
       "438          10  2021-01-30         108.46  "
      ]
     },
     "execution_count": 30,
     "metadata": {},
     "output_type": "execute_result"
    }
   ],
   "source": [
    "df_total_com_parcelas[df_total_com_parcelas['cliente']=='Adriana Pereira']"
   ]
  },
  {
   "cell_type": "code",
   "execution_count": 31,
   "metadata": {
    "colab": {
     "base_uri": "https://localhost:8080/",
     "height": 629
    },
    "executionInfo": {
     "elapsed": 32,
     "status": "ok",
     "timestamp": 1624285604278,
     "user": {
      "displayName": "Thiago Oliveira",
      "photoUrl": "",
      "userId": "16792580446587139449"
     },
     "user_tz": 180
    },
    "id": "ke9TgeeDn-Tv",
    "outputId": "03717ff0-7d40-4bdb-c635-d97f10a88f37"
   },
   "outputs": [
    {
     "data": {
      "text/html": [
       "<div>\n",
       "<style scoped>\n",
       "    .dataframe tbody tr th:only-of-type {\n",
       "        vertical-align: middle;\n",
       "    }\n",
       "\n",
       "    .dataframe tbody tr th {\n",
       "        vertical-align: top;\n",
       "    }\n",
       "\n",
       "    .dataframe thead th {\n",
       "        text-align: right;\n",
       "    }\n",
       "</style>\n",
       "<table border=\"1\" class=\"dataframe\">\n",
       "  <thead>\n",
       "    <tr style=\"text-align: right;\">\n",
       "      <th></th>\n",
       "      <th>cliente</th>\n",
       "      <th>limite</th>\n",
       "      <th>dt_pagamento</th>\n",
       "      <th>valor_operacao</th>\n",
       "      <th>num_parcelas</th>\n",
       "      <th>num_parcela</th>\n",
       "      <th>dt_operacao</th>\n",
       "      <th>valor_parcela</th>\n",
       "    </tr>\n",
       "  </thead>\n",
       "  <tbody>\n",
       "    <tr>\n",
       "      <th>0</th>\n",
       "      <td>João Silva</td>\n",
       "      <td>2575.0</td>\n",
       "      <td>2021-01-25</td>\n",
       "      <td>243.42</td>\n",
       "      <td>5</td>\n",
       "      <td>1</td>\n",
       "      <td>2021-01-03</td>\n",
       "      <td>48.68</td>\n",
       "    </tr>\n",
       "    <tr>\n",
       "      <th>1</th>\n",
       "      <td>João Silva</td>\n",
       "      <td>2575.0</td>\n",
       "      <td>2021-02-25</td>\n",
       "      <td>243.42</td>\n",
       "      <td>5</td>\n",
       "      <td>2</td>\n",
       "      <td>2021-01-03</td>\n",
       "      <td>48.68</td>\n",
       "    </tr>\n",
       "    <tr>\n",
       "      <th>2</th>\n",
       "      <td>João Silva</td>\n",
       "      <td>2575.0</td>\n",
       "      <td>2021-03-25</td>\n",
       "      <td>243.42</td>\n",
       "      <td>5</td>\n",
       "      <td>3</td>\n",
       "      <td>2021-01-03</td>\n",
       "      <td>48.68</td>\n",
       "    </tr>\n",
       "    <tr>\n",
       "      <th>3</th>\n",
       "      <td>João Silva</td>\n",
       "      <td>2575.0</td>\n",
       "      <td>2021-04-25</td>\n",
       "      <td>243.42</td>\n",
       "      <td>5</td>\n",
       "      <td>4</td>\n",
       "      <td>2021-01-03</td>\n",
       "      <td>48.68</td>\n",
       "    </tr>\n",
       "    <tr>\n",
       "      <th>4</th>\n",
       "      <td>João Silva</td>\n",
       "      <td>2575.0</td>\n",
       "      <td>2021-05-25</td>\n",
       "      <td>243.42</td>\n",
       "      <td>5</td>\n",
       "      <td>5</td>\n",
       "      <td>2021-01-03</td>\n",
       "      <td>48.68</td>\n",
       "    </tr>\n",
       "    <tr>\n",
       "      <th>...</th>\n",
       "      <td>...</td>\n",
       "      <td>...</td>\n",
       "      <td>...</td>\n",
       "      <td>...</td>\n",
       "      <td>...</td>\n",
       "      <td>...</td>\n",
       "      <td>...</td>\n",
       "      <td>...</td>\n",
       "    </tr>\n",
       "    <tr>\n",
       "      <th>564</th>\n",
       "      <td>Camila Santos</td>\n",
       "      <td>3275.0</td>\n",
       "      <td>2021-03-15</td>\n",
       "      <td>203.01</td>\n",
       "      <td>3</td>\n",
       "      <td>2</td>\n",
       "      <td>2021-01-29</td>\n",
       "      <td>67.67</td>\n",
       "    </tr>\n",
       "    <tr>\n",
       "      <th>565</th>\n",
       "      <td>Camila Santos</td>\n",
       "      <td>3275.0</td>\n",
       "      <td>2021-04-15</td>\n",
       "      <td>203.01</td>\n",
       "      <td>3</td>\n",
       "      <td>3</td>\n",
       "      <td>2021-01-29</td>\n",
       "      <td>67.67</td>\n",
       "    </tr>\n",
       "    <tr>\n",
       "      <th>566</th>\n",
       "      <td>Camila Santos</td>\n",
       "      <td>3275.0</td>\n",
       "      <td>2021-02-15</td>\n",
       "      <td>702.00</td>\n",
       "      <td>3</td>\n",
       "      <td>1</td>\n",
       "      <td>2021-01-30</td>\n",
       "      <td>234.00</td>\n",
       "    </tr>\n",
       "    <tr>\n",
       "      <th>567</th>\n",
       "      <td>Camila Santos</td>\n",
       "      <td>3275.0</td>\n",
       "      <td>2021-03-15</td>\n",
       "      <td>702.00</td>\n",
       "      <td>3</td>\n",
       "      <td>2</td>\n",
       "      <td>2021-01-30</td>\n",
       "      <td>234.00</td>\n",
       "    </tr>\n",
       "    <tr>\n",
       "      <th>568</th>\n",
       "      <td>Camila Santos</td>\n",
       "      <td>3275.0</td>\n",
       "      <td>2021-04-15</td>\n",
       "      <td>702.00</td>\n",
       "      <td>3</td>\n",
       "      <td>3</td>\n",
       "      <td>2021-01-30</td>\n",
       "      <td>234.00</td>\n",
       "    </tr>\n",
       "  </tbody>\n",
       "</table>\n",
       "<p>569 rows × 8 columns</p>\n",
       "</div>"
      ],
      "text/plain": [
       "           cliente  limite dt_pagamento  valor_operacao num_parcelas  \\\n",
       "0       João Silva  2575.0   2021-01-25          243.42            5   \n",
       "1       João Silva  2575.0   2021-02-25          243.42            5   \n",
       "2       João Silva  2575.0   2021-03-25          243.42            5   \n",
       "3       João Silva  2575.0   2021-04-25          243.42            5   \n",
       "4       João Silva  2575.0   2021-05-25          243.42            5   \n",
       "..             ...     ...          ...             ...          ...   \n",
       "564  Camila Santos  3275.0   2021-03-15          203.01            3   \n",
       "565  Camila Santos  3275.0   2021-04-15          203.01            3   \n",
       "566  Camila Santos  3275.0   2021-02-15          702.00            3   \n",
       "567  Camila Santos  3275.0   2021-03-15          702.00            3   \n",
       "568  Camila Santos  3275.0   2021-04-15          702.00            3   \n",
       "\n",
       "    num_parcela dt_operacao  valor_parcela  \n",
       "0             1  2021-01-03          48.68  \n",
       "1             2  2021-01-03          48.68  \n",
       "2             3  2021-01-03          48.68  \n",
       "3             4  2021-01-03          48.68  \n",
       "4             5  2021-01-03          48.68  \n",
       "..          ...         ...            ...  \n",
       "564           2  2021-01-29          67.67  \n",
       "565           3  2021-01-29          67.67  \n",
       "566           1  2021-01-30         234.00  \n",
       "567           2  2021-01-30         234.00  \n",
       "568           3  2021-01-30         234.00  \n",
       "\n",
       "[569 rows x 8 columns]"
      ]
     },
     "execution_count": 31,
     "metadata": {},
     "output_type": "execute_result"
    }
   ],
   "source": [
    "df_total_com_parcelas"
   ]
  },
  {
   "cell_type": "code",
   "execution_count": 32,
   "metadata": {
    "executionInfo": {
     "elapsed": 25,
     "status": "ok",
     "timestamp": 1624285604281,
     "user": {
      "displayName": "Thiago Oliveira",
      "photoUrl": "",
      "userId": "16792580446587139449"
     },
     "user_tz": 180
    },
    "id": "DVpYeAFbn-T6"
   },
   "outputs": [],
   "source": [
    "result = df_total_com_parcelas.copy()"
   ]
  },
  {
   "cell_type": "code",
   "execution_count": 33,
   "metadata": {
    "colab": {
     "base_uri": "https://localhost:8080/",
     "height": 1000
    },
    "executionInfo": {
     "elapsed": 479,
     "status": "ok",
     "timestamp": 1624285604737,
     "user": {
      "displayName": "Thiago Oliveira",
      "photoUrl": "",
      "userId": "16792580446587139449"
     },
     "user_tz": 180
    },
    "id": "kuIEFCdMn-T9",
    "outputId": "20530d53-b920-4579-ecd7-29b82a52247a"
   },
   "outputs": [
    {
     "data": {
      "text/html": [
       "<div>\n",
       "<style scoped>\n",
       "    .dataframe tbody tr th:only-of-type {\n",
       "        vertical-align: middle;\n",
       "    }\n",
       "\n",
       "    .dataframe tbody tr th {\n",
       "        vertical-align: top;\n",
       "    }\n",
       "\n",
       "    .dataframe thead th {\n",
       "        text-align: right;\n",
       "    }\n",
       "</style>\n",
       "<table border=\"1\" class=\"dataframe\">\n",
       "  <thead>\n",
       "    <tr style=\"text-align: right;\">\n",
       "      <th></th>\n",
       "      <th>cliente</th>\n",
       "      <th>limite</th>\n",
       "      <th>dt_pagamento</th>\n",
       "      <th>valor_operacao</th>\n",
       "      <th>num_parcelas</th>\n",
       "      <th>num_parcela</th>\n",
       "      <th>dt_operacao</th>\n",
       "      <th>valor_parcela</th>\n",
       "    </tr>\n",
       "  </thead>\n",
       "  <tbody>\n",
       "    <tr>\n",
       "      <th>412</th>\n",
       "      <td>Adriana Pereira</td>\n",
       "      <td>1875.0</td>\n",
       "      <td>2021-02-05</td>\n",
       "      <td>764.42</td>\n",
       "      <td>3</td>\n",
       "      <td>1</td>\n",
       "      <td>2021-01-13</td>\n",
       "      <td>254.81</td>\n",
       "    </tr>\n",
       "    <tr>\n",
       "      <th>413</th>\n",
       "      <td>Adriana Pereira</td>\n",
       "      <td>1875.0</td>\n",
       "      <td>2021-03-05</td>\n",
       "      <td>764.42</td>\n",
       "      <td>3</td>\n",
       "      <td>2</td>\n",
       "      <td>2021-01-13</td>\n",
       "      <td>254.81</td>\n",
       "    </tr>\n",
       "    <tr>\n",
       "      <th>414</th>\n",
       "      <td>Adriana Pereira</td>\n",
       "      <td>1875.0</td>\n",
       "      <td>2021-04-05</td>\n",
       "      <td>764.42</td>\n",
       "      <td>3</td>\n",
       "      <td>3</td>\n",
       "      <td>2021-01-13</td>\n",
       "      <td>254.81</td>\n",
       "    </tr>\n",
       "    <tr>\n",
       "      <th>415</th>\n",
       "      <td>Adriana Pereira</td>\n",
       "      <td>1875.0</td>\n",
       "      <td>2021-02-05</td>\n",
       "      <td>2036.00</td>\n",
       "      <td>3</td>\n",
       "      <td>1</td>\n",
       "      <td>2021-01-14</td>\n",
       "      <td>678.67</td>\n",
       "    </tr>\n",
       "    <tr>\n",
       "      <th>416</th>\n",
       "      <td>Adriana Pereira</td>\n",
       "      <td>1875.0</td>\n",
       "      <td>2021-03-05</td>\n",
       "      <td>2036.00</td>\n",
       "      <td>3</td>\n",
       "      <td>2</td>\n",
       "      <td>2021-01-14</td>\n",
       "      <td>678.67</td>\n",
       "    </tr>\n",
       "    <tr>\n",
       "      <th>417</th>\n",
       "      <td>Adriana Pereira</td>\n",
       "      <td>1875.0</td>\n",
       "      <td>2021-04-05</td>\n",
       "      <td>2036.00</td>\n",
       "      <td>3</td>\n",
       "      <td>3</td>\n",
       "      <td>2021-01-14</td>\n",
       "      <td>678.67</td>\n",
       "    </tr>\n",
       "    <tr>\n",
       "      <th>418</th>\n",
       "      <td>Adriana Pereira</td>\n",
       "      <td>1875.0</td>\n",
       "      <td>2021-02-05</td>\n",
       "      <td>63.88</td>\n",
       "      <td>1</td>\n",
       "      <td>1</td>\n",
       "      <td>2021-01-14</td>\n",
       "      <td>63.88</td>\n",
       "    </tr>\n",
       "    <tr>\n",
       "      <th>419</th>\n",
       "      <td>Adriana Pereira</td>\n",
       "      <td>1875.0</td>\n",
       "      <td>2021-02-05</td>\n",
       "      <td>1464.84</td>\n",
       "      <td>2</td>\n",
       "      <td>1</td>\n",
       "      <td>2021-01-25</td>\n",
       "      <td>732.42</td>\n",
       "    </tr>\n",
       "    <tr>\n",
       "      <th>420</th>\n",
       "      <td>Adriana Pereira</td>\n",
       "      <td>1875.0</td>\n",
       "      <td>2021-03-05</td>\n",
       "      <td>1464.84</td>\n",
       "      <td>2</td>\n",
       "      <td>2</td>\n",
       "      <td>2021-01-25</td>\n",
       "      <td>732.42</td>\n",
       "    </tr>\n",
       "    <tr>\n",
       "      <th>421</th>\n",
       "      <td>Adriana Pereira</td>\n",
       "      <td>1875.0</td>\n",
       "      <td>2021-02-05</td>\n",
       "      <td>247.98</td>\n",
       "      <td>3</td>\n",
       "      <td>1</td>\n",
       "      <td>2021-01-26</td>\n",
       "      <td>82.66</td>\n",
       "    </tr>\n",
       "    <tr>\n",
       "      <th>422</th>\n",
       "      <td>Adriana Pereira</td>\n",
       "      <td>1875.0</td>\n",
       "      <td>2021-03-05</td>\n",
       "      <td>247.98</td>\n",
       "      <td>3</td>\n",
       "      <td>2</td>\n",
       "      <td>2021-01-26</td>\n",
       "      <td>82.66</td>\n",
       "    </tr>\n",
       "    <tr>\n",
       "      <th>423</th>\n",
       "      <td>Adriana Pereira</td>\n",
       "      <td>1875.0</td>\n",
       "      <td>2021-04-05</td>\n",
       "      <td>247.98</td>\n",
       "      <td>3</td>\n",
       "      <td>3</td>\n",
       "      <td>2021-01-26</td>\n",
       "      <td>82.66</td>\n",
       "    </tr>\n",
       "    <tr>\n",
       "      <th>424</th>\n",
       "      <td>Adriana Pereira</td>\n",
       "      <td>1875.0</td>\n",
       "      <td>2021-02-05</td>\n",
       "      <td>155.56</td>\n",
       "      <td>4</td>\n",
       "      <td>1</td>\n",
       "      <td>2021-01-27</td>\n",
       "      <td>38.89</td>\n",
       "    </tr>\n",
       "    <tr>\n",
       "      <th>425</th>\n",
       "      <td>Adriana Pereira</td>\n",
       "      <td>1875.0</td>\n",
       "      <td>2021-03-05</td>\n",
       "      <td>155.56</td>\n",
       "      <td>4</td>\n",
       "      <td>2</td>\n",
       "      <td>2021-01-27</td>\n",
       "      <td>38.89</td>\n",
       "    </tr>\n",
       "    <tr>\n",
       "      <th>426</th>\n",
       "      <td>Adriana Pereira</td>\n",
       "      <td>1875.0</td>\n",
       "      <td>2021-04-05</td>\n",
       "      <td>155.56</td>\n",
       "      <td>4</td>\n",
       "      <td>3</td>\n",
       "      <td>2021-01-27</td>\n",
       "      <td>38.89</td>\n",
       "    </tr>\n",
       "    <tr>\n",
       "      <th>427</th>\n",
       "      <td>Adriana Pereira</td>\n",
       "      <td>1875.0</td>\n",
       "      <td>2021-05-05</td>\n",
       "      <td>155.56</td>\n",
       "      <td>4</td>\n",
       "      <td>4</td>\n",
       "      <td>2021-01-27</td>\n",
       "      <td>38.89</td>\n",
       "    </tr>\n",
       "    <tr>\n",
       "      <th>428</th>\n",
       "      <td>Adriana Pereira</td>\n",
       "      <td>1875.0</td>\n",
       "      <td>2021-02-05</td>\n",
       "      <td>2056.00</td>\n",
       "      <td>1</td>\n",
       "      <td>1</td>\n",
       "      <td>2021-01-28</td>\n",
       "      <td>2056.00</td>\n",
       "    </tr>\n",
       "    <tr>\n",
       "      <th>429</th>\n",
       "      <td>Adriana Pereira</td>\n",
       "      <td>1875.0</td>\n",
       "      <td>2021-02-05</td>\n",
       "      <td>1084.58</td>\n",
       "      <td>10</td>\n",
       "      <td>1</td>\n",
       "      <td>2021-01-30</td>\n",
       "      <td>108.46</td>\n",
       "    </tr>\n",
       "    <tr>\n",
       "      <th>430</th>\n",
       "      <td>Adriana Pereira</td>\n",
       "      <td>1875.0</td>\n",
       "      <td>2021-03-05</td>\n",
       "      <td>1084.58</td>\n",
       "      <td>10</td>\n",
       "      <td>2</td>\n",
       "      <td>2021-01-30</td>\n",
       "      <td>108.46</td>\n",
       "    </tr>\n",
       "    <tr>\n",
       "      <th>431</th>\n",
       "      <td>Adriana Pereira</td>\n",
       "      <td>1875.0</td>\n",
       "      <td>2021-04-05</td>\n",
       "      <td>1084.58</td>\n",
       "      <td>10</td>\n",
       "      <td>3</td>\n",
       "      <td>2021-01-30</td>\n",
       "      <td>108.46</td>\n",
       "    </tr>\n",
       "    <tr>\n",
       "      <th>432</th>\n",
       "      <td>Adriana Pereira</td>\n",
       "      <td>1875.0</td>\n",
       "      <td>2021-05-05</td>\n",
       "      <td>1084.58</td>\n",
       "      <td>10</td>\n",
       "      <td>4</td>\n",
       "      <td>2021-01-30</td>\n",
       "      <td>108.46</td>\n",
       "    </tr>\n",
       "    <tr>\n",
       "      <th>433</th>\n",
       "      <td>Adriana Pereira</td>\n",
       "      <td>1875.0</td>\n",
       "      <td>2021-06-05</td>\n",
       "      <td>1084.58</td>\n",
       "      <td>10</td>\n",
       "      <td>5</td>\n",
       "      <td>2021-01-30</td>\n",
       "      <td>108.46</td>\n",
       "    </tr>\n",
       "    <tr>\n",
       "      <th>434</th>\n",
       "      <td>Adriana Pereira</td>\n",
       "      <td>1875.0</td>\n",
       "      <td>2021-07-05</td>\n",
       "      <td>1084.58</td>\n",
       "      <td>10</td>\n",
       "      <td>6</td>\n",
       "      <td>2021-01-30</td>\n",
       "      <td>108.46</td>\n",
       "    </tr>\n",
       "    <tr>\n",
       "      <th>435</th>\n",
       "      <td>Adriana Pereira</td>\n",
       "      <td>1875.0</td>\n",
       "      <td>2021-08-05</td>\n",
       "      <td>1084.58</td>\n",
       "      <td>10</td>\n",
       "      <td>7</td>\n",
       "      <td>2021-01-30</td>\n",
       "      <td>108.46</td>\n",
       "    </tr>\n",
       "    <tr>\n",
       "      <th>436</th>\n",
       "      <td>Adriana Pereira</td>\n",
       "      <td>1875.0</td>\n",
       "      <td>2021-09-05</td>\n",
       "      <td>1084.58</td>\n",
       "      <td>10</td>\n",
       "      <td>8</td>\n",
       "      <td>2021-01-30</td>\n",
       "      <td>108.46</td>\n",
       "    </tr>\n",
       "    <tr>\n",
       "      <th>437</th>\n",
       "      <td>Adriana Pereira</td>\n",
       "      <td>1875.0</td>\n",
       "      <td>2021-10-05</td>\n",
       "      <td>1084.58</td>\n",
       "      <td>10</td>\n",
       "      <td>9</td>\n",
       "      <td>2021-01-30</td>\n",
       "      <td>108.46</td>\n",
       "    </tr>\n",
       "    <tr>\n",
       "      <th>438</th>\n",
       "      <td>Adriana Pereira</td>\n",
       "      <td>1875.0</td>\n",
       "      <td>2021-11-05</td>\n",
       "      <td>1084.58</td>\n",
       "      <td>10</td>\n",
       "      <td>10</td>\n",
       "      <td>2021-01-30</td>\n",
       "      <td>108.46</td>\n",
       "    </tr>\n",
       "  </tbody>\n",
       "</table>\n",
       "</div>"
      ],
      "text/plain": [
       "             cliente  limite dt_pagamento  valor_operacao num_parcelas  \\\n",
       "412  Adriana Pereira  1875.0   2021-02-05          764.42            3   \n",
       "413  Adriana Pereira  1875.0   2021-03-05          764.42            3   \n",
       "414  Adriana Pereira  1875.0   2021-04-05          764.42            3   \n",
       "415  Adriana Pereira  1875.0   2021-02-05         2036.00            3   \n",
       "416  Adriana Pereira  1875.0   2021-03-05         2036.00            3   \n",
       "417  Adriana Pereira  1875.0   2021-04-05         2036.00            3   \n",
       "418  Adriana Pereira  1875.0   2021-02-05           63.88            1   \n",
       "419  Adriana Pereira  1875.0   2021-02-05         1464.84            2   \n",
       "420  Adriana Pereira  1875.0   2021-03-05         1464.84            2   \n",
       "421  Adriana Pereira  1875.0   2021-02-05          247.98            3   \n",
       "422  Adriana Pereira  1875.0   2021-03-05          247.98            3   \n",
       "423  Adriana Pereira  1875.0   2021-04-05          247.98            3   \n",
       "424  Adriana Pereira  1875.0   2021-02-05          155.56            4   \n",
       "425  Adriana Pereira  1875.0   2021-03-05          155.56            4   \n",
       "426  Adriana Pereira  1875.0   2021-04-05          155.56            4   \n",
       "427  Adriana Pereira  1875.0   2021-05-05          155.56            4   \n",
       "428  Adriana Pereira  1875.0   2021-02-05         2056.00            1   \n",
       "429  Adriana Pereira  1875.0   2021-02-05         1084.58           10   \n",
       "430  Adriana Pereira  1875.0   2021-03-05         1084.58           10   \n",
       "431  Adriana Pereira  1875.0   2021-04-05         1084.58           10   \n",
       "432  Adriana Pereira  1875.0   2021-05-05         1084.58           10   \n",
       "433  Adriana Pereira  1875.0   2021-06-05         1084.58           10   \n",
       "434  Adriana Pereira  1875.0   2021-07-05         1084.58           10   \n",
       "435  Adriana Pereira  1875.0   2021-08-05         1084.58           10   \n",
       "436  Adriana Pereira  1875.0   2021-09-05         1084.58           10   \n",
       "437  Adriana Pereira  1875.0   2021-10-05         1084.58           10   \n",
       "438  Adriana Pereira  1875.0   2021-11-05         1084.58           10   \n",
       "\n",
       "    num_parcela dt_operacao  valor_parcela  \n",
       "412           1  2021-01-13         254.81  \n",
       "413           2  2021-01-13         254.81  \n",
       "414           3  2021-01-13         254.81  \n",
       "415           1  2021-01-14         678.67  \n",
       "416           2  2021-01-14         678.67  \n",
       "417           3  2021-01-14         678.67  \n",
       "418           1  2021-01-14          63.88  \n",
       "419           1  2021-01-25         732.42  \n",
       "420           2  2021-01-25         732.42  \n",
       "421           1  2021-01-26          82.66  \n",
       "422           2  2021-01-26          82.66  \n",
       "423           3  2021-01-26          82.66  \n",
       "424           1  2021-01-27          38.89  \n",
       "425           2  2021-01-27          38.89  \n",
       "426           3  2021-01-27          38.89  \n",
       "427           4  2021-01-27          38.89  \n",
       "428           1  2021-01-28        2056.00  \n",
       "429           1  2021-01-30         108.46  \n",
       "430           2  2021-01-30         108.46  \n",
       "431           3  2021-01-30         108.46  \n",
       "432           4  2021-01-30         108.46  \n",
       "433           5  2021-01-30         108.46  \n",
       "434           6  2021-01-30         108.46  \n",
       "435           7  2021-01-30         108.46  \n",
       "436           8  2021-01-30         108.46  \n",
       "437           9  2021-01-30         108.46  \n",
       "438          10  2021-01-30         108.46  "
      ]
     },
     "execution_count": 33,
     "metadata": {},
     "output_type": "execute_result"
    }
   ],
   "source": [
    "result[result['cliente']== 'Adriana Pereira']"
   ]
  },
  {
   "cell_type": "markdown",
   "metadata": {},
   "source": [
    "Transformando o num_parcela em inteiro"
   ]
  },
  {
   "cell_type": "code",
   "execution_count": 34,
   "metadata": {
    "executionInfo": {
     "elapsed": 82,
     "status": "ok",
     "timestamp": 1624285604739,
     "user": {
      "displayName": "Thiago Oliveira",
      "photoUrl": "",
      "userId": "16792580446587139449"
     },
     "user_tz": 180
    },
    "id": "kKzTSdkFn-UA"
   },
   "outputs": [],
   "source": [
    "result['num_parcela'] = result['num_parcela'].apply(lambda x: int(x))"
   ]
  },
  {
   "cell_type": "code",
   "execution_count": 35,
   "metadata": {
    "executionInfo": {
     "elapsed": 80,
     "status": "ok",
     "timestamp": 1624285604740,
     "user": {
      "displayName": "Thiago Oliveira",
      "photoUrl": "",
      "userId": "16792580446587139449"
     },
     "user_tz": 180
    },
    "id": "_4kR4pdSn-UB"
   },
   "outputs": [],
   "source": [
    "result = result.sort_values(by=['num_parcela'], ascending = True)"
   ]
  },
  {
   "cell_type": "markdown",
   "metadata": {},
   "source": [
    "Agrupando pelo número da parcela e o cliente, mostrando o somatório do valor para aquela parcela"
   ]
  },
  {
   "cell_type": "code",
   "execution_count": 36,
   "metadata": {
    "colab": {
     "base_uri": "https://localhost:8080/",
     "height": 1000
    },
    "executionInfo": {
     "elapsed": 79,
     "status": "ok",
     "timestamp": 1624285604741,
     "user": {
      "displayName": "Thiago Oliveira",
      "photoUrl": "",
      "userId": "16792580446587139449"
     },
     "user_tz": 180
    },
    "id": "01fU_XgPn-UF",
    "outputId": "5f00bbff-d7f8-47e8-da5a-8985ded1c315"
   },
   "outputs": [
    {
     "data": {
      "text/html": [
       "<div>\n",
       "<style scoped>\n",
       "    .dataframe tbody tr th:only-of-type {\n",
       "        vertical-align: middle;\n",
       "    }\n",
       "\n",
       "    .dataframe tbody tr th {\n",
       "        vertical-align: top;\n",
       "    }\n",
       "\n",
       "    .dataframe thead th {\n",
       "        text-align: right;\n",
       "    }\n",
       "</style>\n",
       "<table border=\"1\" class=\"dataframe\">\n",
       "  <thead>\n",
       "    <tr style=\"text-align: right;\">\n",
       "      <th></th>\n",
       "      <th></th>\n",
       "      <th>valor_parcela</th>\n",
       "    </tr>\n",
       "    <tr>\n",
       "      <th>num_parcela</th>\n",
       "      <th>cliente</th>\n",
       "      <th></th>\n",
       "    </tr>\n",
       "  </thead>\n",
       "  <tbody>\n",
       "    <tr>\n",
       "      <th rowspan=\"20\" valign=\"top\">1</th>\n",
       "      <th>Adriana Pereira</th>\n",
       "      <td>4015.79</td>\n",
       "    </tr>\n",
       "    <tr>\n",
       "      <th>Aline Rodrigues</th>\n",
       "      <td>1197.12</td>\n",
       "    </tr>\n",
       "    <tr>\n",
       "      <th>Ana Costa</th>\n",
       "      <td>1004.91</td>\n",
       "    </tr>\n",
       "    <tr>\n",
       "      <th>Antônio Oliveira</th>\n",
       "      <td>2818.58</td>\n",
       "    </tr>\n",
       "    <tr>\n",
       "      <th>Camila Santos</th>\n",
       "      <td>2749.15</td>\n",
       "    </tr>\n",
       "    <tr>\n",
       "      <th>Carlos Rodrigues</th>\n",
       "      <td>1147.23</td>\n",
       "    </tr>\n",
       "    <tr>\n",
       "      <th>Fernanda Oliveira</th>\n",
       "      <td>950.18</td>\n",
       "    </tr>\n",
       "    <tr>\n",
       "      <th>Francisco Santos</th>\n",
       "      <td>1824.01</td>\n",
       "    </tr>\n",
       "    <tr>\n",
       "      <th>José Silva</th>\n",
       "      <td>2268.54</td>\n",
       "    </tr>\n",
       "    <tr>\n",
       "      <th>João Silva</th>\n",
       "      <td>1644.07</td>\n",
       "    </tr>\n",
       "    <tr>\n",
       "      <th>Juliana Costa</th>\n",
       "      <td>3531.91</td>\n",
       "    </tr>\n",
       "    <tr>\n",
       "      <th>Lucas Oliveira</th>\n",
       "      <td>2973.97</td>\n",
       "    </tr>\n",
       "    <tr>\n",
       "      <th>Luiz Alves</th>\n",
       "      <td>1525.83</td>\n",
       "    </tr>\n",
       "    <tr>\n",
       "      <th>Marcos Souza</th>\n",
       "      <td>950.49</td>\n",
       "    </tr>\n",
       "    <tr>\n",
       "      <th>Maria Alves</th>\n",
       "      <td>2526.12</td>\n",
       "    </tr>\n",
       "    <tr>\n",
       "      <th>Márcia Silva</th>\n",
       "      <td>4420.39</td>\n",
       "    </tr>\n",
       "    <tr>\n",
       "      <th>Patrícia Pereira</th>\n",
       "      <td>639.47</td>\n",
       "    </tr>\n",
       "    <tr>\n",
       "      <th>Paulo Gomes</th>\n",
       "      <td>3539.76</td>\n",
       "    </tr>\n",
       "    <tr>\n",
       "      <th>Pedro Ribeira</th>\n",
       "      <td>399.43</td>\n",
       "    </tr>\n",
       "    <tr>\n",
       "      <th>Sandra Souza</th>\n",
       "      <td>2654.69</td>\n",
       "    </tr>\n",
       "    <tr>\n",
       "      <th rowspan=\"10\" valign=\"top\">2</th>\n",
       "      <th>Adriana Pereira</th>\n",
       "      <td>1895.91</td>\n",
       "    </tr>\n",
       "    <tr>\n",
       "      <th>Aline Rodrigues</th>\n",
       "      <td>113.00</td>\n",
       "    </tr>\n",
       "    <tr>\n",
       "      <th>Ana Costa</th>\n",
       "      <td>1004.91</td>\n",
       "    </tr>\n",
       "    <tr>\n",
       "      <th>Antônio Oliveira</th>\n",
       "      <td>1253.26</td>\n",
       "    </tr>\n",
       "    <tr>\n",
       "      <th>Camila Santos</th>\n",
       "      <td>930.15</td>\n",
       "    </tr>\n",
       "    <tr>\n",
       "      <th>Carlos Rodrigues</th>\n",
       "      <td>1147.23</td>\n",
       "    </tr>\n",
       "    <tr>\n",
       "      <th>Fernanda Oliveira</th>\n",
       "      <td>950.18</td>\n",
       "    </tr>\n",
       "    <tr>\n",
       "      <th>Francisco Santos</th>\n",
       "      <td>1452.02</td>\n",
       "    </tr>\n",
       "    <tr>\n",
       "      <th>José Silva</th>\n",
       "      <td>498.70</td>\n",
       "    </tr>\n",
       "    <tr>\n",
       "      <th>João Silva</th>\n",
       "      <td>900.07</td>\n",
       "    </tr>\n",
       "  </tbody>\n",
       "</table>\n",
       "</div>"
      ],
      "text/plain": [
       "                               valor_parcela\n",
       "num_parcela cliente                         \n",
       "1           Adriana Pereira          4015.79\n",
       "            Aline Rodrigues          1197.12\n",
       "            Ana Costa                1004.91\n",
       "            Antônio Oliveira         2818.58\n",
       "            Camila Santos            2749.15\n",
       "            Carlos Rodrigues         1147.23\n",
       "            Fernanda Oliveira         950.18\n",
       "            Francisco Santos         1824.01\n",
       "            José Silva               2268.54\n",
       "            João Silva               1644.07\n",
       "            Juliana Costa            3531.91\n",
       "            Lucas Oliveira           2973.97\n",
       "            Luiz Alves               1525.83\n",
       "            Marcos Souza              950.49\n",
       "            Maria Alves              2526.12\n",
       "            Márcia Silva             4420.39\n",
       "            Patrícia Pereira          639.47\n",
       "            Paulo Gomes              3539.76\n",
       "            Pedro Ribeira             399.43\n",
       "            Sandra Souza             2654.69\n",
       "2           Adriana Pereira          1895.91\n",
       "            Aline Rodrigues           113.00\n",
       "            Ana Costa                1004.91\n",
       "            Antônio Oliveira         1253.26\n",
       "            Camila Santos             930.15\n",
       "            Carlos Rodrigues         1147.23\n",
       "            Fernanda Oliveira         950.18\n",
       "            Francisco Santos         1452.02\n",
       "            José Silva                498.70\n",
       "            João Silva                900.07"
      ]
     },
     "execution_count": 36,
     "metadata": {},
     "output_type": "execute_result"
    }
   ],
   "source": [
    "result.groupby([result['num_parcela'], result['cliente']]).agg({'valor_parcela':sum}).head(30)"
   ]
  },
  {
   "cell_type": "markdown",
   "metadata": {},
   "source": [
    "Atribuindo o mês para result['mes_parcela'] e depois agrupando pelo mês e cliente, trazendo o somatório das parcelas para aquele mês"
   ]
  },
  {
   "cell_type": "code",
   "execution_count": 37,
   "metadata": {
    "executionInfo": {
     "elapsed": 76,
     "status": "ok",
     "timestamp": 1624285604743,
     "user": {
      "displayName": "Thiago Oliveira",
      "photoUrl": "",
      "userId": "16792580446587139449"
     },
     "user_tz": 180
    },
    "id": "LVN-Lbh7n-UH"
   },
   "outputs": [],
   "source": [
    "result['mes_parcela'] = result['dt_pagamento'].apply(lambda x: x.strftime('%b'))"
   ]
  },
  {
   "cell_type": "code",
   "execution_count": 38,
   "metadata": {
    "colab": {
     "base_uri": "https://localhost:8080/",
     "height": 204
    },
    "executionInfo": {
     "elapsed": 75,
     "status": "ok",
     "timestamp": 1624285604744,
     "user": {
      "displayName": "Thiago Oliveira",
      "photoUrl": "",
      "userId": "16792580446587139449"
     },
     "user_tz": 180
    },
    "id": "df7piZian-UI",
    "outputId": "3593a149-39b3-4415-e2ea-b8a62522edfe"
   },
   "outputs": [
    {
     "data": {
      "text/html": [
       "<div>\n",
       "<style scoped>\n",
       "    .dataframe tbody tr th:only-of-type {\n",
       "        vertical-align: middle;\n",
       "    }\n",
       "\n",
       "    .dataframe tbody tr th {\n",
       "        vertical-align: top;\n",
       "    }\n",
       "\n",
       "    .dataframe thead th {\n",
       "        text-align: right;\n",
       "    }\n",
       "</style>\n",
       "<table border=\"1\" class=\"dataframe\">\n",
       "  <thead>\n",
       "    <tr style=\"text-align: right;\">\n",
       "      <th></th>\n",
       "      <th></th>\n",
       "      <th>valor_parcela</th>\n",
       "    </tr>\n",
       "    <tr>\n",
       "      <th>mes_parcela</th>\n",
       "      <th>cliente</th>\n",
       "      <th></th>\n",
       "    </tr>\n",
       "  </thead>\n",
       "  <tbody>\n",
       "    <tr>\n",
       "      <th rowspan=\"4\" valign=\"top\">Apr</th>\n",
       "      <th>Adriana Pereira</th>\n",
       "      <td>1163.49</td>\n",
       "    </tr>\n",
       "    <tr>\n",
       "      <th>Aline Rodrigues</th>\n",
       "      <td>113.00</td>\n",
       "    </tr>\n",
       "    <tr>\n",
       "      <th>Ana Costa</th>\n",
       "      <td>949.24</td>\n",
       "    </tr>\n",
       "    <tr>\n",
       "      <th>Antônio Oliveira</th>\n",
       "      <td>228.61</td>\n",
       "    </tr>\n",
       "  </tbody>\n",
       "</table>\n",
       "</div>"
      ],
      "text/plain": [
       "                              valor_parcela\n",
       "mes_parcela cliente                        \n",
       "Apr         Adriana Pereira         1163.49\n",
       "            Aline Rodrigues          113.00\n",
       "            Ana Costa                949.24\n",
       "            Antônio Oliveira         228.61"
      ]
     },
     "execution_count": 38,
     "metadata": {},
     "output_type": "execute_result"
    }
   ],
   "source": [
    "result.groupby([result['mes_parcela'], result['cliente']]).agg({'valor_parcela':sum}).head(4)"
   ]
  },
  {
   "cell_type": "code",
   "execution_count": 39,
   "metadata": {
    "executionInfo": {
     "elapsed": 73,
     "status": "ok",
     "timestamp": 1624285604745,
     "user": {
      "displayName": "Thiago Oliveira",
      "photoUrl": "",
      "userId": "16792580446587139449"
     },
     "user_tz": 180
    },
    "id": "nKBQKFjjn-UJ"
   },
   "outputs": [],
   "source": [
    "dfResult = result.groupby([result['num_parcela'], result['mes_parcela'], result['cliente'], result['limite']]).agg({'valor_parcela':sum}).reset_index()"
   ]
  },
  {
   "cell_type": "code",
   "execution_count": 40,
   "metadata": {
    "executionInfo": {
     "elapsed": 73,
     "status": "ok",
     "timestamp": 1624285604747,
     "user": {
      "displayName": "Thiago Oliveira",
      "photoUrl": "",
      "userId": "16792580446587139449"
     },
     "user_tz": 180
    },
    "id": "XYyfHB3En-UK"
   },
   "outputs": [],
   "source": [
    "# dfResult.style.applymap(color_negative_red, subset=['valor'])"
   ]
  },
  {
   "cell_type": "code",
   "execution_count": 41,
   "metadata": {
    "executionInfo": {
     "elapsed": 72,
     "status": "ok",
     "timestamp": 1624285604748,
     "user": {
      "displayName": "Thiago Oliveira",
      "photoUrl": "",
      "userId": "16792580446587139449"
     },
     "user_tz": 180
    },
    "id": "4nw8BGo2n-UL"
   },
   "outputs": [],
   "source": [
    "dfResult.columns = ['parcela', 'mes','cliente','limite', 'valor']\n"
   ]
  },
  {
   "cell_type": "code",
   "execution_count": 42,
   "metadata": {
    "colab": {
     "base_uri": "https://localhost:8080/",
     "height": 419
    },
    "executionInfo": {
     "elapsed": 71,
     "status": "ok",
     "timestamp": 1624285604749,
     "user": {
      "displayName": "Thiago Oliveira",
      "photoUrl": "",
      "userId": "16792580446587139449"
     },
     "user_tz": 180
    },
    "id": "BuxE0S3zn-UL",
    "outputId": "91aa33d2-537a-4d17-9c54-38b5f08f9bc0"
   },
   "outputs": [
    {
     "data": {
      "text/html": [
       "<div>\n",
       "<style scoped>\n",
       "    .dataframe tbody tr th:only-of-type {\n",
       "        vertical-align: middle;\n",
       "    }\n",
       "\n",
       "    .dataframe tbody tr th {\n",
       "        vertical-align: top;\n",
       "    }\n",
       "\n",
       "    .dataframe thead th {\n",
       "        text-align: right;\n",
       "    }\n",
       "</style>\n",
       "<table border=\"1\" class=\"dataframe\">\n",
       "  <thead>\n",
       "    <tr style=\"text-align: right;\">\n",
       "      <th></th>\n",
       "      <th>parcela</th>\n",
       "      <th>mes</th>\n",
       "      <th>cliente</th>\n",
       "      <th>limite</th>\n",
       "      <th>valor</th>\n",
       "    </tr>\n",
       "  </thead>\n",
       "  <tbody>\n",
       "    <tr>\n",
       "      <th>0</th>\n",
       "      <td>1</td>\n",
       "      <td>Feb</td>\n",
       "      <td>Adriana Pereira</td>\n",
       "      <td>1875.0</td>\n",
       "      <td>4015.79</td>\n",
       "    </tr>\n",
       "    <tr>\n",
       "      <th>1</th>\n",
       "      <td>1</td>\n",
       "      <td>Feb</td>\n",
       "      <td>Ana Costa</td>\n",
       "      <td>5375.0</td>\n",
       "      <td>231.98</td>\n",
       "    </tr>\n",
       "    <tr>\n",
       "      <th>2</th>\n",
       "      <td>1</td>\n",
       "      <td>Feb</td>\n",
       "      <td>Antônio Oliveira</td>\n",
       "      <td>2325.0</td>\n",
       "      <td>37.68</td>\n",
       "    </tr>\n",
       "    <tr>\n",
       "      <th>3</th>\n",
       "      <td>1</td>\n",
       "      <td>Feb</td>\n",
       "      <td>Camila Santos</td>\n",
       "      <td>3275.0</td>\n",
       "      <td>2120.67</td>\n",
       "    </tr>\n",
       "    <tr>\n",
       "      <th>4</th>\n",
       "      <td>1</td>\n",
       "      <td>Feb</td>\n",
       "      <td>Carlos Rodrigues</td>\n",
       "      <td>2675.0</td>\n",
       "      <td>1061.46</td>\n",
       "    </tr>\n",
       "    <tr>\n",
       "      <th>...</th>\n",
       "      <td>...</td>\n",
       "      <td>...</td>\n",
       "      <td>...</td>\n",
       "      <td>...</td>\n",
       "      <td>...</td>\n",
       "    </tr>\n",
       "    <tr>\n",
       "      <th>210</th>\n",
       "      <td>10</td>\n",
       "      <td>Nov</td>\n",
       "      <td>José Silva</td>\n",
       "      <td>4500.0</td>\n",
       "      <td>76.28</td>\n",
       "    </tr>\n",
       "    <tr>\n",
       "      <th>211</th>\n",
       "      <td>10</td>\n",
       "      <td>Oct</td>\n",
       "      <td>Francisco Santos</td>\n",
       "      <td>375.0</td>\n",
       "      <td>88.90</td>\n",
       "    </tr>\n",
       "    <tr>\n",
       "      <th>212</th>\n",
       "      <td>10</td>\n",
       "      <td>Oct</td>\n",
       "      <td>Luiz Alves</td>\n",
       "      <td>2575.0</td>\n",
       "      <td>391.14</td>\n",
       "    </tr>\n",
       "    <tr>\n",
       "      <th>213</th>\n",
       "      <td>10</td>\n",
       "      <td>Oct</td>\n",
       "      <td>Marcos Souza</td>\n",
       "      <td>3050.0</td>\n",
       "      <td>191.65</td>\n",
       "    </tr>\n",
       "    <tr>\n",
       "      <th>214</th>\n",
       "      <td>11</td>\n",
       "      <td>Dec</td>\n",
       "      <td>José Silva</td>\n",
       "      <td>4500.0</td>\n",
       "      <td>76.28</td>\n",
       "    </tr>\n",
       "  </tbody>\n",
       "</table>\n",
       "<p>215 rows × 5 columns</p>\n",
       "</div>"
      ],
      "text/plain": [
       "     parcela  mes           cliente  limite    valor\n",
       "0          1  Feb   Adriana Pereira  1875.0  4015.79\n",
       "1          1  Feb         Ana Costa  5375.0   231.98\n",
       "2          1  Feb  Antônio Oliveira  2325.0    37.68\n",
       "3          1  Feb     Camila Santos  3275.0  2120.67\n",
       "4          1  Feb  Carlos Rodrigues  2675.0  1061.46\n",
       "..       ...  ...               ...     ...      ...\n",
       "210       10  Nov        José Silva  4500.0    76.28\n",
       "211       10  Oct  Francisco Santos   375.0    88.90\n",
       "212       10  Oct        Luiz Alves  2575.0   391.14\n",
       "213       10  Oct      Marcos Souza  3050.0   191.65\n",
       "214       11  Dec        José Silva  4500.0    76.28\n",
       "\n",
       "[215 rows x 5 columns]"
      ]
     },
     "execution_count": 42,
     "metadata": {},
     "output_type": "execute_result"
    }
   ],
   "source": [
    "dfResult"
   ]
  },
  {
   "cell_type": "markdown",
   "metadata": {},
   "source": [
    "Criação de um novo dfResult3, agrupando pelo mês, cliente e limite, trazendo o somatório do valor."
   ]
  },
  {
   "cell_type": "code",
   "execution_count": 43,
   "metadata": {
    "executionInfo": {
     "elapsed": 69,
     "status": "ok",
     "timestamp": 1624285604750,
     "user": {
      "displayName": "Thiago Oliveira",
      "photoUrl": "",
      "userId": "16792580446587139449"
     },
     "user_tz": 180
    },
    "id": "tYzeqsnIn-UN"
   },
   "outputs": [],
   "source": [
    "dfResult3 = dfResult.groupby(['mes','cliente', 'limite'])['valor'].sum().reset_index()"
   ]
  },
  {
   "cell_type": "markdown",
   "metadata": {},
   "source": [
    "Criação de uma função para converter em valor negativo caso o valor é maior do que o limite estipulado"
   ]
  },
  {
   "cell_type": "code",
   "execution_count": 44,
   "metadata": {
    "executionInfo": {
     "elapsed": 69,
     "status": "ok",
     "timestamp": 1624285604751,
     "user": {
      "displayName": "Thiago Oliveira",
      "photoUrl": "",
      "userId": "16792580446587139449"
     },
     "user_tz": 180
    },
    "id": "JBpaeJcun-UO"
   },
   "outputs": [],
   "source": [
    "# def limite(valor, limite):\n",
    "#     if valor > limite:\n",
    "#         return float(-valor)\n",
    "#     else:\n",
    "#         return float(valor)"
   ]
  },
  {
   "cell_type": "code",
   "execution_count": 45,
   "metadata": {
    "executionInfo": {
     "elapsed": 68,
     "status": "ok",
     "timestamp": 1624285604752,
     "user": {
      "displayName": "Thiago Oliveira",
      "photoUrl": "",
      "userId": "16792580446587139449"
     },
     "user_tz": 180
    },
    "id": "6taPkWWHn-UP"
   },
   "outputs": [],
   "source": [
    "# dfResult3['valor'] = dfResult3.apply(lambda x: limite(x['valor'], x['limite']), axis=1)"
   ]
  },
  {
   "cell_type": "code",
   "execution_count": 46,
   "metadata": {
    "colab": {
     "base_uri": "https://localhost:8080/",
     "height": 359
    },
    "executionInfo": {
     "elapsed": 68,
     "status": "ok",
     "timestamp": 1624285604753,
     "user": {
      "displayName": "Thiago Oliveira",
      "photoUrl": "",
      "userId": "16792580446587139449"
     },
     "user_tz": 180
    },
    "id": "extNlm7Bn-UQ",
    "outputId": "f501019c-4149-4252-c79d-d75c275f59cd"
   },
   "outputs": [
    {
     "data": {
      "text/html": [
       "<div>\n",
       "<style scoped>\n",
       "    .dataframe tbody tr th:only-of-type {\n",
       "        vertical-align: middle;\n",
       "    }\n",
       "\n",
       "    .dataframe tbody tr th {\n",
       "        vertical-align: top;\n",
       "    }\n",
       "\n",
       "    .dataframe thead th {\n",
       "        text-align: right;\n",
       "    }\n",
       "</style>\n",
       "<table border=\"1\" class=\"dataframe\">\n",
       "  <thead>\n",
       "    <tr style=\"text-align: right;\">\n",
       "      <th></th>\n",
       "      <th>mes</th>\n",
       "      <th>cliente</th>\n",
       "      <th>limite</th>\n",
       "      <th>valor</th>\n",
       "    </tr>\n",
       "  </thead>\n",
       "  <tbody>\n",
       "    <tr>\n",
       "      <th>0</th>\n",
       "      <td>Apr</td>\n",
       "      <td>Adriana Pereira</td>\n",
       "      <td>1875.0</td>\n",
       "      <td>1163.49</td>\n",
       "    </tr>\n",
       "    <tr>\n",
       "      <th>20</th>\n",
       "      <td>Aug</td>\n",
       "      <td>Adriana Pereira</td>\n",
       "      <td>1875.0</td>\n",
       "      <td>108.46</td>\n",
       "    </tr>\n",
       "    <tr>\n",
       "      <th>31</th>\n",
       "      <td>Feb</td>\n",
       "      <td>Adriana Pereira</td>\n",
       "      <td>1875.0</td>\n",
       "      <td>4015.79</td>\n",
       "    </tr>\n",
       "    <tr>\n",
       "      <th>70</th>\n",
       "      <td>Jul</td>\n",
       "      <td>Adriana Pereira</td>\n",
       "      <td>1875.0</td>\n",
       "      <td>108.46</td>\n",
       "    </tr>\n",
       "    <tr>\n",
       "      <th>81</th>\n",
       "      <td>Jun</td>\n",
       "      <td>Adriana Pereira</td>\n",
       "      <td>1875.0</td>\n",
       "      <td>108.46</td>\n",
       "    </tr>\n",
       "    <tr>\n",
       "      <th>97</th>\n",
       "      <td>Mar</td>\n",
       "      <td>Adriana Pereira</td>\n",
       "      <td>1875.0</td>\n",
       "      <td>1895.91</td>\n",
       "    </tr>\n",
       "    <tr>\n",
       "      <th>117</th>\n",
       "      <td>May</td>\n",
       "      <td>Adriana Pereira</td>\n",
       "      <td>1875.0</td>\n",
       "      <td>147.35</td>\n",
       "    </tr>\n",
       "    <tr>\n",
       "      <th>135</th>\n",
       "      <td>Nov</td>\n",
       "      <td>Adriana Pereira</td>\n",
       "      <td>1875.0</td>\n",
       "      <td>108.46</td>\n",
       "    </tr>\n",
       "    <tr>\n",
       "      <th>137</th>\n",
       "      <td>Oct</td>\n",
       "      <td>Adriana Pereira</td>\n",
       "      <td>1875.0</td>\n",
       "      <td>108.46</td>\n",
       "    </tr>\n",
       "    <tr>\n",
       "      <th>144</th>\n",
       "      <td>Sep</td>\n",
       "      <td>Adriana Pereira</td>\n",
       "      <td>1875.0</td>\n",
       "      <td>108.46</td>\n",
       "    </tr>\n",
       "  </tbody>\n",
       "</table>\n",
       "</div>"
      ],
      "text/plain": [
       "     mes          cliente  limite    valor\n",
       "0    Apr  Adriana Pereira  1875.0  1163.49\n",
       "20   Aug  Adriana Pereira  1875.0   108.46\n",
       "31   Feb  Adriana Pereira  1875.0  4015.79\n",
       "70   Jul  Adriana Pereira  1875.0   108.46\n",
       "81   Jun  Adriana Pereira  1875.0   108.46\n",
       "97   Mar  Adriana Pereira  1875.0  1895.91\n",
       "117  May  Adriana Pereira  1875.0   147.35\n",
       "135  Nov  Adriana Pereira  1875.0   108.46\n",
       "137  Oct  Adriana Pereira  1875.0   108.46\n",
       "144  Sep  Adriana Pereira  1875.0   108.46"
      ]
     },
     "execution_count": 46,
     "metadata": {},
     "output_type": "execute_result"
    }
   ],
   "source": [
    "dfResult3[dfResult3['cliente']== 'Adriana Pereira']"
   ]
  },
  {
   "cell_type": "code",
   "execution_count": 47,
   "metadata": {
    "executionInfo": {
     "elapsed": 66,
     "status": "ok",
     "timestamp": 1624285604754,
     "user": {
      "displayName": "Thiago Oliveira",
      "photoUrl": "",
      "userId": "16792580446587139449"
     },
     "user_tz": 180
    },
    "id": "2SiCAyn3n-UQ"
   },
   "outputs": [],
   "source": [
    "dfFinal = dfResult3.pivot(columns=['mes'], index = ['cliente','limite'], values='valor').reset_index()"
   ]
  },
  {
   "cell_type": "markdown",
   "metadata": {},
   "source": [
    "Reajustando as colunas pelos meses conforme o calendário"
   ]
  },
  {
   "cell_type": "code",
   "execution_count": 48,
   "metadata": {
    "colab": {
     "base_uri": "https://localhost:8080/"
    },
    "executionInfo": {
     "elapsed": 64,
     "status": "ok",
     "timestamp": 1624285604755,
     "user": {
      "displayName": "Thiago Oliveira",
      "photoUrl": "",
      "userId": "16792580446587139449"
     },
     "user_tz": 180
    },
    "id": "LfIeAQCBn-UR",
    "outputId": "61ed0ae8-1537-4a92-e47f-6cede8e0e7ad"
   },
   "outputs": [
    {
     "data": {
      "text/plain": [
       "Index(['cliente', 'limite', 'Apr', 'Aug', 'Dec', 'Feb', 'Jan', 'Jul', 'Jun',\n",
       "       'Mar', 'May', 'Nov', 'Oct', 'Sep'],\n",
       "      dtype='object', name='mes')"
      ]
     },
     "execution_count": 48,
     "metadata": {},
     "output_type": "execute_result"
    }
   ],
   "source": [
    "dfFinal.columns"
   ]
  },
  {
   "cell_type": "code",
   "execution_count": 49,
   "metadata": {
    "executionInfo": {
     "elapsed": 30,
     "status": "ok",
     "timestamp": 1624285605012,
     "user": {
      "displayName": "Thiago Oliveira",
      "photoUrl": "",
      "userId": "16792580446587139449"
     },
     "user_tz": 180
    },
    "id": "mW1wA8_Fn-US"
   },
   "outputs": [],
   "source": [
    "dfFinal2 = dfFinal[['cliente', 'limite', 'Jan', 'Feb', 'Mar', 'Apr','May', 'Jun', 'Jul', 'Aug', 'Sep', 'Oct', 'Nov', 'Dec']]"
   ]
  },
  {
   "cell_type": "markdown",
   "metadata": {},
   "source": [
    "Substituindo os NA por 0"
   ]
  },
  {
   "cell_type": "code",
   "execution_count": 50,
   "metadata": {
    "colab": {
     "base_uri": "https://localhost:8080/",
     "height": 1000
    },
    "executionInfo": {
     "elapsed": 29,
     "status": "ok",
     "timestamp": 1624285605013,
     "user": {
      "displayName": "Thiago Oliveira",
      "photoUrl": "",
      "userId": "16792580446587139449"
     },
     "user_tz": 180
    },
    "id": "ymQ8zfCBn-US",
    "outputId": "aa0905aa-bb41-407c-e367-e6dddb59f306"
   },
   "outputs": [
    {
     "data": {
      "text/html": [
       "<div>\n",
       "<style scoped>\n",
       "    .dataframe tbody tr th:only-of-type {\n",
       "        vertical-align: middle;\n",
       "    }\n",
       "\n",
       "    .dataframe tbody tr th {\n",
       "        vertical-align: top;\n",
       "    }\n",
       "\n",
       "    .dataframe thead th {\n",
       "        text-align: right;\n",
       "    }\n",
       "</style>\n",
       "<table border=\"1\" class=\"dataframe\">\n",
       "  <thead>\n",
       "    <tr style=\"text-align: right;\">\n",
       "      <th>mes</th>\n",
       "      <th>cliente</th>\n",
       "      <th>limite</th>\n",
       "      <th>Jan</th>\n",
       "      <th>Feb</th>\n",
       "      <th>Mar</th>\n",
       "      <th>Apr</th>\n",
       "      <th>May</th>\n",
       "      <th>Jun</th>\n",
       "      <th>Jul</th>\n",
       "      <th>Aug</th>\n",
       "      <th>Sep</th>\n",
       "      <th>Oct</th>\n",
       "      <th>Nov</th>\n",
       "      <th>Dec</th>\n",
       "    </tr>\n",
       "  </thead>\n",
       "  <tbody>\n",
       "    <tr>\n",
       "      <th>0</th>\n",
       "      <td>Adriana Pereira</td>\n",
       "      <td>1875.0</td>\n",
       "      <td>0.00</td>\n",
       "      <td>4015.79</td>\n",
       "      <td>1895.91</td>\n",
       "      <td>1163.49</td>\n",
       "      <td>147.35</td>\n",
       "      <td>108.46</td>\n",
       "      <td>108.46</td>\n",
       "      <td>108.46</td>\n",
       "      <td>108.46</td>\n",
       "      <td>108.46</td>\n",
       "      <td>108.46</td>\n",
       "      <td>0.00</td>\n",
       "    </tr>\n",
       "    <tr>\n",
       "      <th>1</th>\n",
       "      <td>Aline Rodrigues</td>\n",
       "      <td>2600.0</td>\n",
       "      <td>1197.12</td>\n",
       "      <td>113.00</td>\n",
       "      <td>113.00</td>\n",
       "      <td>113.00</td>\n",
       "      <td>113.00</td>\n",
       "      <td>0.00</td>\n",
       "      <td>0.00</td>\n",
       "      <td>0.00</td>\n",
       "      <td>0.00</td>\n",
       "      <td>0.00</td>\n",
       "      <td>0.00</td>\n",
       "      <td>0.00</td>\n",
       "    </tr>\n",
       "    <tr>\n",
       "      <th>2</th>\n",
       "      <td>Ana Costa</td>\n",
       "      <td>5375.0</td>\n",
       "      <td>772.93</td>\n",
       "      <td>1004.91</td>\n",
       "      <td>1004.91</td>\n",
       "      <td>949.24</td>\n",
       "      <td>556.38</td>\n",
       "      <td>123.73</td>\n",
       "      <td>123.73</td>\n",
       "      <td>123.73</td>\n",
       "      <td>123.73</td>\n",
       "      <td>123.73</td>\n",
       "      <td>0.00</td>\n",
       "      <td>0.00</td>\n",
       "    </tr>\n",
       "    <tr>\n",
       "      <th>3</th>\n",
       "      <td>Antônio Oliveira</td>\n",
       "      <td>2325.0</td>\n",
       "      <td>2780.90</td>\n",
       "      <td>1253.26</td>\n",
       "      <td>632.66</td>\n",
       "      <td>228.61</td>\n",
       "      <td>95.69</td>\n",
       "      <td>37.68</td>\n",
       "      <td>0.00</td>\n",
       "      <td>0.00</td>\n",
       "      <td>0.00</td>\n",
       "      <td>0.00</td>\n",
       "      <td>0.00</td>\n",
       "      <td>0.00</td>\n",
       "    </tr>\n",
       "    <tr>\n",
       "      <th>4</th>\n",
       "      <td>Camila Santos</td>\n",
       "      <td>3275.0</td>\n",
       "      <td>628.48</td>\n",
       "      <td>2749.15</td>\n",
       "      <td>345.06</td>\n",
       "      <td>345.06</td>\n",
       "      <td>43.39</td>\n",
       "      <td>0.00</td>\n",
       "      <td>0.00</td>\n",
       "      <td>0.00</td>\n",
       "      <td>0.00</td>\n",
       "      <td>0.00</td>\n",
       "      <td>0.00</td>\n",
       "      <td>0.00</td>\n",
       "    </tr>\n",
       "    <tr>\n",
       "      <th>5</th>\n",
       "      <td>Carlos Rodrigues</td>\n",
       "      <td>2675.0</td>\n",
       "      <td>85.77</td>\n",
       "      <td>1147.23</td>\n",
       "      <td>1147.23</td>\n",
       "      <td>965.23</td>\n",
       "      <td>879.46</td>\n",
       "      <td>879.46</td>\n",
       "      <td>131.73</td>\n",
       "      <td>131.73</td>\n",
       "      <td>0.00</td>\n",
       "      <td>0.00</td>\n",
       "      <td>0.00</td>\n",
       "      <td>0.00</td>\n",
       "    </tr>\n",
       "    <tr>\n",
       "      <th>6</th>\n",
       "      <td>Fernanda Oliveira</td>\n",
       "      <td>2925.0</td>\n",
       "      <td>156.25</td>\n",
       "      <td>950.18</td>\n",
       "      <td>950.18</td>\n",
       "      <td>509.88</td>\n",
       "      <td>0.00</td>\n",
       "      <td>0.00</td>\n",
       "      <td>0.00</td>\n",
       "      <td>0.00</td>\n",
       "      <td>0.00</td>\n",
       "      <td>0.00</td>\n",
       "      <td>0.00</td>\n",
       "      <td>0.00</td>\n",
       "    </tr>\n",
       "    <tr>\n",
       "      <th>7</th>\n",
       "      <td>Francisco Santos</td>\n",
       "      <td>375.0</td>\n",
       "      <td>1416.80</td>\n",
       "      <td>1824.01</td>\n",
       "      <td>461.50</td>\n",
       "      <td>461.50</td>\n",
       "      <td>366.60</td>\n",
       "      <td>284.40</td>\n",
       "      <td>249.18</td>\n",
       "      <td>88.90</td>\n",
       "      <td>88.90</td>\n",
       "      <td>88.90</td>\n",
       "      <td>0.00</td>\n",
       "      <td>0.00</td>\n",
       "    </tr>\n",
       "    <tr>\n",
       "      <th>8</th>\n",
       "      <td>José Silva</td>\n",
       "      <td>4500.0</td>\n",
       "      <td>1046.00</td>\n",
       "      <td>1222.54</td>\n",
       "      <td>498.70</td>\n",
       "      <td>405.10</td>\n",
       "      <td>156.77</td>\n",
       "      <td>76.28</td>\n",
       "      <td>76.28</td>\n",
       "      <td>76.28</td>\n",
       "      <td>76.28</td>\n",
       "      <td>76.28</td>\n",
       "      <td>76.28</td>\n",
       "      <td>76.28</td>\n",
       "    </tr>\n",
       "    <tr>\n",
       "      <th>9</th>\n",
       "      <td>João Silva</td>\n",
       "      <td>2575.0</td>\n",
       "      <td>1442.06</td>\n",
       "      <td>900.07</td>\n",
       "      <td>843.07</td>\n",
       "      <td>843.07</td>\n",
       "      <td>390.81</td>\n",
       "      <td>140.12</td>\n",
       "      <td>140.12</td>\n",
       "      <td>140.12</td>\n",
       "      <td>0.00</td>\n",
       "      <td>0.00</td>\n",
       "      <td>0.00</td>\n",
       "      <td>0.00</td>\n",
       "    </tr>\n",
       "    <tr>\n",
       "      <th>10</th>\n",
       "      <td>Juliana Costa</td>\n",
       "      <td>5075.0</td>\n",
       "      <td>3531.91</td>\n",
       "      <td>486.50</td>\n",
       "      <td>51.25</td>\n",
       "      <td>51.25</td>\n",
       "      <td>0.00</td>\n",
       "      <td>0.00</td>\n",
       "      <td>0.00</td>\n",
       "      <td>0.00</td>\n",
       "      <td>0.00</td>\n",
       "      <td>0.00</td>\n",
       "      <td>0.00</td>\n",
       "      <td>0.00</td>\n",
       "    </tr>\n",
       "    <tr>\n",
       "      <th>11</th>\n",
       "      <td>Lucas Oliveira</td>\n",
       "      <td>525.0</td>\n",
       "      <td>2437.85</td>\n",
       "      <td>1010.97</td>\n",
       "      <td>790.85</td>\n",
       "      <td>586.79</td>\n",
       "      <td>348.93</td>\n",
       "      <td>94.20</td>\n",
       "      <td>0.00</td>\n",
       "      <td>0.00</td>\n",
       "      <td>0.00</td>\n",
       "      <td>0.00</td>\n",
       "      <td>0.00</td>\n",
       "      <td>0.00</td>\n",
       "    </tr>\n",
       "    <tr>\n",
       "      <th>12</th>\n",
       "      <td>Luiz Alves</td>\n",
       "      <td>2575.0</td>\n",
       "      <td>1485.43</td>\n",
       "      <td>976.83</td>\n",
       "      <td>761.33</td>\n",
       "      <td>453.67</td>\n",
       "      <td>453.67</td>\n",
       "      <td>431.54</td>\n",
       "      <td>391.14</td>\n",
       "      <td>391.14</td>\n",
       "      <td>391.14</td>\n",
       "      <td>391.14</td>\n",
       "      <td>0.00</td>\n",
       "      <td>0.00</td>\n",
       "    </tr>\n",
       "    <tr>\n",
       "      <th>13</th>\n",
       "      <td>Marcos Souza</td>\n",
       "      <td>3050.0</td>\n",
       "      <td>862.79</td>\n",
       "      <td>950.49</td>\n",
       "      <td>950.49</td>\n",
       "      <td>950.49</td>\n",
       "      <td>490.69</td>\n",
       "      <td>490.69</td>\n",
       "      <td>490.69</td>\n",
       "      <td>300.03</td>\n",
       "      <td>191.65</td>\n",
       "      <td>191.65</td>\n",
       "      <td>0.00</td>\n",
       "      <td>0.00</td>\n",
       "    </tr>\n",
       "    <tr>\n",
       "      <th>14</th>\n",
       "      <td>Maria Alves</td>\n",
       "      <td>5275.0</td>\n",
       "      <td>1740.59</td>\n",
       "      <td>1454.45</td>\n",
       "      <td>648.49</td>\n",
       "      <td>648.49</td>\n",
       "      <td>458.10</td>\n",
       "      <td>287.19</td>\n",
       "      <td>287.19</td>\n",
       "      <td>0.00</td>\n",
       "      <td>0.00</td>\n",
       "      <td>0.00</td>\n",
       "      <td>0.00</td>\n",
       "      <td>0.00</td>\n",
       "    </tr>\n",
       "    <tr>\n",
       "      <th>15</th>\n",
       "      <td>Márcia Silva</td>\n",
       "      <td>2200.0</td>\n",
       "      <td>3026.25</td>\n",
       "      <td>2166.64</td>\n",
       "      <td>1086.49</td>\n",
       "      <td>1086.49</td>\n",
       "      <td>618.81</td>\n",
       "      <td>305.13</td>\n",
       "      <td>0.00</td>\n",
       "      <td>0.00</td>\n",
       "      <td>0.00</td>\n",
       "      <td>0.00</td>\n",
       "      <td>0.00</td>\n",
       "      <td>0.00</td>\n",
       "    </tr>\n",
       "    <tr>\n",
       "      <th>16</th>\n",
       "      <td>Patrícia Pereira</td>\n",
       "      <td>2500.0</td>\n",
       "      <td>512.98</td>\n",
       "      <td>639.47</td>\n",
       "      <td>639.47</td>\n",
       "      <td>126.49</td>\n",
       "      <td>126.49</td>\n",
       "      <td>126.49</td>\n",
       "      <td>0.00</td>\n",
       "      <td>0.00</td>\n",
       "      <td>0.00</td>\n",
       "      <td>0.00</td>\n",
       "      <td>0.00</td>\n",
       "      <td>0.00</td>\n",
       "    </tr>\n",
       "    <tr>\n",
       "      <th>17</th>\n",
       "      <td>Paulo Gomes</td>\n",
       "      <td>4725.0</td>\n",
       "      <td>2073.51</td>\n",
       "      <td>3539.76</td>\n",
       "      <td>2199.50</td>\n",
       "      <td>2199.50</td>\n",
       "      <td>1706.04</td>\n",
       "      <td>1281.89</td>\n",
       "      <td>1281.89</td>\n",
       "      <td>1125.75</td>\n",
       "      <td>576.00</td>\n",
       "      <td>576.00</td>\n",
       "      <td>0.00</td>\n",
       "      <td>0.00</td>\n",
       "    </tr>\n",
       "    <tr>\n",
       "      <th>18</th>\n",
       "      <td>Pedro Ribeira</td>\n",
       "      <td>1800.0</td>\n",
       "      <td>27.00</td>\n",
       "      <td>399.43</td>\n",
       "      <td>399.43</td>\n",
       "      <td>399.43</td>\n",
       "      <td>399.43</td>\n",
       "      <td>117.67</td>\n",
       "      <td>117.67</td>\n",
       "      <td>117.67</td>\n",
       "      <td>117.67</td>\n",
       "      <td>0.00</td>\n",
       "      <td>0.00</td>\n",
       "      <td>0.00</td>\n",
       "    </tr>\n",
       "    <tr>\n",
       "      <th>19</th>\n",
       "      <td>Sandra Souza</td>\n",
       "      <td>3800.0</td>\n",
       "      <td>582.05</td>\n",
       "      <td>2654.69</td>\n",
       "      <td>1596.77</td>\n",
       "      <td>628.77</td>\n",
       "      <td>628.77</td>\n",
       "      <td>46.72</td>\n",
       "      <td>0.00</td>\n",
       "      <td>0.00</td>\n",
       "      <td>0.00</td>\n",
       "      <td>0.00</td>\n",
       "      <td>0.00</td>\n",
       "      <td>0.00</td>\n",
       "    </tr>\n",
       "  </tbody>\n",
       "</table>\n",
       "</div>"
      ],
      "text/plain": [
       "mes            cliente  limite      Jan      Feb      Mar      Apr      May  \\\n",
       "0      Adriana Pereira  1875.0     0.00  4015.79  1895.91  1163.49   147.35   \n",
       "1      Aline Rodrigues  2600.0  1197.12   113.00   113.00   113.00   113.00   \n",
       "2            Ana Costa  5375.0   772.93  1004.91  1004.91   949.24   556.38   \n",
       "3     Antônio Oliveira  2325.0  2780.90  1253.26   632.66   228.61    95.69   \n",
       "4        Camila Santos  3275.0   628.48  2749.15   345.06   345.06    43.39   \n",
       "5     Carlos Rodrigues  2675.0    85.77  1147.23  1147.23   965.23   879.46   \n",
       "6    Fernanda Oliveira  2925.0   156.25   950.18   950.18   509.88     0.00   \n",
       "7     Francisco Santos   375.0  1416.80  1824.01   461.50   461.50   366.60   \n",
       "8           José Silva  4500.0  1046.00  1222.54   498.70   405.10   156.77   \n",
       "9           João Silva  2575.0  1442.06   900.07   843.07   843.07   390.81   \n",
       "10       Juliana Costa  5075.0  3531.91   486.50    51.25    51.25     0.00   \n",
       "11      Lucas Oliveira   525.0  2437.85  1010.97   790.85   586.79   348.93   \n",
       "12          Luiz Alves  2575.0  1485.43   976.83   761.33   453.67   453.67   \n",
       "13        Marcos Souza  3050.0   862.79   950.49   950.49   950.49   490.69   \n",
       "14         Maria Alves  5275.0  1740.59  1454.45   648.49   648.49   458.10   \n",
       "15        Márcia Silva  2200.0  3026.25  2166.64  1086.49  1086.49   618.81   \n",
       "16    Patrícia Pereira  2500.0   512.98   639.47   639.47   126.49   126.49   \n",
       "17         Paulo Gomes  4725.0  2073.51  3539.76  2199.50  2199.50  1706.04   \n",
       "18       Pedro Ribeira  1800.0    27.00   399.43   399.43   399.43   399.43   \n",
       "19        Sandra Souza  3800.0   582.05  2654.69  1596.77   628.77   628.77   \n",
       "\n",
       "mes      Jun      Jul      Aug     Sep     Oct     Nov    Dec  \n",
       "0     108.46   108.46   108.46  108.46  108.46  108.46   0.00  \n",
       "1       0.00     0.00     0.00    0.00    0.00    0.00   0.00  \n",
       "2     123.73   123.73   123.73  123.73  123.73    0.00   0.00  \n",
       "3      37.68     0.00     0.00    0.00    0.00    0.00   0.00  \n",
       "4       0.00     0.00     0.00    0.00    0.00    0.00   0.00  \n",
       "5     879.46   131.73   131.73    0.00    0.00    0.00   0.00  \n",
       "6       0.00     0.00     0.00    0.00    0.00    0.00   0.00  \n",
       "7     284.40   249.18    88.90   88.90   88.90    0.00   0.00  \n",
       "8      76.28    76.28    76.28   76.28   76.28   76.28  76.28  \n",
       "9     140.12   140.12   140.12    0.00    0.00    0.00   0.00  \n",
       "10      0.00     0.00     0.00    0.00    0.00    0.00   0.00  \n",
       "11     94.20     0.00     0.00    0.00    0.00    0.00   0.00  \n",
       "12    431.54   391.14   391.14  391.14  391.14    0.00   0.00  \n",
       "13    490.69   490.69   300.03  191.65  191.65    0.00   0.00  \n",
       "14    287.19   287.19     0.00    0.00    0.00    0.00   0.00  \n",
       "15    305.13     0.00     0.00    0.00    0.00    0.00   0.00  \n",
       "16    126.49     0.00     0.00    0.00    0.00    0.00   0.00  \n",
       "17   1281.89  1281.89  1125.75  576.00  576.00    0.00   0.00  \n",
       "18    117.67   117.67   117.67  117.67    0.00    0.00   0.00  \n",
       "19     46.72     0.00     0.00    0.00    0.00    0.00   0.00  "
      ]
     },
     "execution_count": 50,
     "metadata": {},
     "output_type": "execute_result"
    }
   ],
   "source": [
    "dfFinal2.fillna(0)"
   ]
  },
  {
   "cell_type": "code",
   "execution_count": 51,
   "metadata": {
    "executionInfo": {
     "elapsed": 27,
     "status": "ok",
     "timestamp": 1624285605015,
     "user": {
      "displayName": "Thiago Oliveira",
      "photoUrl": "",
      "userId": "16792580446587139449"
     },
     "user_tz": 180
    },
    "id": "9agYzxE5n-US"
   },
   "outputs": [],
   "source": [
    "# def color_red(value):\n",
    "#     color = 'black'\n",
    "#     if value < 0:\n",
    "#         color = 'red'\n",
    " \n",
    "#     return 'color: %s' % color"
   ]
  },
  {
   "cell_type": "code",
   "execution_count": 52,
   "metadata": {
    "executionInfo": {
     "elapsed": 27,
     "status": "ok",
     "timestamp": 1624285605016,
     "user": {
      "displayName": "Thiago Oliveira",
      "photoUrl": "",
      "userId": "16792580446587139449"
     },
     "user_tz": 180
    },
    "id": "9Cuxq6oFn-UT"
   },
   "outputs": [],
   "source": [
    "# dfFinal2.style.applymap(color_red, subset=['Jan', 'Feb', 'Mar', 'Apr','May', 'Jun', 'Jul', 'Aug', 'Sep', 'Oct', 'Nov', 'Dec'])"
   ]
  },
  {
   "cell_type": "code",
   "execution_count": 53,
   "metadata": {
    "colab": {
     "base_uri": "https://localhost:8080/",
     "height": 1000
    },
    "executionInfo": {
     "elapsed": 26,
     "status": "ok",
     "timestamp": 1624285605017,
     "user": {
      "displayName": "Thiago Oliveira",
      "photoUrl": "",
      "userId": "16792580446587139449"
     },
     "user_tz": 180
    },
    "id": "EQn8CoKon-UT",
    "outputId": "1d5c2cd9-248b-4df6-8744-6ba11f7fcfb5"
   },
   "outputs": [
    {
     "data": {
      "text/html": [
       "<div>\n",
       "<style scoped>\n",
       "    .dataframe tbody tr th:only-of-type {\n",
       "        vertical-align: middle;\n",
       "    }\n",
       "\n",
       "    .dataframe tbody tr th {\n",
       "        vertical-align: top;\n",
       "    }\n",
       "\n",
       "    .dataframe thead th {\n",
       "        text-align: right;\n",
       "    }\n",
       "</style>\n",
       "<table border=\"1\" class=\"dataframe\">\n",
       "  <thead>\n",
       "    <tr style=\"text-align: right;\">\n",
       "      <th>mes</th>\n",
       "      <th>index</th>\n",
       "      <th>cliente</th>\n",
       "      <th>limite</th>\n",
       "      <th>Apr</th>\n",
       "      <th>Aug</th>\n",
       "      <th>Dec</th>\n",
       "      <th>Feb</th>\n",
       "      <th>Jan</th>\n",
       "      <th>Jul</th>\n",
       "      <th>Jun</th>\n",
       "      <th>Mar</th>\n",
       "      <th>May</th>\n",
       "      <th>Nov</th>\n",
       "      <th>Oct</th>\n",
       "      <th>Sep</th>\n",
       "    </tr>\n",
       "  </thead>\n",
       "  <tbody>\n",
       "    <tr>\n",
       "      <th>0</th>\n",
       "      <td>0</td>\n",
       "      <td>Adriana Pereira</td>\n",
       "      <td>1875.0</td>\n",
       "      <td>1163.49</td>\n",
       "      <td>108.46</td>\n",
       "      <td>NaN</td>\n",
       "      <td>4015.79</td>\n",
       "      <td>NaN</td>\n",
       "      <td>108.46</td>\n",
       "      <td>108.46</td>\n",
       "      <td>1895.91</td>\n",
       "      <td>147.35</td>\n",
       "      <td>108.46</td>\n",
       "      <td>108.46</td>\n",
       "      <td>108.46</td>\n",
       "    </tr>\n",
       "    <tr>\n",
       "      <th>1</th>\n",
       "      <td>1</td>\n",
       "      <td>Aline Rodrigues</td>\n",
       "      <td>2600.0</td>\n",
       "      <td>113.00</td>\n",
       "      <td>NaN</td>\n",
       "      <td>NaN</td>\n",
       "      <td>113.00</td>\n",
       "      <td>1197.12</td>\n",
       "      <td>NaN</td>\n",
       "      <td>NaN</td>\n",
       "      <td>113.00</td>\n",
       "      <td>113.00</td>\n",
       "      <td>NaN</td>\n",
       "      <td>NaN</td>\n",
       "      <td>NaN</td>\n",
       "    </tr>\n",
       "    <tr>\n",
       "      <th>2</th>\n",
       "      <td>2</td>\n",
       "      <td>Ana Costa</td>\n",
       "      <td>5375.0</td>\n",
       "      <td>949.24</td>\n",
       "      <td>123.73</td>\n",
       "      <td>NaN</td>\n",
       "      <td>1004.91</td>\n",
       "      <td>772.93</td>\n",
       "      <td>123.73</td>\n",
       "      <td>123.73</td>\n",
       "      <td>1004.91</td>\n",
       "      <td>556.38</td>\n",
       "      <td>NaN</td>\n",
       "      <td>123.73</td>\n",
       "      <td>123.73</td>\n",
       "    </tr>\n",
       "    <tr>\n",
       "      <th>3</th>\n",
       "      <td>3</td>\n",
       "      <td>Antônio Oliveira</td>\n",
       "      <td>2325.0</td>\n",
       "      <td>228.61</td>\n",
       "      <td>NaN</td>\n",
       "      <td>NaN</td>\n",
       "      <td>1253.26</td>\n",
       "      <td>2780.90</td>\n",
       "      <td>NaN</td>\n",
       "      <td>37.68</td>\n",
       "      <td>632.66</td>\n",
       "      <td>95.69</td>\n",
       "      <td>NaN</td>\n",
       "      <td>NaN</td>\n",
       "      <td>NaN</td>\n",
       "    </tr>\n",
       "    <tr>\n",
       "      <th>4</th>\n",
       "      <td>4</td>\n",
       "      <td>Camila Santos</td>\n",
       "      <td>3275.0</td>\n",
       "      <td>345.06</td>\n",
       "      <td>NaN</td>\n",
       "      <td>NaN</td>\n",
       "      <td>2749.15</td>\n",
       "      <td>628.48</td>\n",
       "      <td>NaN</td>\n",
       "      <td>NaN</td>\n",
       "      <td>345.06</td>\n",
       "      <td>43.39</td>\n",
       "      <td>NaN</td>\n",
       "      <td>NaN</td>\n",
       "      <td>NaN</td>\n",
       "    </tr>\n",
       "    <tr>\n",
       "      <th>5</th>\n",
       "      <td>5</td>\n",
       "      <td>Carlos Rodrigues</td>\n",
       "      <td>2675.0</td>\n",
       "      <td>965.23</td>\n",
       "      <td>131.73</td>\n",
       "      <td>NaN</td>\n",
       "      <td>1147.23</td>\n",
       "      <td>85.77</td>\n",
       "      <td>131.73</td>\n",
       "      <td>879.46</td>\n",
       "      <td>1147.23</td>\n",
       "      <td>879.46</td>\n",
       "      <td>NaN</td>\n",
       "      <td>NaN</td>\n",
       "      <td>NaN</td>\n",
       "    </tr>\n",
       "    <tr>\n",
       "      <th>6</th>\n",
       "      <td>6</td>\n",
       "      <td>Fernanda Oliveira</td>\n",
       "      <td>2925.0</td>\n",
       "      <td>509.88</td>\n",
       "      <td>NaN</td>\n",
       "      <td>NaN</td>\n",
       "      <td>950.18</td>\n",
       "      <td>156.25</td>\n",
       "      <td>NaN</td>\n",
       "      <td>NaN</td>\n",
       "      <td>950.18</td>\n",
       "      <td>NaN</td>\n",
       "      <td>NaN</td>\n",
       "      <td>NaN</td>\n",
       "      <td>NaN</td>\n",
       "    </tr>\n",
       "    <tr>\n",
       "      <th>7</th>\n",
       "      <td>7</td>\n",
       "      <td>Francisco Santos</td>\n",
       "      <td>375.0</td>\n",
       "      <td>461.50</td>\n",
       "      <td>88.90</td>\n",
       "      <td>NaN</td>\n",
       "      <td>1824.01</td>\n",
       "      <td>1416.80</td>\n",
       "      <td>249.18</td>\n",
       "      <td>284.40</td>\n",
       "      <td>461.50</td>\n",
       "      <td>366.60</td>\n",
       "      <td>NaN</td>\n",
       "      <td>88.90</td>\n",
       "      <td>88.90</td>\n",
       "    </tr>\n",
       "    <tr>\n",
       "      <th>8</th>\n",
       "      <td>8</td>\n",
       "      <td>José Silva</td>\n",
       "      <td>4500.0</td>\n",
       "      <td>405.10</td>\n",
       "      <td>76.28</td>\n",
       "      <td>76.28</td>\n",
       "      <td>1222.54</td>\n",
       "      <td>1046.00</td>\n",
       "      <td>76.28</td>\n",
       "      <td>76.28</td>\n",
       "      <td>498.70</td>\n",
       "      <td>156.77</td>\n",
       "      <td>76.28</td>\n",
       "      <td>76.28</td>\n",
       "      <td>76.28</td>\n",
       "    </tr>\n",
       "    <tr>\n",
       "      <th>9</th>\n",
       "      <td>9</td>\n",
       "      <td>João Silva</td>\n",
       "      <td>2575.0</td>\n",
       "      <td>843.07</td>\n",
       "      <td>140.12</td>\n",
       "      <td>NaN</td>\n",
       "      <td>900.07</td>\n",
       "      <td>1442.06</td>\n",
       "      <td>140.12</td>\n",
       "      <td>140.12</td>\n",
       "      <td>843.07</td>\n",
       "      <td>390.81</td>\n",
       "      <td>NaN</td>\n",
       "      <td>NaN</td>\n",
       "      <td>NaN</td>\n",
       "    </tr>\n",
       "    <tr>\n",
       "      <th>10</th>\n",
       "      <td>10</td>\n",
       "      <td>Juliana Costa</td>\n",
       "      <td>5075.0</td>\n",
       "      <td>51.25</td>\n",
       "      <td>NaN</td>\n",
       "      <td>NaN</td>\n",
       "      <td>486.50</td>\n",
       "      <td>3531.91</td>\n",
       "      <td>NaN</td>\n",
       "      <td>NaN</td>\n",
       "      <td>51.25</td>\n",
       "      <td>NaN</td>\n",
       "      <td>NaN</td>\n",
       "      <td>NaN</td>\n",
       "      <td>NaN</td>\n",
       "    </tr>\n",
       "    <tr>\n",
       "      <th>11</th>\n",
       "      <td>11</td>\n",
       "      <td>Lucas Oliveira</td>\n",
       "      <td>525.0</td>\n",
       "      <td>586.79</td>\n",
       "      <td>NaN</td>\n",
       "      <td>NaN</td>\n",
       "      <td>1010.97</td>\n",
       "      <td>2437.85</td>\n",
       "      <td>NaN</td>\n",
       "      <td>94.20</td>\n",
       "      <td>790.85</td>\n",
       "      <td>348.93</td>\n",
       "      <td>NaN</td>\n",
       "      <td>NaN</td>\n",
       "      <td>NaN</td>\n",
       "    </tr>\n",
       "    <tr>\n",
       "      <th>12</th>\n",
       "      <td>12</td>\n",
       "      <td>Luiz Alves</td>\n",
       "      <td>2575.0</td>\n",
       "      <td>453.67</td>\n",
       "      <td>391.14</td>\n",
       "      <td>NaN</td>\n",
       "      <td>976.83</td>\n",
       "      <td>1485.43</td>\n",
       "      <td>391.14</td>\n",
       "      <td>431.54</td>\n",
       "      <td>761.33</td>\n",
       "      <td>453.67</td>\n",
       "      <td>NaN</td>\n",
       "      <td>391.14</td>\n",
       "      <td>391.14</td>\n",
       "    </tr>\n",
       "    <tr>\n",
       "      <th>13</th>\n",
       "      <td>13</td>\n",
       "      <td>Marcos Souza</td>\n",
       "      <td>3050.0</td>\n",
       "      <td>950.49</td>\n",
       "      <td>300.03</td>\n",
       "      <td>NaN</td>\n",
       "      <td>950.49</td>\n",
       "      <td>862.79</td>\n",
       "      <td>490.69</td>\n",
       "      <td>490.69</td>\n",
       "      <td>950.49</td>\n",
       "      <td>490.69</td>\n",
       "      <td>NaN</td>\n",
       "      <td>191.65</td>\n",
       "      <td>191.65</td>\n",
       "    </tr>\n",
       "    <tr>\n",
       "      <th>14</th>\n",
       "      <td>14</td>\n",
       "      <td>Maria Alves</td>\n",
       "      <td>5275.0</td>\n",
       "      <td>648.49</td>\n",
       "      <td>NaN</td>\n",
       "      <td>NaN</td>\n",
       "      <td>1454.45</td>\n",
       "      <td>1740.59</td>\n",
       "      <td>287.19</td>\n",
       "      <td>287.19</td>\n",
       "      <td>648.49</td>\n",
       "      <td>458.10</td>\n",
       "      <td>NaN</td>\n",
       "      <td>NaN</td>\n",
       "      <td>NaN</td>\n",
       "    </tr>\n",
       "    <tr>\n",
       "      <th>15</th>\n",
       "      <td>15</td>\n",
       "      <td>Márcia Silva</td>\n",
       "      <td>2200.0</td>\n",
       "      <td>1086.49</td>\n",
       "      <td>NaN</td>\n",
       "      <td>NaN</td>\n",
       "      <td>2166.64</td>\n",
       "      <td>3026.25</td>\n",
       "      <td>NaN</td>\n",
       "      <td>305.13</td>\n",
       "      <td>1086.49</td>\n",
       "      <td>618.81</td>\n",
       "      <td>NaN</td>\n",
       "      <td>NaN</td>\n",
       "      <td>NaN</td>\n",
       "    </tr>\n",
       "    <tr>\n",
       "      <th>16</th>\n",
       "      <td>16</td>\n",
       "      <td>Patrícia Pereira</td>\n",
       "      <td>2500.0</td>\n",
       "      <td>126.49</td>\n",
       "      <td>NaN</td>\n",
       "      <td>NaN</td>\n",
       "      <td>639.47</td>\n",
       "      <td>512.98</td>\n",
       "      <td>NaN</td>\n",
       "      <td>126.49</td>\n",
       "      <td>639.47</td>\n",
       "      <td>126.49</td>\n",
       "      <td>NaN</td>\n",
       "      <td>NaN</td>\n",
       "      <td>NaN</td>\n",
       "    </tr>\n",
       "    <tr>\n",
       "      <th>17</th>\n",
       "      <td>17</td>\n",
       "      <td>Paulo Gomes</td>\n",
       "      <td>4725.0</td>\n",
       "      <td>2199.50</td>\n",
       "      <td>1125.75</td>\n",
       "      <td>NaN</td>\n",
       "      <td>3539.76</td>\n",
       "      <td>2073.51</td>\n",
       "      <td>1281.89</td>\n",
       "      <td>1281.89</td>\n",
       "      <td>2199.50</td>\n",
       "      <td>1706.04</td>\n",
       "      <td>NaN</td>\n",
       "      <td>576.00</td>\n",
       "      <td>576.00</td>\n",
       "    </tr>\n",
       "    <tr>\n",
       "      <th>18</th>\n",
       "      <td>18</td>\n",
       "      <td>Pedro Ribeira</td>\n",
       "      <td>1800.0</td>\n",
       "      <td>399.43</td>\n",
       "      <td>117.67</td>\n",
       "      <td>NaN</td>\n",
       "      <td>399.43</td>\n",
       "      <td>27.00</td>\n",
       "      <td>117.67</td>\n",
       "      <td>117.67</td>\n",
       "      <td>399.43</td>\n",
       "      <td>399.43</td>\n",
       "      <td>NaN</td>\n",
       "      <td>NaN</td>\n",
       "      <td>117.67</td>\n",
       "    </tr>\n",
       "    <tr>\n",
       "      <th>19</th>\n",
       "      <td>19</td>\n",
       "      <td>Sandra Souza</td>\n",
       "      <td>3800.0</td>\n",
       "      <td>628.77</td>\n",
       "      <td>NaN</td>\n",
       "      <td>NaN</td>\n",
       "      <td>2654.69</td>\n",
       "      <td>582.05</td>\n",
       "      <td>NaN</td>\n",
       "      <td>46.72</td>\n",
       "      <td>1596.77</td>\n",
       "      <td>628.77</td>\n",
       "      <td>NaN</td>\n",
       "      <td>NaN</td>\n",
       "      <td>NaN</td>\n",
       "    </tr>\n",
       "  </tbody>\n",
       "</table>\n",
       "</div>"
      ],
      "text/plain": [
       "mes  index            cliente  limite      Apr      Aug    Dec      Feb  \\\n",
       "0        0    Adriana Pereira  1875.0  1163.49   108.46    NaN  4015.79   \n",
       "1        1    Aline Rodrigues  2600.0   113.00      NaN    NaN   113.00   \n",
       "2        2          Ana Costa  5375.0   949.24   123.73    NaN  1004.91   \n",
       "3        3   Antônio Oliveira  2325.0   228.61      NaN    NaN  1253.26   \n",
       "4        4      Camila Santos  3275.0   345.06      NaN    NaN  2749.15   \n",
       "5        5   Carlos Rodrigues  2675.0   965.23   131.73    NaN  1147.23   \n",
       "6        6  Fernanda Oliveira  2925.0   509.88      NaN    NaN   950.18   \n",
       "7        7   Francisco Santos   375.0   461.50    88.90    NaN  1824.01   \n",
       "8        8         José Silva  4500.0   405.10    76.28  76.28  1222.54   \n",
       "9        9         João Silva  2575.0   843.07   140.12    NaN   900.07   \n",
       "10      10      Juliana Costa  5075.0    51.25      NaN    NaN   486.50   \n",
       "11      11     Lucas Oliveira   525.0   586.79      NaN    NaN  1010.97   \n",
       "12      12         Luiz Alves  2575.0   453.67   391.14    NaN   976.83   \n",
       "13      13       Marcos Souza  3050.0   950.49   300.03    NaN   950.49   \n",
       "14      14        Maria Alves  5275.0   648.49      NaN    NaN  1454.45   \n",
       "15      15       Márcia Silva  2200.0  1086.49      NaN    NaN  2166.64   \n",
       "16      16   Patrícia Pereira  2500.0   126.49      NaN    NaN   639.47   \n",
       "17      17        Paulo Gomes  4725.0  2199.50  1125.75    NaN  3539.76   \n",
       "18      18      Pedro Ribeira  1800.0   399.43   117.67    NaN   399.43   \n",
       "19      19       Sandra Souza  3800.0   628.77      NaN    NaN  2654.69   \n",
       "\n",
       "mes      Jan      Jul      Jun      Mar      May     Nov     Oct     Sep  \n",
       "0        NaN   108.46   108.46  1895.91   147.35  108.46  108.46  108.46  \n",
       "1    1197.12      NaN      NaN   113.00   113.00     NaN     NaN     NaN  \n",
       "2     772.93   123.73   123.73  1004.91   556.38     NaN  123.73  123.73  \n",
       "3    2780.90      NaN    37.68   632.66    95.69     NaN     NaN     NaN  \n",
       "4     628.48      NaN      NaN   345.06    43.39     NaN     NaN     NaN  \n",
       "5      85.77   131.73   879.46  1147.23   879.46     NaN     NaN     NaN  \n",
       "6     156.25      NaN      NaN   950.18      NaN     NaN     NaN     NaN  \n",
       "7    1416.80   249.18   284.40   461.50   366.60     NaN   88.90   88.90  \n",
       "8    1046.00    76.28    76.28   498.70   156.77   76.28   76.28   76.28  \n",
       "9    1442.06   140.12   140.12   843.07   390.81     NaN     NaN     NaN  \n",
       "10   3531.91      NaN      NaN    51.25      NaN     NaN     NaN     NaN  \n",
       "11   2437.85      NaN    94.20   790.85   348.93     NaN     NaN     NaN  \n",
       "12   1485.43   391.14   431.54   761.33   453.67     NaN  391.14  391.14  \n",
       "13    862.79   490.69   490.69   950.49   490.69     NaN  191.65  191.65  \n",
       "14   1740.59   287.19   287.19   648.49   458.10     NaN     NaN     NaN  \n",
       "15   3026.25      NaN   305.13  1086.49   618.81     NaN     NaN     NaN  \n",
       "16    512.98      NaN   126.49   639.47   126.49     NaN     NaN     NaN  \n",
       "17   2073.51  1281.89  1281.89  2199.50  1706.04     NaN  576.00  576.00  \n",
       "18     27.00   117.67   117.67   399.43   399.43     NaN     NaN  117.67  \n",
       "19    582.05      NaN    46.72  1596.77   628.77     NaN     NaN     NaN  "
      ]
     },
     "execution_count": 53,
     "metadata": {},
     "output_type": "execute_result"
    }
   ],
   "source": [
    "dfFinal.reset_index()"
   ]
  },
  {
   "cell_type": "code",
   "execution_count": 54,
   "metadata": {
    "executionInfo": {
     "elapsed": 401,
     "status": "ok",
     "timestamp": 1624285609988,
     "user": {
      "displayName": "Thiago Oliveira",
      "photoUrl": "",
      "userId": "16792580446587139449"
     },
     "user_tz": 180
    },
    "id": "oCm6WK4Hn-UU"
   },
   "outputs": [],
   "source": [
    "#!pip install fpdf2\n",
    "from fpdf import FPDF, HTMLMixin\n",
    "import pandas as pd \n",
    "\n",
    "class PDF(FPDF, HTMLMixin):\n",
    "    def __init__(self, orientation):\n",
    "\n",
    "        super().__init__(orientation)\n",
    "        \n",
    "        #função para arrendondar com 2 casas decimais e trazer o cifrão R$\n",
    "    def roundAndString(self, x):\n",
    "        return \"R$ {:0.2f}\".format(x)\n",
    "    \n",
    "        #função que será utilizada pra verificar condição para colorir em vermelho  \n",
    "    def check(self, list1, val):\n",
    "        for x in list1:\n",
    "            if x >= val:\n",
    "                return True\n",
    "        return False\n",
    "    \n",
    "        #função para gerar PDF nas configurações propostas\n",
    "    def generatePDFfromDF(self, df):\n",
    "        self.add_page()\n",
    "        pdf.set_font(\"Times\", size=10)\n",
    "        line_height = pdf.font_size * 2.4\n",
    "        col_width_Cliente = (pdf.epw / 14) * 1.5  # distribute content evenly\n",
    "        col_width_resto = (pdf.epw / 14) - ((pdf.epw / 14) * 1.4) / 13  # distribute content evenly\n",
    "        col_width_resto *= 1.11\n",
    "        pdf.set_fill_color(0,64,128)\n",
    "        pdf.set_text_color(255,255,255)\n",
    "        pdf.multi_cell(col_width_Cliente, line_height, \"Cliente\", border=1, ln=3, max_line_height=pdf.font_size, fill=True)\n",
    "        pdf.multi_cell(col_width_resto, line_height, \"Limite\", border=1, ln=3, max_line_height=pdf.font_size, fill=True)\n",
    "        pdf.multi_cell(col_width_resto, line_height, \"Jan\", border=1, ln=3, max_line_height=pdf.font_size, align=\"C\", fill=True)\n",
    "        pdf.multi_cell(col_width_resto, line_height, \"Feb\", border=1, ln=3, max_line_height=pdf.font_size, align=\"C\", fill=True)\n",
    "        pdf.multi_cell(col_width_resto, line_height, \"Mar\", border=1, ln=3, max_line_height=pdf.font_size, align=\"C\", fill=True)\n",
    "        pdf.multi_cell(col_width_resto, line_height, \"Apr\", border=1, ln=3, max_line_height=pdf.font_size, align=\"C\", fill=True)\n",
    "        pdf.multi_cell(col_width_resto, line_height, \"Mai\", border=1, ln=3, max_line_height=pdf.font_size, align=\"C\", fill=True)\n",
    "        pdf.multi_cell(col_width_resto, line_height, \"Jun\", border=1, ln=3, max_line_height=pdf.font_size, align=\"C\", fill=True)\n",
    "        pdf.multi_cell(col_width_resto, line_height, \"Jul\", border=1, ln=3, max_line_height=pdf.font_size, align=\"C\", fill=True)\n",
    "        pdf.multi_cell(col_width_resto, line_height, \"Ago\", border=1, ln=3, max_line_height=pdf.font_size, align=\"C\", fill=True)\n",
    "        pdf.multi_cell(col_width_resto, line_height, \"Set\", border=1, ln=3, max_line_height=pdf.font_size, align=\"C\", fill=True)\n",
    "        pdf.multi_cell(col_width_resto, line_height, \"Out\", border=1, ln=3, max_line_height=pdf.font_size, align=\"C\", fill=True)\n",
    "        pdf.multi_cell(col_width_resto, line_height, \"Nov\", border=1, ln=3, max_line_height=pdf.font_size, align=\"C\", fill=True)\n",
    "        pdf.multi_cell(col_width_resto, line_height, \"Dec\", border=1, ln=3, max_line_height=pdf.font_size, align=\"C\", fill=True)\n",
    "        pdf.ln(line_height)\n",
    "        for row in df.values:\n",
    "            cliente = row[0]\n",
    "            if self.check(row[-12:], row[1]):\n",
    "                pdf.set_text_color(255,0,0)\n",
    "            else:\n",
    "                pdf.set_text_color(0,0,0)\n",
    "            \n",
    "            pdf.multi_cell(col_width_Cliente, line_height, cliente, border=1, ln=3, max_line_height=pdf.font_size)\n",
    "            pdf.set_text_color(0,0,0)\n",
    "            limite = row[1]\n",
    "            pdf.multi_cell(col_width_resto, line_height, self.roundAndString(limite), border=1, ln=3, max_line_height=pdf.font_size, align=\"R\")\n",
    "            Jan = row[2]\n",
    "            if(Jan>=limite):\n",
    "                pdf.set_text_color(255,0,0)\n",
    "            else:\n",
    "                pdf.set_text_color(0,0,0)\n",
    "            pdf.multi_cell(col_width_resto, line_height, self.roundAndString(Jan), border=1, ln=3, max_line_height=pdf.font_size, align=\"R\")\n",
    "            Fev = row[3]\n",
    "            if(Fev>=limite):\n",
    "                pdf.set_text_color(255,0,0)\n",
    "            else:\n",
    "                pdf.set_text_color(0,0,0)\n",
    "            pdf.multi_cell(col_width_resto, line_height, self.roundAndString(Fev), border=1, ln=3, max_line_height=pdf.font_size, align=\"R\")\n",
    "            Mar = row[4]\n",
    "            if(Mar>=limite):\n",
    "                pdf.set_text_color(255,0,0)\n",
    "            else:\n",
    "                pdf.set_text_color(0,0,0)\n",
    "            pdf.multi_cell(col_width_resto, line_height, self.roundAndString(Mar), border=1, ln=3, max_line_height=pdf.font_size, align=\"R\")\n",
    "            Apr = row[5]\n",
    "            if(Apr>=limite):\n",
    "                pdf.set_text_color(255,0,0)\n",
    "            else:\n",
    "                pdf.set_text_color(0,0,0)\n",
    "            pdf.multi_cell(col_width_resto, line_height, self.roundAndString(Apr), border=1, ln=3, max_line_height=pdf.font_size, align=\"R\")\n",
    "            May = row[6]\n",
    "            if(May>=limite):\n",
    "                pdf.set_text_color(255,0,0)\n",
    "            else:\n",
    "                pdf.set_text_color(0,0,0)\n",
    "            pdf.multi_cell(col_width_resto, line_height, self.roundAndString(May), border=1, ln=3, max_line_height=pdf.font_size, align=\"R\")\n",
    "            Jun = row[7]\n",
    "            if(Jun>=limite):\n",
    "                pdf.set_text_color(255,0,0)\n",
    "            else:\n",
    "                pdf.set_text_color(0,0,0)\n",
    "            pdf.multi_cell(col_width_resto, line_height, self.roundAndString(Jun), border=1, ln=3, max_line_height=pdf.font_size, align=\"R\")\n",
    "            Jul = row[8]\n",
    "            if(Jul>=limite):\n",
    "                pdf.set_text_color(255,0,0)\n",
    "            else:\n",
    "                pdf.set_text_color(0,0,0)\n",
    "            pdf.multi_cell(col_width_resto, line_height, self.roundAndString(Jul), border=1, ln=3, max_line_height=pdf.font_size, align=\"R\")\n",
    "            Ago = row[9]\n",
    "            if(Ago>=limite):\n",
    "                pdf.set_text_color(255,0,0)\n",
    "            else:\n",
    "                pdf.set_text_color(0,0,0)\n",
    "            pdf.multi_cell(col_width_resto, line_height, self.roundAndString(Ago), border=1, ln=3, max_line_height=pdf.font_size, align=\"R\")\n",
    "            Sep = row[10]\n",
    "            if(Sep>=limite):\n",
    "                pdf.set_text_color(255,0,0)\n",
    "            else:\n",
    "                pdf.set_text_color(0,0,0)\n",
    "            pdf.multi_cell(col_width_resto, line_height, self.roundAndString(Sep), border=1, ln=3, max_line_height=pdf.font_size, align=\"R\")\n",
    "            Oct = row[11]\n",
    "            if(Oct>=limite):\n",
    "                pdf.set_text_color(255,0,0)\n",
    "            else:\n",
    "                pdf.set_text_color(0,0,0)\n",
    "            pdf.multi_cell(col_width_resto, line_height, self.roundAndString(Oct), border=1, ln=3, max_line_height=pdf.font_size, align=\"R\")\n",
    "            Nov = row[12]\n",
    "            if(Nov>=limite):\n",
    "                pdf.set_text_color(255,0,0)\n",
    "            else:\n",
    "                pdf.set_text_color(0,0,0)\n",
    "            pdf.multi_cell(col_width_resto, line_height, self.roundAndString(Nov), border=1, ln=3, max_line_height=pdf.font_size, align=\"R\")\n",
    "            Dec= row[13]\n",
    "            if(Dec>=limite):\n",
    "                pdf.set_text_color(255,0,0)\n",
    "            else:\n",
    "                pdf.set_text_color(0,0,0)\n",
    "            pdf.multi_cell(col_width_resto, line_height, self.roundAndString(Dec), border=1, ln=3, max_line_height=pdf.font_size, align=\"R\")\n",
    "            pdf.set_text_color(0,0,0)\n",
    "            pdf.ln(line_height)\n",
    "        # pd.set_option('display.max_colwidth', 40)\n",
    "        # html = df.to_html(col_space='40px', index=False)\n",
    "        \n",
    "        # html = str(html).replace(\"style=\\\"min-width: 40px;\\\"\", \"width='40'\")\n",
    "        # html = str(html).replace(\"<th>mes</th>\", \"\")\n",
    "        # html = str(html).replace(\"<th></th>\", \"\")\n",
    "        # print(html)\n",
    "        # #print(html)\n",
    "        # self.write_html(html)\n",
    "\n",
    "        self.output(\"relatorio_consumo.pdf\")"
   ]
  },
  {
   "cell_type": "code",
   "execution_count": 55,
   "metadata": {
    "colab": {
     "base_uri": "https://localhost:8080/"
    },
    "executionInfo": {
     "elapsed": 683,
     "status": "ok",
     "timestamp": 1624285610663,
     "user": {
      "displayName": "Thiago Oliveira",
      "photoUrl": "",
      "userId": "16792580446587139449"
     },
     "user_tz": 180
    },
    "id": "dq2KswPen-UV",
    "outputId": "85d6e3b1-1b36-4c75-fcda-ea64f64f14d1"
   },
   "outputs": [
    {
     "name": "stdout",
     "output_type": "stream",
     "text": [
      "<class 'pandas.core.frame.DataFrame'>\n",
      "RangeIndex: 20 entries, 0 to 19\n",
      "Data columns (total 14 columns):\n",
      " #   Column   Non-Null Count  Dtype  \n",
      "---  ------   --------------  -----  \n",
      " 0   cliente  20 non-null     object \n",
      " 1   limite   20 non-null     float64\n",
      " 2   Jan      19 non-null     float64\n",
      " 3   Feb      20 non-null     float64\n",
      " 4   Mar      20 non-null     float64\n",
      " 5   Apr      20 non-null     float64\n",
      " 6   May      18 non-null     float64\n",
      " 7   Jun      16 non-null     float64\n",
      " 8   Jul      11 non-null     float64\n",
      " 9   Aug      10 non-null     float64\n",
      " 10  Sep      8 non-null      float64\n",
      " 11  Oct      7 non-null      float64\n",
      " 12  Nov      2 non-null      float64\n",
      " 13  Dec      1 non-null      float64\n",
      "dtypes: float64(13), object(1)\n",
      "memory usage: 2.3+ KB\n"
     ]
    }
   ],
   "source": [
    "dfFinal2.info()"
   ]
  },
  {
   "cell_type": "code",
   "execution_count": 56,
   "metadata": {
    "executionInfo": {
     "elapsed": 174,
     "status": "ok",
     "timestamp": 1624285610664,
     "user": {
      "displayName": "Thiago Oliveira",
      "photoUrl": "",
      "userId": "16792580446587139449"
     },
     "user_tz": 180
    },
    "id": "WlvX7iA_n-UW"
   },
   "outputs": [],
   "source": [
    "dfFinal2.fillna(0, inplace=True)"
   ]
  },
  {
   "cell_type": "code",
   "execution_count": 57,
   "metadata": {
    "colab": {
     "base_uri": "https://localhost:8080/"
    },
    "executionInfo": {
     "elapsed": 173,
     "status": "ok",
     "timestamp": 1624285610666,
     "user": {
      "displayName": "Thiago Oliveira",
      "photoUrl": "",
      "userId": "16792580446587139449"
     },
     "user_tz": 180
    },
    "id": "eZgVblVyn-UX",
    "outputId": "96c78474-2e18-4a6c-c082-53014def51b0"
   },
   "outputs": [
    {
     "data": {
      "text/plain": [
       "array([1197.1200000000001, 113.0, 113.0, 113.0, 113.0, 0.0, 0.0, 0.0, 0.0,\n",
       "       0.0, 0.0, 0.0], dtype=object)"
      ]
     },
     "execution_count": 57,
     "metadata": {},
     "output_type": "execute_result"
    }
   ],
   "source": [
    "dfFinal2.values[1][-12:]"
   ]
  },
  {
   "cell_type": "code",
   "execution_count": 59,
   "metadata": {
    "executionInfo": {
     "elapsed": 147,
     "status": "ok",
     "timestamp": 1624285610667,
     "user": {
      "displayName": "Thiago Oliveira",
      "photoUrl": "",
      "userId": "16792580446587139449"
     },
     "user_tz": 180
    },
    "id": "fyi56uMmn-UY"
   },
   "outputs": [],
   "source": [
    "def check( list1, val):\n",
    "        for x in list1:\n",
    "            if x >= val:\n",
    "                return False\n",
    "        return True"
   ]
  },
  {
   "cell_type": "code",
   "execution_count": 60,
   "metadata": {
    "colab": {
     "base_uri": "https://localhost:8080/"
    },
    "executionInfo": {
     "elapsed": 146,
     "status": "ok",
     "timestamp": 1624285610668,
     "user": {
      "displayName": "Thiago Oliveira",
      "photoUrl": "",
      "userId": "16792580446587139449"
     },
     "user_tz": 180
    },
    "id": "9OjueB2Cn-UZ",
    "outputId": "6033febe-a4cb-4574-bac4-7cdef58b5954"
   },
   "outputs": [
    {
     "data": {
      "text/plain": [
       "False"
      ]
     },
     "execution_count": 60,
     "metadata": {},
     "output_type": "execute_result"
    }
   ],
   "source": [
    "check(dfFinal2.values[0][-12:],dfFinal2.values[0][1])"
   ]
  },
  {
   "cell_type": "code",
   "execution_count": 61,
   "metadata": {
    "executionInfo": {
     "elapsed": 121,
     "status": "ok",
     "timestamp": 1624285610669,
     "user": {
      "displayName": "Thiago Oliveira",
      "photoUrl": "",
      "userId": "16792580446587139449"
     },
     "user_tz": 180
    },
    "id": "QRH0Gf5Sn-UZ"
   },
   "outputs": [],
   "source": [
    "pdf = PDF(orientation=\"landscape\")\n",
    "pd.set_option('display.max_colwidth', 40)\n",
    "pdf.generatePDFfromDF(dfFinal2)"
   ]
  },
  {
   "cell_type": "markdown",
   "metadata": {
    "id": "Fxrt4fLGpxVf"
   },
   "source": [
    "# Análise exploratória dos dados "
   ]
  },
  {
   "cell_type": "code",
   "execution_count": 62,
   "metadata": {
    "colab": {
     "base_uri": "https://localhost:8080/",
     "height": 329
    },
    "executionInfo": {
     "elapsed": 122,
     "status": "ok",
     "timestamp": 1624285610671,
     "user": {
      "displayName": "Thiago Oliveira",
      "photoUrl": "",
      "userId": "16792580446587139449"
     },
     "user_tz": 180
    },
    "id": "MdOgBPYfp8hg",
    "outputId": "4df1e643-ef3d-4b18-d042-f7f243e7b697"
   },
   "outputs": [
    {
     "data": {
      "text/html": [
       "<div>\n",
       "<style scoped>\n",
       "    .dataframe tbody tr th:only-of-type {\n",
       "        vertical-align: middle;\n",
       "    }\n",
       "\n",
       "    .dataframe tbody tr th {\n",
       "        vertical-align: top;\n",
       "    }\n",
       "\n",
       "    .dataframe thead th {\n",
       "        text-align: right;\n",
       "    }\n",
       "</style>\n",
       "<table border=\"1\" class=\"dataframe\">\n",
       "  <thead>\n",
       "    <tr style=\"text-align: right;\">\n",
       "      <th></th>\n",
       "      <th>cliente</th>\n",
       "      <th>limite</th>\n",
       "      <th>dt_fechamento</th>\n",
       "      <th>nm_cliente</th>\n",
       "      <th>valor_operacao</th>\n",
       "      <th>num_parcelas</th>\n",
       "      <th>dt_operacao</th>\n",
       "      <th>mes_atual</th>\n",
       "      <th>valor_parcela</th>\n",
       "    </tr>\n",
       "  </thead>\n",
       "  <tbody>\n",
       "    <tr>\n",
       "      <th>0</th>\n",
       "      <td>João Silva</td>\n",
       "      <td>2575.0</td>\n",
       "      <td>2021-01-25</td>\n",
       "      <td>João Silva</td>\n",
       "      <td>243.42</td>\n",
       "      <td>5</td>\n",
       "      <td>2021-01-03</td>\n",
       "      <td>2021-01-01</td>\n",
       "      <td>48.68</td>\n",
       "    </tr>\n",
       "    <tr>\n",
       "      <th>1</th>\n",
       "      <td>João Silva</td>\n",
       "      <td>2575.0</td>\n",
       "      <td>2021-01-25</td>\n",
       "      <td>João Silva</td>\n",
       "      <td>1121.00</td>\n",
       "      <td>8</td>\n",
       "      <td>2021-01-15</td>\n",
       "      <td>2021-01-01</td>\n",
       "      <td>140.12</td>\n",
       "    </tr>\n",
       "    <tr>\n",
       "      <th>2</th>\n",
       "      <td>João Silva</td>\n",
       "      <td>2575.0</td>\n",
       "      <td>2021-01-25</td>\n",
       "      <td>João Silva</td>\n",
       "      <td>611.00</td>\n",
       "      <td>4</td>\n",
       "      <td>2021-01-16</td>\n",
       "      <td>2021-01-01</td>\n",
       "      <td>152.75</td>\n",
       "    </tr>\n",
       "    <tr>\n",
       "      <th>3</th>\n",
       "      <td>João Silva</td>\n",
       "      <td>2575.0</td>\n",
       "      <td>2021-01-25</td>\n",
       "      <td>João Silva</td>\n",
       "      <td>744.00</td>\n",
       "      <td>1</td>\n",
       "      <td>2021-01-17</td>\n",
       "      <td>2021-01-01</td>\n",
       "      <td>744.00</td>\n",
       "    </tr>\n",
       "    <tr>\n",
       "      <th>4</th>\n",
       "      <td>João Silva</td>\n",
       "      <td>2575.0</td>\n",
       "      <td>2021-01-25</td>\n",
       "      <td>João Silva</td>\n",
       "      <td>703.02</td>\n",
       "      <td>4</td>\n",
       "      <td>2021-01-19</td>\n",
       "      <td>2021-01-01</td>\n",
       "      <td>175.76</td>\n",
       "    </tr>\n",
       "  </tbody>\n",
       "</table>\n",
       "</div>"
      ],
      "text/plain": [
       "      cliente  limite dt_fechamento  nm_cliente  valor_operacao  num_parcelas  \\\n",
       "0  João Silva  2575.0    2021-01-25  João Silva          243.42             5   \n",
       "1  João Silva  2575.0    2021-01-25  João Silva         1121.00             8   \n",
       "2  João Silva  2575.0    2021-01-25  João Silva          611.00             4   \n",
       "3  João Silva  2575.0    2021-01-25  João Silva          744.00             1   \n",
       "4  João Silva  2575.0    2021-01-25  João Silva          703.02             4   \n",
       "\n",
       "  dt_operacao  mes_atual  valor_parcela  \n",
       "0  2021-01-03 2021-01-01          48.68  \n",
       "1  2021-01-15 2021-01-01         140.12  \n",
       "2  2021-01-16 2021-01-01         152.75  \n",
       "3  2021-01-17 2021-01-01         744.00  \n",
       "4  2021-01-19 2021-01-01         175.76  "
      ]
     },
     "execution_count": 62,
     "metadata": {},
     "output_type": "execute_result"
    }
   ],
   "source": [
    "# check dataframe as primeiras 5 linhas \n",
    "\n",
    "df_total.head()"
   ]
  },
  {
   "cell_type": "code",
   "execution_count": 63,
   "metadata": {
    "colab": {
     "base_uri": "https://localhost:8080/"
    },
    "executionInfo": {
     "elapsed": 120,
     "status": "ok",
     "timestamp": 1624285610672,
     "user": {
      "displayName": "Thiago Oliveira",
      "photoUrl": "",
      "userId": "16792580446587139449"
     },
     "user_tz": 180
    },
    "id": "8c-ugBjJqUuC",
    "outputId": "afa2a382-0d44-4142-9f88-71a7dbee1c63"
   },
   "outputs": [
    {
     "name": "stdout",
     "output_type": "stream",
     "text": [
      "O dataframe possui um total de: 150 linhas 9 colunas\n"
     ]
    }
   ],
   "source": [
    "# dimensão do dataframe\n",
    "\n",
    "print('O dataframe possui um total de:',df_total.shape[0],'linhas',df_total.shape[1],'colunas')"
   ]
  },
  {
   "cell_type": "code",
   "execution_count": 64,
   "metadata": {
    "colab": {
     "base_uri": "https://localhost:8080/"
    },
    "executionInfo": {
     "elapsed": 100,
     "status": "ok",
     "timestamp": 1624285610673,
     "user": {
      "displayName": "Thiago Oliveira",
      "photoUrl": "",
      "userId": "16792580446587139449"
     },
     "user_tz": 180
    },
    "id": "CTZx5wDdrGEe",
    "outputId": "d3c7a602-5b48-4e47-e5e8-b9fbc03a3b69"
   },
   "outputs": [
    {
     "name": "stdout",
     "output_type": "stream",
     "text": [
      "<class 'pandas.core.frame.DataFrame'>\n",
      "Int64Index: 150 entries, 0 to 149\n",
      "Data columns (total 9 columns):\n",
      " #   Column          Non-Null Count  Dtype         \n",
      "---  ------          --------------  -----         \n",
      " 0   cliente         150 non-null    object        \n",
      " 1   limite          150 non-null    float64       \n",
      " 2   dt_fechamento   150 non-null    datetime64[ns]\n",
      " 3   nm_cliente      150 non-null    object        \n",
      " 4   valor_operacao  150 non-null    float64       \n",
      " 5   num_parcelas    150 non-null    int64         \n",
      " 6   dt_operacao     150 non-null    datetime64[ns]\n",
      " 7   mes_atual       150 non-null    datetime64[ns]\n",
      " 8   valor_parcela   150 non-null    float64       \n",
      "dtypes: datetime64[ns](3), float64(3), int64(1), object(2)\n",
      "memory usage: 11.7+ KB\n"
     ]
    }
   ],
   "source": [
    "# Informações sobre o dataframe\n",
    "\n",
    "df_total.info()"
   ]
  },
  {
   "cell_type": "code",
   "execution_count": 65,
   "metadata": {
    "colab": {
     "base_uri": "https://localhost:8080/"
    },
    "executionInfo": {
     "elapsed": 79,
     "status": "ok",
     "timestamp": 1624285610674,
     "user": {
      "displayName": "Thiago Oliveira",
      "photoUrl": "",
      "userId": "16792580446587139449"
     },
     "user_tz": 180
    },
    "id": "Yce5ufgcrRnJ",
    "outputId": "fbde2525-3738-46e4-8373-ec0b63558610"
   },
   "outputs": [
    {
     "data": {
      "text/plain": [
       "cliente           0\n",
       "limite            0\n",
       "dt_fechamento     0\n",
       "nm_cliente        0\n",
       "valor_operacao    0\n",
       "num_parcelas      0\n",
       "dt_operacao       0\n",
       "mes_atual         0\n",
       "valor_parcela     0\n",
       "dtype: int64"
      ]
     },
     "execution_count": 65,
     "metadata": {},
     "output_type": "execute_result"
    }
   ],
   "source": [
    "# contabilizando os dados nulos\n",
    "df_total.isnull().sum()"
   ]
  },
  {
   "cell_type": "code",
   "execution_count": 66,
   "metadata": {
    "colab": {
     "base_uri": "https://localhost:8080/"
    },
    "executionInfo": {
     "elapsed": 58,
     "status": "ok",
     "timestamp": 1624285610675,
     "user": {
      "displayName": "Thiago Oliveira",
      "photoUrl": "",
      "userId": "16792580446587139449"
     },
     "user_tz": 180
    },
    "id": "xgj_qa5g0Gho",
    "outputId": "95cb2f0d-268e-4718-f9c2-4b425b41c7ff"
   },
   "outputs": [
    {
     "data": {
      "text/plain": [
       "Index(['cliente', 'limite', 'dt_fechamento', 'nm_cliente', 'valor_operacao',\n",
       "       'num_parcelas', 'dt_operacao', 'mes_atual', 'valor_parcela'],\n",
       "      dtype='object')"
      ]
     },
     "execution_count": 66,
     "metadata": {},
     "output_type": "execute_result"
    }
   ],
   "source": [
    "# colunas do df\n",
    "df_total.columns"
   ]
  },
  {
   "cell_type": "code",
   "execution_count": 67,
   "metadata": {
    "executionInfo": {
     "elapsed": 37,
     "status": "ok",
     "timestamp": 1624285610676,
     "user": {
      "displayName": "Thiago Oliveira",
      "photoUrl": "",
      "userId": "16792580446587139449"
     },
     "user_tz": 180
    },
    "id": "EH9M-x5X0PL2"
   },
   "outputs": [],
   "source": [
    "# Inserindo uma nova coluna com os dias da semana\n",
    "\n",
    "df_total['dt_operacao'] = pd.to_datetime(df_total['dt_operacao'])\n",
    "df_total['day_of_week'] = df_total['dt_operacao'].dt.day_name()\n"
   ]
  },
  {
   "cell_type": "code",
   "execution_count": 68,
   "metadata": {
    "colab": {
     "base_uri": "https://localhost:8080/",
     "height": 629
    },
    "executionInfo": {
     "elapsed": 37,
     "status": "ok",
     "timestamp": 1624285610677,
     "user": {
      "displayName": "Thiago Oliveira",
      "photoUrl": "",
      "userId": "16792580446587139449"
     },
     "user_tz": 180
    },
    "id": "NdeVUGgD1WfU",
    "outputId": "105ae9b6-1ee6-4f23-9f48-2284b6a9d4a3"
   },
   "outputs": [
    {
     "data": {
      "text/html": [
       "<div>\n",
       "<style scoped>\n",
       "    .dataframe tbody tr th:only-of-type {\n",
       "        vertical-align: middle;\n",
       "    }\n",
       "\n",
       "    .dataframe tbody tr th {\n",
       "        vertical-align: top;\n",
       "    }\n",
       "\n",
       "    .dataframe thead th {\n",
       "        text-align: right;\n",
       "    }\n",
       "</style>\n",
       "<table border=\"1\" class=\"dataframe\">\n",
       "  <thead>\n",
       "    <tr style=\"text-align: right;\">\n",
       "      <th></th>\n",
       "      <th>cliente</th>\n",
       "      <th>limite</th>\n",
       "      <th>dt_fechamento</th>\n",
       "      <th>nm_cliente</th>\n",
       "      <th>valor_operacao</th>\n",
       "      <th>num_parcelas</th>\n",
       "      <th>dt_operacao</th>\n",
       "      <th>mes_atual</th>\n",
       "      <th>valor_parcela</th>\n",
       "      <th>day_of_week</th>\n",
       "    </tr>\n",
       "  </thead>\n",
       "  <tbody>\n",
       "    <tr>\n",
       "      <th>0</th>\n",
       "      <td>João Silva</td>\n",
       "      <td>2575.0</td>\n",
       "      <td>2021-01-25</td>\n",
       "      <td>João Silva</td>\n",
       "      <td>243.42</td>\n",
       "      <td>5</td>\n",
       "      <td>2021-01-03</td>\n",
       "      <td>2021-01-01</td>\n",
       "      <td>48.68</td>\n",
       "      <td>Sunday</td>\n",
       "    </tr>\n",
       "    <tr>\n",
       "      <th>1</th>\n",
       "      <td>João Silva</td>\n",
       "      <td>2575.0</td>\n",
       "      <td>2021-01-25</td>\n",
       "      <td>João Silva</td>\n",
       "      <td>1121.00</td>\n",
       "      <td>8</td>\n",
       "      <td>2021-01-15</td>\n",
       "      <td>2021-01-01</td>\n",
       "      <td>140.12</td>\n",
       "      <td>Friday</td>\n",
       "    </tr>\n",
       "    <tr>\n",
       "      <th>2</th>\n",
       "      <td>João Silva</td>\n",
       "      <td>2575.0</td>\n",
       "      <td>2021-01-25</td>\n",
       "      <td>João Silva</td>\n",
       "      <td>611.00</td>\n",
       "      <td>4</td>\n",
       "      <td>2021-01-16</td>\n",
       "      <td>2021-01-01</td>\n",
       "      <td>152.75</td>\n",
       "      <td>Saturday</td>\n",
       "    </tr>\n",
       "    <tr>\n",
       "      <th>3</th>\n",
       "      <td>João Silva</td>\n",
       "      <td>2575.0</td>\n",
       "      <td>2021-01-25</td>\n",
       "      <td>João Silva</td>\n",
       "      <td>744.00</td>\n",
       "      <td>1</td>\n",
       "      <td>2021-01-17</td>\n",
       "      <td>2021-01-01</td>\n",
       "      <td>744.00</td>\n",
       "      <td>Sunday</td>\n",
       "    </tr>\n",
       "    <tr>\n",
       "      <th>4</th>\n",
       "      <td>João Silva</td>\n",
       "      <td>2575.0</td>\n",
       "      <td>2021-01-25</td>\n",
       "      <td>João Silva</td>\n",
       "      <td>703.02</td>\n",
       "      <td>4</td>\n",
       "      <td>2021-01-19</td>\n",
       "      <td>2021-01-01</td>\n",
       "      <td>175.76</td>\n",
       "      <td>Tuesday</td>\n",
       "    </tr>\n",
       "    <tr>\n",
       "      <th>...</th>\n",
       "      <td>...</td>\n",
       "      <td>...</td>\n",
       "      <td>...</td>\n",
       "      <td>...</td>\n",
       "      <td>...</td>\n",
       "      <td>...</td>\n",
       "      <td>...</td>\n",
       "      <td>...</td>\n",
       "      <td>...</td>\n",
       "      <td>...</td>\n",
       "    </tr>\n",
       "    <tr>\n",
       "      <th>145</th>\n",
       "      <td>Camila Santos</td>\n",
       "      <td>3275.0</td>\n",
       "      <td>2021-01-15</td>\n",
       "      <td>Camila Santos</td>\n",
       "      <td>216.97</td>\n",
       "      <td>5</td>\n",
       "      <td>2021-01-05</td>\n",
       "      <td>2021-01-01</td>\n",
       "      <td>43.39</td>\n",
       "      <td>Tuesday</td>\n",
       "    </tr>\n",
       "    <tr>\n",
       "      <th>146</th>\n",
       "      <td>Camila Santos</td>\n",
       "      <td>3275.0</td>\n",
       "      <td>2021-01-15</td>\n",
       "      <td>Camila Santos</td>\n",
       "      <td>666.00</td>\n",
       "      <td>2</td>\n",
       "      <td>2021-01-08</td>\n",
       "      <td>2021-01-01</td>\n",
       "      <td>333.00</td>\n",
       "      <td>Friday</td>\n",
       "    </tr>\n",
       "    <tr>\n",
       "      <th>147</th>\n",
       "      <td>Camila Santos</td>\n",
       "      <td>3275.0</td>\n",
       "      <td>2021-01-15</td>\n",
       "      <td>Camila Santos</td>\n",
       "      <td>1819.00</td>\n",
       "      <td>1</td>\n",
       "      <td>2021-01-26</td>\n",
       "      <td>2021-01-01</td>\n",
       "      <td>1819.00</td>\n",
       "      <td>Tuesday</td>\n",
       "    </tr>\n",
       "    <tr>\n",
       "      <th>148</th>\n",
       "      <td>Camila Santos</td>\n",
       "      <td>3275.0</td>\n",
       "      <td>2021-01-15</td>\n",
       "      <td>Camila Santos</td>\n",
       "      <td>203.01</td>\n",
       "      <td>3</td>\n",
       "      <td>2021-01-29</td>\n",
       "      <td>2021-01-01</td>\n",
       "      <td>67.67</td>\n",
       "      <td>Friday</td>\n",
       "    </tr>\n",
       "    <tr>\n",
       "      <th>149</th>\n",
       "      <td>Camila Santos</td>\n",
       "      <td>3275.0</td>\n",
       "      <td>2021-01-15</td>\n",
       "      <td>Camila Santos</td>\n",
       "      <td>702.00</td>\n",
       "      <td>3</td>\n",
       "      <td>2021-01-30</td>\n",
       "      <td>2021-01-01</td>\n",
       "      <td>234.00</td>\n",
       "      <td>Saturday</td>\n",
       "    </tr>\n",
       "  </tbody>\n",
       "</table>\n",
       "<p>150 rows × 10 columns</p>\n",
       "</div>"
      ],
      "text/plain": [
       "           cliente  limite dt_fechamento     nm_cliente  valor_operacao  \\\n",
       "0       João Silva  2575.0    2021-01-25     João Silva          243.42   \n",
       "1       João Silva  2575.0    2021-01-25     João Silva         1121.00   \n",
       "2       João Silva  2575.0    2021-01-25     João Silva          611.00   \n",
       "3       João Silva  2575.0    2021-01-25     João Silva          744.00   \n",
       "4       João Silva  2575.0    2021-01-25     João Silva          703.02   \n",
       "..             ...     ...           ...            ...             ...   \n",
       "145  Camila Santos  3275.0    2021-01-15  Camila Santos          216.97   \n",
       "146  Camila Santos  3275.0    2021-01-15  Camila Santos          666.00   \n",
       "147  Camila Santos  3275.0    2021-01-15  Camila Santos         1819.00   \n",
       "148  Camila Santos  3275.0    2021-01-15  Camila Santos          203.01   \n",
       "149  Camila Santos  3275.0    2021-01-15  Camila Santos          702.00   \n",
       "\n",
       "     num_parcelas dt_operacao  mes_atual  valor_parcela day_of_week  \n",
       "0               5  2021-01-03 2021-01-01          48.68      Sunday  \n",
       "1               8  2021-01-15 2021-01-01         140.12      Friday  \n",
       "2               4  2021-01-16 2021-01-01         152.75    Saturday  \n",
       "3               1  2021-01-17 2021-01-01         744.00      Sunday  \n",
       "4               4  2021-01-19 2021-01-01         175.76     Tuesday  \n",
       "..            ...         ...        ...            ...         ...  \n",
       "145             5  2021-01-05 2021-01-01          43.39     Tuesday  \n",
       "146             2  2021-01-08 2021-01-01         333.00      Friday  \n",
       "147             1  2021-01-26 2021-01-01        1819.00     Tuesday  \n",
       "148             3  2021-01-29 2021-01-01          67.67      Friday  \n",
       "149             3  2021-01-30 2021-01-01         234.00    Saturday  \n",
       "\n",
       "[150 rows x 10 columns]"
      ]
     },
     "execution_count": 68,
     "metadata": {},
     "output_type": "execute_result"
    }
   ],
   "source": [
    "# df com a nova coluna 'day_of_week' \n",
    "\n",
    "df_total"
   ]
  },
  {
   "cell_type": "code",
   "execution_count": 69,
   "metadata": {
    "colab": {
     "base_uri": "https://localhost:8080/",
     "height": 297
    },
    "executionInfo": {
     "elapsed": 301,
     "status": "ok",
     "timestamp": 1624288513331,
     "user": {
      "displayName": "Thiago Oliveira",
      "photoUrl": "",
      "userId": "16792580446587139449"
     },
     "user_tz": 180
    },
    "id": "UQxEM106I3fo",
    "outputId": "52d8137f-d3b9-462e-b14c-c7591c8cb062"
   },
   "outputs": [
    {
     "data": {
      "text/html": [
       "<div>\n",
       "<style scoped>\n",
       "    .dataframe tbody tr th:only-of-type {\n",
       "        vertical-align: middle;\n",
       "    }\n",
       "\n",
       "    .dataframe tbody tr th {\n",
       "        vertical-align: top;\n",
       "    }\n",
       "\n",
       "    .dataframe thead th {\n",
       "        text-align: right;\n",
       "    }\n",
       "</style>\n",
       "<table border=\"1\" class=\"dataframe\">\n",
       "  <thead>\n",
       "    <tr style=\"text-align: right;\">\n",
       "      <th></th>\n",
       "      <th>limite</th>\n",
       "      <th>valor_operacao</th>\n",
       "      <th>num_parcelas</th>\n",
       "      <th>valor_parcela</th>\n",
       "    </tr>\n",
       "  </thead>\n",
       "  <tbody>\n",
       "    <tr>\n",
       "      <th>count</th>\n",
       "      <td>150.000000</td>\n",
       "      <td>150.000000</td>\n",
       "      <td>150.000000</td>\n",
       "      <td>150.000000</td>\n",
       "    </tr>\n",
       "    <tr>\n",
       "      <th>mean</th>\n",
       "      <td>3028.333333</td>\n",
       "      <td>718.019400</td>\n",
       "      <td>3.793333</td>\n",
       "      <td>285.210933</td>\n",
       "    </tr>\n",
       "    <tr>\n",
       "      <th>std</th>\n",
       "      <td>1489.472753</td>\n",
       "      <td>646.223867</td>\n",
       "      <td>2.329550</td>\n",
       "      <td>359.091515</td>\n",
       "    </tr>\n",
       "    <tr>\n",
       "      <th>min</th>\n",
       "      <td>375.000000</td>\n",
       "      <td>63.880000</td>\n",
       "      <td>1.000000</td>\n",
       "      <td>21.600000</td>\n",
       "    </tr>\n",
       "    <tr>\n",
       "      <th>25%</th>\n",
       "      <td>2200.000000</td>\n",
       "      <td>324.227500</td>\n",
       "      <td>2.000000</td>\n",
       "      <td>87.175000</td>\n",
       "    </tr>\n",
       "    <tr>\n",
       "      <th>50%</th>\n",
       "      <td>2600.000000</td>\n",
       "      <td>540.885000</td>\n",
       "      <td>4.000000</td>\n",
       "      <td>156.955000</td>\n",
       "    </tr>\n",
       "    <tr>\n",
       "      <th>75%</th>\n",
       "      <td>4500.000000</td>\n",
       "      <td>851.025000</td>\n",
       "      <td>5.000000</td>\n",
       "      <td>314.950000</td>\n",
       "    </tr>\n",
       "    <tr>\n",
       "      <th>max</th>\n",
       "      <td>5375.000000</td>\n",
       "      <td>4398.000000</td>\n",
       "      <td>11.000000</td>\n",
       "      <td>2081.000000</td>\n",
       "    </tr>\n",
       "  </tbody>\n",
       "</table>\n",
       "</div>"
      ],
      "text/plain": [
       "            limite  valor_operacao  num_parcelas  valor_parcela\n",
       "count   150.000000      150.000000    150.000000     150.000000\n",
       "mean   3028.333333      718.019400      3.793333     285.210933\n",
       "std    1489.472753      646.223867      2.329550     359.091515\n",
       "min     375.000000       63.880000      1.000000      21.600000\n",
       "25%    2200.000000      324.227500      2.000000      87.175000\n",
       "50%    2600.000000      540.885000      4.000000     156.955000\n",
       "75%    4500.000000      851.025000      5.000000     314.950000\n",
       "max    5375.000000     4398.000000     11.000000    2081.000000"
      ]
     },
     "execution_count": 69,
     "metadata": {},
     "output_type": "execute_result"
    }
   ],
   "source": [
    "# Estatistica simples de todas as colunas numéricas\n",
    "df_total.describe()"
   ]
  },
  {
   "cell_type": "code",
   "execution_count": 70,
   "metadata": {
    "colab": {
     "base_uri": "https://localhost:8080/",
     "height": 450
    },
    "executionInfo": {
     "elapsed": 379,
     "status": "ok",
     "timestamp": 1624288909662,
     "user": {
      "displayName": "Thiago Oliveira",
      "photoUrl": "",
      "userId": "16792580446587139449"
     },
     "user_tz": 180
    },
    "id": "t6fo1eRVJdW4",
    "outputId": "b937a1bd-e60f-4fe1-8c38-518ca0f76f15"
   },
   "outputs": [
    {
     "data": {
      "text/html": [
       "<div>\n",
       "<style scoped>\n",
       "    .dataframe tbody tr th:only-of-type {\n",
       "        vertical-align: middle;\n",
       "    }\n",
       "\n",
       "    .dataframe tbody tr th {\n",
       "        vertical-align: top;\n",
       "    }\n",
       "\n",
       "    .dataframe thead th {\n",
       "        text-align: right;\n",
       "    }\n",
       "</style>\n",
       "<table border=\"1\" class=\"dataframe\">\n",
       "  <thead>\n",
       "    <tr style=\"text-align: right;\">\n",
       "      <th></th>\n",
       "      <th></th>\n",
       "      <th></th>\n",
       "      <th>day_of_week</th>\n",
       "    </tr>\n",
       "    <tr>\n",
       "      <th>cliente</th>\n",
       "      <th>dt_operacao</th>\n",
       "      <th>day_of_week</th>\n",
       "      <th></th>\n",
       "    </tr>\n",
       "  </thead>\n",
       "  <tbody>\n",
       "    <tr>\n",
       "      <th rowspan=\"5\" valign=\"top\">Adriana Pereira</th>\n",
       "      <th>2021-01-13</th>\n",
       "      <th>Wednesday</th>\n",
       "      <td>1</td>\n",
       "    </tr>\n",
       "    <tr>\n",
       "      <th>2021-01-14</th>\n",
       "      <th>Thursday</th>\n",
       "      <td>2</td>\n",
       "    </tr>\n",
       "    <tr>\n",
       "      <th>2021-01-25</th>\n",
       "      <th>Monday</th>\n",
       "      <td>1</td>\n",
       "    </tr>\n",
       "    <tr>\n",
       "      <th>2021-01-26</th>\n",
       "      <th>Tuesday</th>\n",
       "      <td>1</td>\n",
       "    </tr>\n",
       "    <tr>\n",
       "      <th>2021-01-27</th>\n",
       "      <th>Wednesday</th>\n",
       "      <td>1</td>\n",
       "    </tr>\n",
       "    <tr>\n",
       "      <th>...</th>\n",
       "      <th>...</th>\n",
       "      <th>...</th>\n",
       "      <td>...</td>\n",
       "    </tr>\n",
       "    <tr>\n",
       "      <th rowspan=\"5\" valign=\"top\">Sandra Souza</th>\n",
       "      <th>2021-01-05</th>\n",
       "      <th>Tuesday</th>\n",
       "      <td>1</td>\n",
       "    </tr>\n",
       "    <tr>\n",
       "      <th>2021-01-06</th>\n",
       "      <th>Wednesday</th>\n",
       "      <td>1</td>\n",
       "    </tr>\n",
       "    <tr>\n",
       "      <th>2021-01-16</th>\n",
       "      <th>Saturday</th>\n",
       "      <td>1</td>\n",
       "    </tr>\n",
       "    <tr>\n",
       "      <th>2021-01-25</th>\n",
       "      <th>Monday</th>\n",
       "      <td>1</td>\n",
       "    </tr>\n",
       "    <tr>\n",
       "      <th>2021-01-28</th>\n",
       "      <th>Thursday</th>\n",
       "      <td>1</td>\n",
       "    </tr>\n",
       "  </tbody>\n",
       "</table>\n",
       "<p>137 rows × 1 columns</p>\n",
       "</div>"
      ],
      "text/plain": [
       "                                         day_of_week\n",
       "cliente         dt_operacao day_of_week             \n",
       "Adriana Pereira 2021-01-13  Wednesday              1\n",
       "                2021-01-14  Thursday               2\n",
       "                2021-01-25  Monday                 1\n",
       "                2021-01-26  Tuesday                1\n",
       "                2021-01-27  Wednesday              1\n",
       "...                                              ...\n",
       "Sandra Souza    2021-01-05  Tuesday                1\n",
       "                2021-01-06  Wednesday              1\n",
       "                2021-01-16  Saturday               1\n",
       "                2021-01-25  Monday                 1\n",
       "                2021-01-28  Thursday               1\n",
       "\n",
       "[137 rows x 1 columns]"
      ]
     },
     "execution_count": 70,
     "metadata": {},
     "output_type": "execute_result"
    }
   ],
   "source": [
    "df_total.groupby([\"cliente\", \"dt_operacao\", \"day_of_week\"], dropna=False)[[\"day_of_week\"]].count()"
   ]
  },
  {
   "cell_type": "code",
   "execution_count": 71,
   "metadata": {
    "colab": {
     "base_uri": "https://localhost:8080/"
    },
    "executionInfo": {
     "elapsed": 233,
     "status": "ok",
     "timestamp": 1624288816539,
     "user": {
      "displayName": "Thiago Oliveira",
      "photoUrl": "",
      "userId": "16792580446587139449"
     },
     "user_tz": 180
    },
    "id": "-55WEBzOKDOV",
    "outputId": "0b144ad2-755a-4e1f-a2e4-417dc599b80e"
   },
   "outputs": [
    {
     "data": {
      "text/plain": [
       "Index(['cliente', 'limite', 'dt_fechamento', 'nm_cliente', 'valor_operacao',\n",
       "       'num_parcelas', 'dt_operacao', 'mes_atual', 'valor_parcela',\n",
       "       'day_of_week'],\n",
       "      dtype='object')"
      ]
     },
     "execution_count": 71,
     "metadata": {},
     "output_type": "execute_result"
    }
   ],
   "source": [
    "df_total.columns"
   ]
  },
  {
   "cell_type": "code",
   "execution_count": 72,
   "metadata": {
    "colab": {
     "base_uri": "https://localhost:8080/",
     "height": 374
    },
    "executionInfo": {
     "elapsed": 759,
     "status": "ok",
     "timestamp": 1624287908408,
     "user": {
      "displayName": "Thiago Oliveira",
      "photoUrl": "",
      "userId": "16792580446587139449"
     },
     "user_tz": 180
    },
    "id": "kDjGeA53GhUG",
    "outputId": "08c4651b-fc5f-48bb-d590-399a3b272ae6"
   },
   "outputs": [
    {
     "data": {
      "image/png": "[encoded data removed]",
      "text/plain": [
       "<Figure size 1080x360 with 1 Axes>"
      ]
     },
     "metadata": {
      "needs_background": "light"
     },
     "output_type": "display_data"
    }
   ],
   "source": [
    "# Gráfico de compras por dia da semana\n",
    "\n",
    "x=df_total.day_of_week.value_counts()\n",
    "plt.figure(figsize=(15,5))\n",
    "plt.bar(x.index,x.values,color='#13ec32')\n",
    "plt.xticks(x.index,rotation='vertical',size=8)\n",
    "plt.ylabel('Ocorrências')\n",
    "plt.xlabel('Dias da semana')\n",
    "plt.title('Compras por dia da semana')\n",
    "plt.show()"
   ]
  },
  {
   "cell_type": "code",
   "execution_count": 73,
   "metadata": {
    "colab": {
     "base_uri": "https://localhost:8080/",
     "height": 339
    },
    "executionInfo": {
     "elapsed": 601,
     "status": "ok",
     "timestamp": 1624289797922,
     "user": {
      "displayName": "Thiago Oliveira",
      "photoUrl": "",
      "userId": "16792580446587139449"
     },
     "user_tz": 180
    },
    "id": "4ujMhimWMtLR",
    "outputId": "3e098242-0c94-4d46-8dff-3e83277d0ccc"
   },
   "outputs": [
    {
     "data": {
      "image/png": "[encoded data removed]",
      "text/plain": [
       "<Figure size 1080x360 with 1 Axes>"
      ]
     },
     "metadata": {
      "needs_background": "light"
     },
     "output_type": "display_data"
    }
   ],
   "source": [
    "# clientes que mais realizam compras\n",
    "\n",
    "df_total['cliente'].value_counts().head(10).plot(kind='bar',\n",
    "                                                figsize=(15,5),\n",
    "                                                grid=False,\n",
    "                                                rot=0,\n",
    "                                                color='blue')\n",
    "plt.title('Clientes que mais compram')\n",
    "plt.xlabel('Nomes dos clientes')\n",
    "plt.ylabel('Quantidade de compras')\n",
    "plt.show()\n"
   ]
  },
  {
   "cell_type": "code",
   "execution_count": 74,
   "metadata": {
    "colab": {
     "base_uri": "https://localhost:8080/",
     "height": 339
    },
    "executionInfo": {
     "elapsed": 847,
     "status": "ok",
     "timestamp": 1624290710419,
     "user": {
      "displayName": "Thiago Oliveira",
      "photoUrl": "",
      "userId": "16792580446587139449"
     },
     "user_tz": 180
    },
    "id": "oPBf6rswQi7h",
    "outputId": "388d1e6f-b0d6-4102-81f7-92bba8436ebc"
   },
   "outputs": [
    {
     "data": {
      "image/png": "[encoded data removed]",
      "text/plain": [
       "<Figure size 1080x360 with 1 Axes>"
      ]
     },
     "metadata": {
      "needs_background": "light"
     },
     "output_type": "display_data"
    }
   ],
   "source": [
    "# número de parcelas mais comuns\n",
    "\n",
    "df_total['num_parcelas'].value_counts().head(10).plot(kind='bar',\n",
    "                                                figsize=(15,5),\n",
    "                                                grid=False,\n",
    "                                                rot=0,\n",
    "                                                color='red')\n",
    "plt.title('Número de parcelas mais comuns')\n",
    "plt.xlabel('Quantidade de parcelas')\n",
    "plt.ylabel('Quantidade de parcelas')\n",
    "plt.show()\n"
   ]
  },
  {
   "cell_type": "code",
   "execution_count": 75,
   "metadata": {
    "colab": {
     "base_uri": "https://localhost:8080/"
    },
    "executionInfo": {
     "elapsed": 244,
     "status": "ok",
     "timestamp": 1624291349663,
     "user": {
      "displayName": "Thiago Oliveira",
      "photoUrl": "",
      "userId": "16792580446587139449"
     },
     "user_tz": 180
    },
    "id": "hD79q3cYTleB",
    "outputId": "d088952c-49ff-4efa-a914-eb33f3f8e247"
   },
   "outputs": [
    {
     "data": {
      "text/plain": [
       "4398.0"
      ]
     },
     "execution_count": 75,
     "metadata": {},
     "output_type": "execute_result"
    }
   ],
   "source": [
    "# Qual foi a compra mais cara?\n",
    "\n",
    "df_total['valor_operacao'].max()"
   ]
  },
  {
   "cell_type": "code",
   "execution_count": 76,
   "metadata": {
    "colab": {
     "base_uri": "https://localhost:8080/"
    },
    "executionInfo": {
     "elapsed": 257,
     "status": "ok",
     "timestamp": 1624291388668,
     "user": {
      "displayName": "Thiago Oliveira",
      "photoUrl": "",
      "userId": "16792580446587139449"
     },
     "user_tz": 180
    },
    "id": "SXhlxBPXT3ok",
    "outputId": "53ed98f3-9529-489c-8da2-5bde338fa940"
   },
   "outputs": [
    {
     "data": {
      "text/plain": [
       "63.88"
      ]
     },
     "execution_count": 76,
     "metadata": {},
     "output_type": "execute_result"
    }
   ],
   "source": [
    "# Qual foi a compra mais barata?\n",
    "df_total['valor_operacao'].min()"
   ]
  },
  {
   "cell_type": "code",
   "execution_count": 77,
   "metadata": {
    "colab": {
     "base_uri": "https://localhost:8080/",
     "height": 296
    },
    "executionInfo": {
     "elapsed": 844,
     "status": "ok",
     "timestamp": 1624291537252,
     "user": {
      "displayName": "Thiago Oliveira",
      "photoUrl": "",
      "userId": "16792580446587139449"
     },
     "user_tz": 180
    },
    "id": "rBwnMxFBUBu7",
    "outputId": "e7ef2a42-df53-4741-ffaa-0d9e9723d272"
   },
   "outputs": [
    {
     "data": {
      "image/png": "[encoded data removed]",
      "text/plain": [
       "<Figure size 432x288 with 1 Axes>"
      ]
     },
     "metadata": {
      "needs_background": "light"
     },
     "output_type": "display_data"
    }
   ],
   "source": [
    "sns.histplot(data=df_total, x=\"valor_operacao\", kde=True)\n",
    "plt.title('Concentração dos valores da operação')\n",
    "plt.show()\n"
   ]
  },
  {
   "cell_type": "code",
   "execution_count": 78,
   "metadata": {
    "colab": {
     "base_uri": "https://localhost:8080/",
     "height": 296
    },
    "executionInfo": {
     "elapsed": 1331,
     "status": "ok",
     "timestamp": 1624291684722,
     "user": {
      "displayName": "Thiago Oliveira",
      "photoUrl": "",
      "userId": "16792580446587139449"
     },
     "user_tz": 180
    },
    "id": "MzHCz5f7UrFt",
    "outputId": "4845b183-2ccc-40ec-a1ae-c215debb4497"
   },
   "outputs": [
    {
     "data": {
      "image/png": "[encoded data removed]",
      "text/plain": [
       "<Figure size 432x288 with 1 Axes>"
      ]
     },
     "metadata": {
      "needs_background": "light"
     },
     "output_type": "display_data"
    }
   ],
   "source": [
    "sns.histplot(data=df_total, x=\"valor_operacao\", hue=\"day_of_week\", palette=\"rainbow\")\n",
    "plt.title('Valor das operações por dia da semana')\n",
    "plt.show()"
   ]
  },
  {
   "cell_type": "code",
   "execution_count": 79,
   "metadata": {
    "colab": {
     "base_uri": "https://localhost:8080/",
     "height": 1000
    },
    "executionInfo": {
     "elapsed": 1084,
     "status": "ok",
     "timestamp": 1624292485365,
     "user": {
      "displayName": "Thiago Oliveira",
      "photoUrl": "",
      "userId": "16792580446587139449"
     },
     "user_tz": 180
    },
    "id": "4010B_-bX-3U",
    "outputId": "0ae7b4b6-769c-4594-df30-05acadba8819"
   },
   "outputs": [
    {
     "data": {
      "image/png": "[encoded data removed]",
      "text/plain": [
       "<Figure size 432x288 with 1 Axes>"
      ]
     },
     "metadata": {
      "needs_background": "light"
     },
     "output_type": "display_data"
    },
    {
     "data": {
      "image/png": "[encoded data removed]",
      "text/plain": [
       "<Figure size 432x288 with 1 Axes>"
      ]
     },
     "metadata": {
      "needs_background": "light"
     },
     "output_type": "display_data"
    },
    {
     "data": {
      "image/png": "[encoded data removed]",
      "text/plain": [
       "<Figure size 432x288 with 1 Axes>"
      ]
     },
     "metadata": {
      "needs_background": "light"
     },
     "output_type": "display_data"
    },
    {
     "data": {
      "image/png": "[encoded data removed]",
      "text/plain": [
       "<Figure size 432x288 with 1 Axes>"
      ]
     },
     "metadata": {
      "needs_background": "light"
     },
     "output_type": "display_data"
    }
   ],
   "source": [
    "# plot de distribuição para as  demais colunas numericas.\n",
    "\n",
    "for col in df_total.select_dtypes(include=np.number).columns:\n",
    "    \n",
    "    plt.title(\"Distribuição da coluna {}\".format(col))\n",
    "    \n",
    "    sns.histplot(df_total, x=col)\n",
    "    \n",
    "    plt.show()"
   ]
  },
  {
   "cell_type": "code",
   "execution_count": 80,
   "metadata": {
    "colab": {
     "base_uri": "https://localhost:8080/",
     "height": 353
    },
    "executionInfo": {
     "elapsed": 1251,
     "status": "ok",
     "timestamp": 1624292826771,
     "user": {
      "displayName": "Thiago Oliveira",
      "photoUrl": "",
      "userId": "16792580446587139449"
     },
     "user_tz": 180
    },
    "id": "Ey8NU_rxZTPk",
    "outputId": "cbb1e241-3ef9-4c7c-8b5b-fd9b60a766bb"
   },
   "outputs": [
    {
     "data": {
      "text/plain": [
       "<matplotlib.axes._subplots.AxesSubplot at 0x1c71c6818c8>"
      ]
     },
     "execution_count": 80,
     "metadata": {},
     "output_type": "execute_result"
    },
    {
     "data": {
      "image/png": "[encoded data removed]",
      "text/plain": [
       "<Figure size 432x288 with 2 Axes>"
      ]
     },
     "metadata": {
      "needs_background": "light"
     },
     "output_type": "display_data"
    }
   ],
   "source": [
    "sns.heatmap(df_total.corr(), vmin=-1, vmax=1, annot=True, cmap=\"viridis\")"
   ]
  },
  {
   "cell_type": "markdown",
   "metadata": {},
   "source": [
    "Vi que tem uma relação forte entre valor da operação e valor da parcela. "
   ]
  },
  {
   "cell_type": "code",
   "execution_count": 81,
   "metadata": {},
   "outputs": [
    {
     "ename": "KeyError",
     "evalue": "0",
     "output_type": "error",
     "traceback": [
      "\u001b[1;31m---------------------------------------------------------------------------\u001b[0m",
      "\u001b[1;31mAttributeError\u001b[0m                            Traceback (most recent call last)",
      "\u001b[1;32m~\\anaconda3\\lib\\site-packages\\numpy\\lib\\histograms.py\u001b[0m in \u001b[0;36mhistogramdd\u001b[1;34m(sample, bins, range, normed, weights, density)\u001b[0m\n\u001b[0;32m   1017\u001b[0m         \u001b[1;31m# Sample is an ND-array.\u001b[0m\u001b[1;33m\u001b[0m\u001b[1;33m\u001b[0m\u001b[1;33m\u001b[0m\u001b[0m\n\u001b[1;32m-> 1018\u001b[1;33m         \u001b[0mN\u001b[0m\u001b[1;33m,\u001b[0m \u001b[0mD\u001b[0m \u001b[1;33m=\u001b[0m \u001b[0msample\u001b[0m\u001b[1;33m.\u001b[0m\u001b[0mshape\u001b[0m\u001b[1;33m\u001b[0m\u001b[1;33m\u001b[0m\u001b[0m\n\u001b[0m\u001b[0;32m   1019\u001b[0m     \u001b[1;32mexcept\u001b[0m \u001b[1;33m(\u001b[0m\u001b[0mAttributeError\u001b[0m\u001b[1;33m,\u001b[0m \u001b[0mValueError\u001b[0m\u001b[1;33m)\u001b[0m\u001b[1;33m:\u001b[0m\u001b[1;33m\u001b[0m\u001b[1;33m\u001b[0m\u001b[0m\n",
      "\u001b[1;31mAttributeError\u001b[0m: 'list' object has no attribute 'shape'",
      "\nDuring handling of the above exception, another exception occurred:\n",
      "\u001b[1;31mKeyError\u001b[0m                                  Traceback (most recent call last)",
      "\u001b[1;32m~\\anaconda3\\lib\\site-packages\\pandas\\core\\indexes\\base.py\u001b[0m in \u001b[0;36mget_loc\u001b[1;34m(self, key, method, tolerance)\u001b[0m\n\u001b[0;32m   3079\u001b[0m             \u001b[1;32mtry\u001b[0m\u001b[1;33m:\u001b[0m\u001b[1;33m\u001b[0m\u001b[1;33m\u001b[0m\u001b[0m\n\u001b[1;32m-> 3080\u001b[1;33m                 \u001b[1;32mreturn\u001b[0m \u001b[0mself\u001b[0m\u001b[1;33m.\u001b[0m\u001b[0m_engine\u001b[0m\u001b[1;33m.\u001b[0m\u001b[0mget_loc\u001b[0m\u001b[1;33m(\u001b[0m\u001b[0mcasted_key\u001b[0m\u001b[1;33m)\u001b[0m\u001b[1;33m\u001b[0m\u001b[1;33m\u001b[0m\u001b[0m\n\u001b[0m\u001b[0;32m   3081\u001b[0m             \u001b[1;32mexcept\u001b[0m \u001b[0mKeyError\u001b[0m \u001b[1;32mas\u001b[0m \u001b[0merr\u001b[0m\u001b[1;33m:\u001b[0m\u001b[1;33m\u001b[0m\u001b[1;33m\u001b[0m\u001b[0m\n",
      "\u001b[1;32mpandas\\_libs\\index.pyx\u001b[0m in \u001b[0;36mpandas._libs.index.IndexEngine.get_loc\u001b[1;34m()\u001b[0m\n",
      "\u001b[1;32mpandas\\_libs\\index.pyx\u001b[0m in \u001b[0;36mpandas._libs.index.IndexEngine.get_loc\u001b[1;34m()\u001b[0m\n",
      "\u001b[1;32mpandas\\_libs\\hashtable_class_helper.pxi\u001b[0m in \u001b[0;36mpandas._libs.hashtable.Int64HashTable.get_item\u001b[1;34m()\u001b[0m\n",
      "\u001b[1;32mpandas\\_libs\\hashtable_class_helper.pxi\u001b[0m in \u001b[0;36mpandas._libs.hashtable.Int64HashTable.get_item\u001b[1;34m()\u001b[0m\n",
      "\u001b[1;31mKeyError\u001b[0m: 0",
      "\nThe above exception was the direct cause of the following exception:\n",
      "\u001b[1;31mKeyError\u001b[0m                                  Traceback (most recent call last)",
      "\u001b[1;32m<ipython-input-81-b4836eedfca7>\u001b[0m in \u001b[0;36m<module>\u001b[1;34m\u001b[0m\n\u001b[1;32m----> 1\u001b[1;33m \u001b[0msns\u001b[0m\u001b[1;33m.\u001b[0m\u001b[0mjointplot\u001b[0m\u001b[1;33m(\u001b[0m\u001b[0mdata\u001b[0m\u001b[1;33m=\u001b[0m\u001b[0mdf_total\u001b[0m\u001b[1;33m,\u001b[0m \u001b[0mx\u001b[0m\u001b[1;33m=\u001b[0m\u001b[1;34m'valor_operacao'\u001b[0m\u001b[1;33m,\u001b[0m \u001b[0my\u001b[0m\u001b[1;33m=\u001b[0m\u001b[1;34m'valor_parcela'\u001b[0m\u001b[1;33m,\u001b[0m \u001b[0mhue\u001b[0m\u001b[1;33m=\u001b[0m\u001b[1;34m'num_parcelas'\u001b[0m\u001b[1;33m,\u001b[0m \u001b[0mkind\u001b[0m\u001b[1;33m=\u001b[0m\u001b[1;34m'hist'\u001b[0m\u001b[1;33m)\u001b[0m\u001b[1;33m\u001b[0m\u001b[1;33m\u001b[0m\u001b[0m\n\u001b[0m",
      "\u001b[1;32m~\\anaconda3\\lib\\site-packages\\seaborn\\_decorators.py\u001b[0m in \u001b[0;36minner_f\u001b[1;34m(*args, **kwargs)\u001b[0m\n\u001b[0;32m     44\u001b[0m             )\n\u001b[0;32m     45\u001b[0m         \u001b[0mkwargs\u001b[0m\u001b[1;33m.\u001b[0m\u001b[0mupdate\u001b[0m\u001b[1;33m(\u001b[0m\u001b[1;33m{\u001b[0m\u001b[0mk\u001b[0m\u001b[1;33m:\u001b[0m \u001b[0marg\u001b[0m \u001b[1;32mfor\u001b[0m \u001b[0mk\u001b[0m\u001b[1;33m,\u001b[0m \u001b[0marg\u001b[0m \u001b[1;32min\u001b[0m \u001b[0mzip\u001b[0m\u001b[1;33m(\u001b[0m\u001b[0msig\u001b[0m\u001b[1;33m.\u001b[0m\u001b[0mparameters\u001b[0m\u001b[1;33m,\u001b[0m \u001b[0margs\u001b[0m\u001b[1;33m)\u001b[0m\u001b[1;33m}\u001b[0m\u001b[1;33m)\u001b[0m\u001b[1;33m\u001b[0m\u001b[1;33m\u001b[0m\u001b[0m\n\u001b[1;32m---> 46\u001b[1;33m         \u001b[1;32mreturn\u001b[0m \u001b[0mf\u001b[0m\u001b[1;33m(\u001b[0m\u001b[1;33m**\u001b[0m\u001b[0mkwargs\u001b[0m\u001b[1;33m)\u001b[0m\u001b[1;33m\u001b[0m\u001b[1;33m\u001b[0m\u001b[0m\n\u001b[0m\u001b[0;32m     47\u001b[0m     \u001b[1;32mreturn\u001b[0m \u001b[0minner_f\u001b[0m\u001b[1;33m\u001b[0m\u001b[1;33m\u001b[0m\u001b[0m\n\u001b[0;32m     48\u001b[0m \u001b[1;33m\u001b[0m\u001b[0m\n",
      "\u001b[1;32m~\\anaconda3\\lib\\site-packages\\seaborn\\axisgrid.py\u001b[0m in \u001b[0;36mjointplot\u001b[1;34m(x, y, data, kind, color, height, ratio, space, dropna, xlim, ylim, marginal_ticks, joint_kws, marginal_kws, hue, palette, hue_order, hue_norm, **kwargs)\u001b[0m\n\u001b[0;32m   2150\u001b[0m \u001b[1;33m\u001b[0m\u001b[0m\n\u001b[0;32m   2151\u001b[0m         \u001b[0mjoint_kws\u001b[0m\u001b[1;33m.\u001b[0m\u001b[0msetdefault\u001b[0m\u001b[1;33m(\u001b[0m\u001b[1;34m\"color\"\u001b[0m\u001b[1;33m,\u001b[0m \u001b[0mcolor\u001b[0m\u001b[1;33m)\u001b[0m\u001b[1;33m\u001b[0m\u001b[1;33m\u001b[0m\u001b[0m\n\u001b[1;32m-> 2152\u001b[1;33m         \u001b[0mgrid\u001b[0m\u001b[1;33m.\u001b[0m\u001b[0mplot_joint\u001b[0m\u001b[1;33m(\u001b[0m\u001b[0mhistplot\u001b[0m\u001b[1;33m,\u001b[0m \u001b[1;33m**\u001b[0m\u001b[0mjoint_kws\u001b[0m\u001b[1;33m)\u001b[0m\u001b[1;33m\u001b[0m\u001b[1;33m\u001b[0m\u001b[0m\n\u001b[0m\u001b[0;32m   2153\u001b[0m \u001b[1;33m\u001b[0m\u001b[0m\n\u001b[0;32m   2154\u001b[0m         \u001b[0mmarginal_kws\u001b[0m\u001b[1;33m.\u001b[0m\u001b[0msetdefault\u001b[0m\u001b[1;33m(\u001b[0m\u001b[1;34m\"kde\"\u001b[0m\u001b[1;33m,\u001b[0m \u001b[1;32mFalse\u001b[0m\u001b[1;33m)\u001b[0m\u001b[1;33m\u001b[0m\u001b[1;33m\u001b[0m\u001b[0m\n",
      "\u001b[1;32m~\\anaconda3\\lib\\site-packages\\seaborn\\axisgrid.py\u001b[0m in \u001b[0;36mplot_joint\u001b[1;34m(self, func, **kwargs)\u001b[0m\n\u001b[0;32m   1732\u001b[0m \u001b[1;33m\u001b[0m\u001b[0m\n\u001b[0;32m   1733\u001b[0m         \u001b[1;32mif\u001b[0m \u001b[0mstr\u001b[0m\u001b[1;33m(\u001b[0m\u001b[0mfunc\u001b[0m\u001b[1;33m.\u001b[0m\u001b[0m__module__\u001b[0m\u001b[1;33m)\u001b[0m\u001b[1;33m.\u001b[0m\u001b[0mstartswith\u001b[0m\u001b[1;33m(\u001b[0m\u001b[1;34m\"seaborn\"\u001b[0m\u001b[1;33m)\u001b[0m\u001b[1;33m:\u001b[0m\u001b[1;33m\u001b[0m\u001b[1;33m\u001b[0m\u001b[0m\n\u001b[1;32m-> 1734\u001b[1;33m             \u001b[0mfunc\u001b[0m\u001b[1;33m(\u001b[0m\u001b[0mx\u001b[0m\u001b[1;33m=\u001b[0m\u001b[0mself\u001b[0m\u001b[1;33m.\u001b[0m\u001b[0mx\u001b[0m\u001b[1;33m,\u001b[0m \u001b[0my\u001b[0m\u001b[1;33m=\u001b[0m\u001b[0mself\u001b[0m\u001b[1;33m.\u001b[0m\u001b[0my\u001b[0m\u001b[1;33m,\u001b[0m \u001b[1;33m**\u001b[0m\u001b[0mkwargs\u001b[0m\u001b[1;33m)\u001b[0m\u001b[1;33m\u001b[0m\u001b[1;33m\u001b[0m\u001b[0m\n\u001b[0m\u001b[0;32m   1735\u001b[0m         \u001b[1;32melse\u001b[0m\u001b[1;33m:\u001b[0m\u001b[1;33m\u001b[0m\u001b[1;33m\u001b[0m\u001b[0m\n\u001b[0;32m   1736\u001b[0m             \u001b[0mfunc\u001b[0m\u001b[1;33m(\u001b[0m\u001b[0mself\u001b[0m\u001b[1;33m.\u001b[0m\u001b[0mx\u001b[0m\u001b[1;33m,\u001b[0m \u001b[0mself\u001b[0m\u001b[1;33m.\u001b[0m\u001b[0my\u001b[0m\u001b[1;33m,\u001b[0m \u001b[1;33m**\u001b[0m\u001b[0mkwargs\u001b[0m\u001b[1;33m)\u001b[0m\u001b[1;33m\u001b[0m\u001b[1;33m\u001b[0m\u001b[0m\n",
      "\u001b[1;32m~\\anaconda3\\lib\\site-packages\\seaborn\\distributions.py\u001b[0m in \u001b[0;36mhistplot\u001b[1;34m(data, x, y, hue, weights, stat, bins, binwidth, binrange, discrete, cumulative, common_bins, common_norm, multiple, element, fill, shrink, kde, kde_kws, line_kws, thresh, pthresh, pmax, cbar, cbar_ax, cbar_kws, palette, hue_order, hue_norm, color, log_scale, legend, ax, **kwargs)\u001b[0m\n\u001b[0;32m   1451\u001b[0m             \u001b[0mcbar_kws\u001b[0m\u001b[1;33m=\u001b[0m\u001b[0mcbar_kws\u001b[0m\u001b[1;33m,\u001b[0m\u001b[1;33m\u001b[0m\u001b[1;33m\u001b[0m\u001b[0m\n\u001b[0;32m   1452\u001b[0m             \u001b[0mestimate_kws\u001b[0m\u001b[1;33m=\u001b[0m\u001b[0mestimate_kws\u001b[0m\u001b[1;33m,\u001b[0m\u001b[1;33m\u001b[0m\u001b[1;33m\u001b[0m\u001b[0m\n\u001b[1;32m-> 1453\u001b[1;33m             \u001b[1;33m**\u001b[0m\u001b[0mkwargs\u001b[0m\u001b[1;33m,\u001b[0m\u001b[1;33m\u001b[0m\u001b[1;33m\u001b[0m\u001b[0m\n\u001b[0m\u001b[0;32m   1454\u001b[0m         )\n\u001b[0;32m   1455\u001b[0m \u001b[1;33m\u001b[0m\u001b[0m\n",
      "\u001b[1;32m~\\anaconda3\\lib\\site-packages\\seaborn\\distributions.py\u001b[0m in \u001b[0;36mplot_bivariate_histogram\u001b[1;34m(self, common_bins, common_norm, thresh, pthresh, pmax, color, legend, cbar, cbar_ax, cbar_kws, estimate_kws, **plot_kws)\u001b[0m\n\u001b[0;32m    784\u001b[0m                 \u001b[0msub_data\u001b[0m\u001b[1;33m[\u001b[0m\u001b[1;34m\"x\"\u001b[0m\u001b[1;33m]\u001b[0m\u001b[1;33m,\u001b[0m\u001b[1;33m\u001b[0m\u001b[1;33m\u001b[0m\u001b[0m\n\u001b[0;32m    785\u001b[0m                 \u001b[0msub_data\u001b[0m\u001b[1;33m[\u001b[0m\u001b[1;34m\"y\"\u001b[0m\u001b[1;33m]\u001b[0m\u001b[1;33m,\u001b[0m\u001b[1;33m\u001b[0m\u001b[1;33m\u001b[0m\u001b[0m\n\u001b[1;32m--> 786\u001b[1;33m                 \u001b[0mweights\u001b[0m\u001b[1;33m=\u001b[0m\u001b[0msub_data\u001b[0m\u001b[1;33m.\u001b[0m\u001b[0mget\u001b[0m\u001b[1;33m(\u001b[0m\u001b[1;34m\"weights\"\u001b[0m\u001b[1;33m,\u001b[0m \u001b[1;32mNone\u001b[0m\u001b[1;33m)\u001b[0m\u001b[1;33m,\u001b[0m\u001b[1;33m\u001b[0m\u001b[1;33m\u001b[0m\u001b[0m\n\u001b[0m\u001b[0;32m    787\u001b[0m             )\n\u001b[0;32m    788\u001b[0m \u001b[1;33m\u001b[0m\u001b[0m\n",
      "\u001b[1;32m~\\anaconda3\\lib\\site-packages\\seaborn\\_statistics.py\u001b[0m in \u001b[0;36m__call__\u001b[1;34m(self, x1, x2, weights)\u001b[0m\n\u001b[0;32m    371\u001b[0m             \u001b[1;32mreturn\u001b[0m \u001b[0mself\u001b[0m\u001b[1;33m.\u001b[0m\u001b[0m_eval_univariate\u001b[0m\u001b[1;33m(\u001b[0m\u001b[0mx1\u001b[0m\u001b[1;33m,\u001b[0m \u001b[0mweights\u001b[0m\u001b[1;33m)\u001b[0m\u001b[1;33m\u001b[0m\u001b[1;33m\u001b[0m\u001b[0m\n\u001b[0;32m    372\u001b[0m         \u001b[1;32melse\u001b[0m\u001b[1;33m:\u001b[0m\u001b[1;33m\u001b[0m\u001b[1;33m\u001b[0m\u001b[0m\n\u001b[1;32m--> 373\u001b[1;33m             \u001b[1;32mreturn\u001b[0m \u001b[0mself\u001b[0m\u001b[1;33m.\u001b[0m\u001b[0m_eval_bivariate\u001b[0m\u001b[1;33m(\u001b[0m\u001b[0mx1\u001b[0m\u001b[1;33m,\u001b[0m \u001b[0mx2\u001b[0m\u001b[1;33m,\u001b[0m \u001b[0mweights\u001b[0m\u001b[1;33m)\u001b[0m\u001b[1;33m\u001b[0m\u001b[1;33m\u001b[0m\u001b[0m\n\u001b[0m\u001b[0;32m    374\u001b[0m \u001b[1;33m\u001b[0m\u001b[0m\n\u001b[0;32m    375\u001b[0m \u001b[1;33m\u001b[0m\u001b[0m\n",
      "\u001b[1;32m~\\anaconda3\\lib\\site-packages\\seaborn\\_statistics.py\u001b[0m in \u001b[0;36m_eval_bivariate\u001b[1;34m(self, x1, x2, weights)\u001b[0m\n\u001b[0;32m    321\u001b[0m \u001b[1;33m\u001b[0m\u001b[0m\n\u001b[0;32m    322\u001b[0m         hist, _, _ = np.histogram2d(\n\u001b[1;32m--> 323\u001b[1;33m             \u001b[0mx1\u001b[0m\u001b[1;33m,\u001b[0m \u001b[0mx2\u001b[0m\u001b[1;33m,\u001b[0m \u001b[0mbin_edges\u001b[0m\u001b[1;33m,\u001b[0m \u001b[0mweights\u001b[0m\u001b[1;33m=\u001b[0m\u001b[0mweights\u001b[0m\u001b[1;33m,\u001b[0m \u001b[0mdensity\u001b[0m\u001b[1;33m=\u001b[0m\u001b[0mdensity\u001b[0m\u001b[1;33m\u001b[0m\u001b[1;33m\u001b[0m\u001b[0m\n\u001b[0m\u001b[0;32m    324\u001b[0m         )\n\u001b[0;32m    325\u001b[0m \u001b[1;33m\u001b[0m\u001b[0m\n",
      "\u001b[1;32m<__array_function__ internals>\u001b[0m in \u001b[0;36mhistogram2d\u001b[1;34m(*args, **kwargs)\u001b[0m\n",
      "\u001b[1;32m~\\anaconda3\\lib\\site-packages\\numpy\\lib\\twodim_base.py\u001b[0m in \u001b[0;36mhistogram2d\u001b[1;34m(x, y, bins, range, normed, weights, density)\u001b[0m\n\u001b[0;32m    713\u001b[0m         \u001b[0mxedges\u001b[0m \u001b[1;33m=\u001b[0m \u001b[0myedges\u001b[0m \u001b[1;33m=\u001b[0m \u001b[0masarray\u001b[0m\u001b[1;33m(\u001b[0m\u001b[0mbins\u001b[0m\u001b[1;33m)\u001b[0m\u001b[1;33m\u001b[0m\u001b[1;33m\u001b[0m\u001b[0m\n\u001b[0;32m    714\u001b[0m         \u001b[0mbins\u001b[0m \u001b[1;33m=\u001b[0m \u001b[1;33m[\u001b[0m\u001b[0mxedges\u001b[0m\u001b[1;33m,\u001b[0m \u001b[0myedges\u001b[0m\u001b[1;33m]\u001b[0m\u001b[1;33m\u001b[0m\u001b[1;33m\u001b[0m\u001b[0m\n\u001b[1;32m--> 715\u001b[1;33m     \u001b[0mhist\u001b[0m\u001b[1;33m,\u001b[0m \u001b[0medges\u001b[0m \u001b[1;33m=\u001b[0m \u001b[0mhistogramdd\u001b[0m\u001b[1;33m(\u001b[0m\u001b[1;33m[\u001b[0m\u001b[0mx\u001b[0m\u001b[1;33m,\u001b[0m \u001b[0my\u001b[0m\u001b[1;33m]\u001b[0m\u001b[1;33m,\u001b[0m \u001b[0mbins\u001b[0m\u001b[1;33m,\u001b[0m \u001b[0mrange\u001b[0m\u001b[1;33m,\u001b[0m \u001b[0mnormed\u001b[0m\u001b[1;33m,\u001b[0m \u001b[0mweights\u001b[0m\u001b[1;33m,\u001b[0m \u001b[0mdensity\u001b[0m\u001b[1;33m)\u001b[0m\u001b[1;33m\u001b[0m\u001b[1;33m\u001b[0m\u001b[0m\n\u001b[0m\u001b[0;32m    716\u001b[0m     \u001b[1;32mreturn\u001b[0m \u001b[0mhist\u001b[0m\u001b[1;33m,\u001b[0m \u001b[0medges\u001b[0m\u001b[1;33m[\u001b[0m\u001b[1;36m0\u001b[0m\u001b[1;33m]\u001b[0m\u001b[1;33m,\u001b[0m \u001b[0medges\u001b[0m\u001b[1;33m[\u001b[0m\u001b[1;36m1\u001b[0m\u001b[1;33m]\u001b[0m\u001b[1;33m\u001b[0m\u001b[1;33m\u001b[0m\u001b[0m\n\u001b[0;32m    717\u001b[0m \u001b[1;33m\u001b[0m\u001b[0m\n",
      "\u001b[1;32m<__array_function__ internals>\u001b[0m in \u001b[0;36mhistogramdd\u001b[1;34m(*args, **kwargs)\u001b[0m\n",
      "\u001b[1;32m~\\anaconda3\\lib\\site-packages\\numpy\\lib\\histograms.py\u001b[0m in \u001b[0;36mhistogramdd\u001b[1;34m(sample, bins, range, normed, weights, density)\u001b[0m\n\u001b[0;32m   1019\u001b[0m     \u001b[1;32mexcept\u001b[0m \u001b[1;33m(\u001b[0m\u001b[0mAttributeError\u001b[0m\u001b[1;33m,\u001b[0m \u001b[0mValueError\u001b[0m\u001b[1;33m)\u001b[0m\u001b[1;33m:\u001b[0m\u001b[1;33m\u001b[0m\u001b[1;33m\u001b[0m\u001b[0m\n\u001b[0;32m   1020\u001b[0m         \u001b[1;31m# Sample is a sequence of 1D arrays.\u001b[0m\u001b[1;33m\u001b[0m\u001b[1;33m\u001b[0m\u001b[1;33m\u001b[0m\u001b[0m\n\u001b[1;32m-> 1021\u001b[1;33m         \u001b[0msample\u001b[0m \u001b[1;33m=\u001b[0m \u001b[0mnp\u001b[0m\u001b[1;33m.\u001b[0m\u001b[0matleast_2d\u001b[0m\u001b[1;33m(\u001b[0m\u001b[0msample\u001b[0m\u001b[1;33m)\u001b[0m\u001b[1;33m.\u001b[0m\u001b[0mT\u001b[0m\u001b[1;33m\u001b[0m\u001b[1;33m\u001b[0m\u001b[0m\n\u001b[0m\u001b[0;32m   1022\u001b[0m         \u001b[0mN\u001b[0m\u001b[1;33m,\u001b[0m \u001b[0mD\u001b[0m \u001b[1;33m=\u001b[0m \u001b[0msample\u001b[0m\u001b[1;33m.\u001b[0m\u001b[0mshape\u001b[0m\u001b[1;33m\u001b[0m\u001b[1;33m\u001b[0m\u001b[0m\n\u001b[0;32m   1023\u001b[0m \u001b[1;33m\u001b[0m\u001b[0m\n",
      "\u001b[1;32m<__array_function__ internals>\u001b[0m in \u001b[0;36matleast_2d\u001b[1;34m(*args, **kwargs)\u001b[0m\n",
      "\u001b[1;32m~\\anaconda3\\lib\\site-packages\\numpy\\core\\shape_base.py\u001b[0m in \u001b[0;36matleast_2d\u001b[1;34m(*arys)\u001b[0m\n\u001b[0;32m    121\u001b[0m     \u001b[0mres\u001b[0m \u001b[1;33m=\u001b[0m \u001b[1;33m[\u001b[0m\u001b[1;33m]\u001b[0m\u001b[1;33m\u001b[0m\u001b[1;33m\u001b[0m\u001b[0m\n\u001b[0;32m    122\u001b[0m     \u001b[1;32mfor\u001b[0m \u001b[0mary\u001b[0m \u001b[1;32min\u001b[0m \u001b[0marys\u001b[0m\u001b[1;33m:\u001b[0m\u001b[1;33m\u001b[0m\u001b[1;33m\u001b[0m\u001b[0m\n\u001b[1;32m--> 123\u001b[1;33m         \u001b[0mary\u001b[0m \u001b[1;33m=\u001b[0m \u001b[0masanyarray\u001b[0m\u001b[1;33m(\u001b[0m\u001b[0mary\u001b[0m\u001b[1;33m)\u001b[0m\u001b[1;33m\u001b[0m\u001b[1;33m\u001b[0m\u001b[0m\n\u001b[0m\u001b[0;32m    124\u001b[0m         \u001b[1;32mif\u001b[0m \u001b[0mary\u001b[0m\u001b[1;33m.\u001b[0m\u001b[0mndim\u001b[0m \u001b[1;33m==\u001b[0m \u001b[1;36m0\u001b[0m\u001b[1;33m:\u001b[0m\u001b[1;33m\u001b[0m\u001b[1;33m\u001b[0m\u001b[0m\n\u001b[0;32m    125\u001b[0m             \u001b[0mresult\u001b[0m \u001b[1;33m=\u001b[0m \u001b[0mary\u001b[0m\u001b[1;33m.\u001b[0m\u001b[0mreshape\u001b[0m\u001b[1;33m(\u001b[0m\u001b[1;36m1\u001b[0m\u001b[1;33m,\u001b[0m \u001b[1;36m1\u001b[0m\u001b[1;33m)\u001b[0m\u001b[1;33m\u001b[0m\u001b[1;33m\u001b[0m\u001b[0m\n",
      "\u001b[1;32m~\\anaconda3\\lib\\site-packages\\numpy\\core\\_asarray.py\u001b[0m in \u001b[0;36masanyarray\u001b[1;34m(a, dtype, order)\u001b[0m\n\u001b[0;32m    136\u001b[0m \u001b[1;33m\u001b[0m\u001b[0m\n\u001b[0;32m    137\u001b[0m     \"\"\"\n\u001b[1;32m--> 138\u001b[1;33m     \u001b[1;32mreturn\u001b[0m \u001b[0marray\u001b[0m\u001b[1;33m(\u001b[0m\u001b[0ma\u001b[0m\u001b[1;33m,\u001b[0m \u001b[0mdtype\u001b[0m\u001b[1;33m,\u001b[0m \u001b[0mcopy\u001b[0m\u001b[1;33m=\u001b[0m\u001b[1;32mFalse\u001b[0m\u001b[1;33m,\u001b[0m \u001b[0morder\u001b[0m\u001b[1;33m=\u001b[0m\u001b[0morder\u001b[0m\u001b[1;33m,\u001b[0m \u001b[0msubok\u001b[0m\u001b[1;33m=\u001b[0m\u001b[1;32mTrue\u001b[0m\u001b[1;33m)\u001b[0m\u001b[1;33m\u001b[0m\u001b[1;33m\u001b[0m\u001b[0m\n\u001b[0m\u001b[0;32m    139\u001b[0m \u001b[1;33m\u001b[0m\u001b[0m\n\u001b[0;32m    140\u001b[0m \u001b[1;33m\u001b[0m\u001b[0m\n",
      "\u001b[1;32m~\\anaconda3\\lib\\site-packages\\pandas\\core\\series.py\u001b[0m in \u001b[0;36m__getitem__\u001b[1;34m(self, key)\u001b[0m\n\u001b[0;32m    851\u001b[0m \u001b[1;33m\u001b[0m\u001b[0m\n\u001b[0;32m    852\u001b[0m         \u001b[1;32melif\u001b[0m \u001b[0mkey_is_scalar\u001b[0m\u001b[1;33m:\u001b[0m\u001b[1;33m\u001b[0m\u001b[1;33m\u001b[0m\u001b[0m\n\u001b[1;32m--> 853\u001b[1;33m             \u001b[1;32mreturn\u001b[0m \u001b[0mself\u001b[0m\u001b[1;33m.\u001b[0m\u001b[0m_get_value\u001b[0m\u001b[1;33m(\u001b[0m\u001b[0mkey\u001b[0m\u001b[1;33m)\u001b[0m\u001b[1;33m\u001b[0m\u001b[1;33m\u001b[0m\u001b[0m\n\u001b[0m\u001b[0;32m    854\u001b[0m \u001b[1;33m\u001b[0m\u001b[0m\n\u001b[0;32m    855\u001b[0m         \u001b[1;32mif\u001b[0m \u001b[0mis_hashable\u001b[0m\u001b[1;33m(\u001b[0m\u001b[0mkey\u001b[0m\u001b[1;33m)\u001b[0m\u001b[1;33m:\u001b[0m\u001b[1;33m\u001b[0m\u001b[1;33m\u001b[0m\u001b[0m\n",
      "\u001b[1;32m~\\anaconda3\\lib\\site-packages\\pandas\\core\\series.py\u001b[0m in \u001b[0;36m_get_value\u001b[1;34m(self, label, takeable)\u001b[0m\n\u001b[0;32m    959\u001b[0m \u001b[1;33m\u001b[0m\u001b[0m\n\u001b[0;32m    960\u001b[0m         \u001b[1;31m# Similar to Index.get_value, but we do not fall back to positional\u001b[0m\u001b[1;33m\u001b[0m\u001b[1;33m\u001b[0m\u001b[1;33m\u001b[0m\u001b[0m\n\u001b[1;32m--> 961\u001b[1;33m         \u001b[0mloc\u001b[0m \u001b[1;33m=\u001b[0m \u001b[0mself\u001b[0m\u001b[1;33m.\u001b[0m\u001b[0mindex\u001b[0m\u001b[1;33m.\u001b[0m\u001b[0mget_loc\u001b[0m\u001b[1;33m(\u001b[0m\u001b[0mlabel\u001b[0m\u001b[1;33m)\u001b[0m\u001b[1;33m\u001b[0m\u001b[1;33m\u001b[0m\u001b[0m\n\u001b[0m\u001b[0;32m    962\u001b[0m         \u001b[1;32mreturn\u001b[0m \u001b[0mself\u001b[0m\u001b[1;33m.\u001b[0m\u001b[0mindex\u001b[0m\u001b[1;33m.\u001b[0m\u001b[0m_get_values_for_loc\u001b[0m\u001b[1;33m(\u001b[0m\u001b[0mself\u001b[0m\u001b[1;33m,\u001b[0m \u001b[0mloc\u001b[0m\u001b[1;33m,\u001b[0m \u001b[0mlabel\u001b[0m\u001b[1;33m)\u001b[0m\u001b[1;33m\u001b[0m\u001b[1;33m\u001b[0m\u001b[0m\n\u001b[0;32m    963\u001b[0m \u001b[1;33m\u001b[0m\u001b[0m\n",
      "\u001b[1;32m~\\anaconda3\\lib\\site-packages\\pandas\\core\\indexes\\base.py\u001b[0m in \u001b[0;36mget_loc\u001b[1;34m(self, key, method, tolerance)\u001b[0m\n\u001b[0;32m   3080\u001b[0m                 \u001b[1;32mreturn\u001b[0m \u001b[0mself\u001b[0m\u001b[1;33m.\u001b[0m\u001b[0m_engine\u001b[0m\u001b[1;33m.\u001b[0m\u001b[0mget_loc\u001b[0m\u001b[1;33m(\u001b[0m\u001b[0mcasted_key\u001b[0m\u001b[1;33m)\u001b[0m\u001b[1;33m\u001b[0m\u001b[1;33m\u001b[0m\u001b[0m\n\u001b[0;32m   3081\u001b[0m             \u001b[1;32mexcept\u001b[0m \u001b[0mKeyError\u001b[0m \u001b[1;32mas\u001b[0m \u001b[0merr\u001b[0m\u001b[1;33m:\u001b[0m\u001b[1;33m\u001b[0m\u001b[1;33m\u001b[0m\u001b[0m\n\u001b[1;32m-> 3082\u001b[1;33m                 \u001b[1;32mraise\u001b[0m \u001b[0mKeyError\u001b[0m\u001b[1;33m(\u001b[0m\u001b[0mkey\u001b[0m\u001b[1;33m)\u001b[0m \u001b[1;32mfrom\u001b[0m \u001b[0merr\u001b[0m\u001b[1;33m\u001b[0m\u001b[1;33m\u001b[0m\u001b[0m\n\u001b[0m\u001b[0;32m   3083\u001b[0m \u001b[1;33m\u001b[0m\u001b[0m\n\u001b[0;32m   3084\u001b[0m         \u001b[1;32mif\u001b[0m \u001b[0mtolerance\u001b[0m \u001b[1;32mis\u001b[0m \u001b[1;32mnot\u001b[0m \u001b[1;32mNone\u001b[0m\u001b[1;33m:\u001b[0m\u001b[1;33m\u001b[0m\u001b[1;33m\u001b[0m\u001b[0m\n",
      "\u001b[1;31mKeyError\u001b[0m: 0"
     ]
    },
    {
     "data": {
      "image/png": "[encoded data removed]",
      "text/plain": [
       "<Figure size 432x432 with 3 Axes>"
      ]
     },
     "metadata": {
      "needs_background": "light"
     },
     "output_type": "display_data"
    }
   ],
   "source": [
    "sns.jointplot(data=df_total, x='valor_operacao', y='valor_parcela', hue='num_parcelas', kind='hist')"
   ]
  },
  {
   "cell_type": "markdown",
   "metadata": {},
   "source": [
    "A partir de 2000 as pessoas tem costume em dividr em mais parcelas. "
   ]
  },
  {
   "cell_type": "code",
   "execution_count": 82,
   "metadata": {},
   "outputs": [
    {
     "data": {
      "text/plain": [
       "<seaborn.axisgrid.JointGrid at 0x1c71cb8d308>"
      ]
     },
     "execution_count": 82,
     "metadata": {},
     "output_type": "execute_result"
    },
    {
     "data": {
      "image/png": "[encoded data removed]",
      "text/plain": [
       "<Figure size 432x432 with 3 Axes>"
      ]
     },
     "metadata": {
      "needs_background": "light"
     },
     "output_type": "display_data"
    }
   ],
   "source": [
    "sns.jointplot(data=df_total, x='valor_operacao', y='valor_parcela', hue='day_of_week', kind='hist')"
   ]
  },
  {
   "cell_type": "markdown",
   "metadata": {},
   "source": [
    "Aqui mostra que compras pequenas avistas acontecem mais na quarta-feira."
   ]
  }
 ],
 "metadata": {
  "colab": {
   "collapsed_sections": [],
   "name": "projeto.ipynb",
   "provenance": []
  },
  "interpreter": {
   "hash": "e922dd073470bdcc017ae3abd31d6491d6ed7bf31c1d559806e5511bfea88b81"
  },
  "kernelspec": {
   "display_name": "Python 3",
   "language": "python",
   "name": "python3"
  },
  "language_info": {
   "codemirror_mode": {
    "name": "ipython",
    "version": 3
   },
   "file_extension": ".py",
   "mimetype": "text/x-python",
   "name": "python",
   "nbconvert_exporter": "python",
   "pygments_lexer": "ipython3",
   "version": "3.7.6"
  }
 },
 "nbformat": 4,
 "nbformat_minor": 1
}
