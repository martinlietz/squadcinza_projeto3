{
 "cells": [
  {
   "cell_type": "code",
   "execution_count": null,
   "metadata": {},
   "outputs": [],
   "source": []
  },
  {
   "cell_type": "code",
   "execution_count": 1,
   "metadata": {},
   "outputs": [],
   "source": [
    "import pandas as pd\n",
    "import numpy as np\n",
    "\n",
    "import matplotlib.pyplot as plt\n",
    "import seaborn as sns\n",
    "\n",
    "import datetime as dt\n",
    "from dateutil.relativedelta import relativedelta"
   ]
  },
  {
   "cell_type": "markdown",
   "metadata": {},
   "source": [
    "vamos carregar os dados"
   ]
  },
  {
   "cell_type": "code",
   "execution_count": 2,
   "metadata": {},
   "outputs": [],
   "source": [
    "df_limites = pd.read_excel('gastos_limites.xlsx', sheet_name='limites')\n",
    "df_gastos = pd.read_excel('gastos_limites.xlsx', sheet_name='gastos')"
   ]
  },
  {
   "cell_type": "markdown",
   "metadata": {},
   "source": [
    "Limpar os dados do limite"
   ]
  },
  {
   "cell_type": "code",
   "execution_count": 3,
   "metadata": {},
   "outputs": [],
   "source": [
    "df_limites['dt_fechamento'] = pd.to_datetime(df_limites.dt_fechamento, format=\"%d-%m-%y\")\n",
    "df_limites['limite'] = df_limites['limite'].str.replace('$','', regex=False)\n",
    "df_limites['limite'] = df_limites['limite'].str.replace('R ','')\n",
    "df_limites['limite'] = df_limites['limite'].str.replace(',','.')\n",
    "df_limites['limite'] = pd.to_numeric(df_limites['limite'])\n",
    "df_limites['cliente'] = df_limites['cliente'].str.title()\n",
    "df_limites['cliente'] = df_limites['cliente'].str.strip()"
   ]
  },
  {
   "cell_type": "code",
   "execution_count": 4,
   "metadata": {},
   "outputs": [
    {
     "data": {
      "text/plain": [
       "Unnamed: 0       0\n",
       "cliente          0\n",
       "limite           0\n",
       "dt_fechamento    0\n",
       "dtype: int64"
      ]
     },
     "execution_count": 4,
     "metadata": {},
     "output_type": "execute_result"
    }
   ],
   "source": [
    "df_limites.isnull().sum()"
   ]
  },
  {
   "cell_type": "markdown",
   "metadata": {},
   "source": [
    "Limpar os dados dos gastos"
   ]
  },
  {
   "cell_type": "code",
   "execution_count": 5,
   "metadata": {},
   "outputs": [],
   "source": [
    "df_gastos['dt_operacao'] = pd.to_datetime(df_gastos.dt_operacao, format=\"%d-%m-%y\")\n",
    "df_gastos['valor_operacao'] = df_gastos['valor_operacao'].str.replace('$','', regex=False)\n",
    "df_gastos['valor_operacao'] = df_gastos['valor_operacao'].str.replace('R ','')\n",
    "df_gastos['valor_operacao'] = df_gastos['valor_operacao'].str.replace(',','.')\n",
    "df_gastos['valor_operacao'] = pd.to_numeric(df_gastos['valor_operacao']) \n",
    "df_gastos['mes_atual'] = pd.to_datetime(df_gastos.mes_atual, format='%b/%y')\n",
    "df_gastos['nm_cliente'] = df_gastos['nm_cliente'].str.title()\n",
    "df_gastos['nm_cliente'] = df_gastos['nm_cliente'].str.strip()"
   ]
  },
  {
   "cell_type": "code",
   "execution_count": 6,
   "metadata": {},
   "outputs": [],
   "source": [
    "inverteNome = lambda s : s.split(', ')[1] + ' ' +  s.split(', ')[0] if ', ' in s else s\n"
   ]
  },
  {
   "cell_type": "code",
   "execution_count": 7,
   "metadata": {},
   "outputs": [],
   "source": [
    "df_gastos['nm_cliente'] = df_gastos['nm_cliente'].apply(inverteNome)\n",
    "df_limites['cliente'] = df_limites['cliente'].apply(inverteNome)"
   ]
  },
  {
   "cell_type": "code",
   "execution_count": 8,
   "metadata": {},
   "outputs": [
    {
     "data": {
      "text/plain": [
       "Unnamed: 0        0\n",
       "nm_cliente        0\n",
       "valor_operacao    0\n",
       "num_parcelas      0\n",
       "dt_operacao       0\n",
       "mes_atual         0\n",
       "dtype: int64"
      ]
     },
     "execution_count": 8,
     "metadata": {},
     "output_type": "execute_result"
    }
   ],
   "source": [
    "df_gastos.isnull().sum()"
   ]
  },
  {
   "cell_type": "code",
   "execution_count": 9,
   "metadata": {},
   "outputs": [
    {
     "name": "stdout",
     "output_type": "stream",
     "text": [
      "<class 'pandas.core.frame.DataFrame'>\n",
      "RangeIndex: 20 entries, 0 to 19\n",
      "Data columns (total 4 columns):\n",
      " #   Column         Non-Null Count  Dtype         \n",
      "---  ------         --------------  -----         \n",
      " 0   Unnamed: 0     20 non-null     int64         \n",
      " 1   cliente        20 non-null     object        \n",
      " 2   limite         20 non-null     float64       \n",
      " 3   dt_fechamento  20 non-null     datetime64[ns]\n",
      "dtypes: datetime64[ns](1), float64(1), int64(1), object(1)\n",
      "memory usage: 768.0+ bytes\n"
     ]
    }
   ],
   "source": [
    "df_limites.info()"
   ]
  },
  {
   "cell_type": "code",
   "execution_count": 10,
   "metadata": {},
   "outputs": [
    {
     "data": {
      "text/html": [
       "<div>\n",
       "<style scoped>\n",
       "    .dataframe tbody tr th:only-of-type {\n",
       "        vertical-align: middle;\n",
       "    }\n",
       "\n",
       "    .dataframe tbody tr th {\n",
       "        vertical-align: top;\n",
       "    }\n",
       "\n",
       "    .dataframe thead th {\n",
       "        text-align: right;\n",
       "    }\n",
       "</style>\n",
       "<table border=\"1\" class=\"dataframe\">\n",
       "  <thead>\n",
       "    <tr style=\"text-align: right;\">\n",
       "      <th></th>\n",
       "      <th>Unnamed: 0</th>\n",
       "      <th>cliente</th>\n",
       "      <th>limite</th>\n",
       "      <th>dt_fechamento</th>\n",
       "    </tr>\n",
       "  </thead>\n",
       "  <tbody>\n",
       "    <tr>\n",
       "      <th>0</th>\n",
       "      <td>0</td>\n",
       "      <td>João Silva</td>\n",
       "      <td>2575.0</td>\n",
       "      <td>2021-01-25</td>\n",
       "    </tr>\n",
       "    <tr>\n",
       "      <th>1</th>\n",
       "      <td>1</td>\n",
       "      <td>José Silva</td>\n",
       "      <td>4500.0</td>\n",
       "      <td>2021-01-05</td>\n",
       "    </tr>\n",
       "    <tr>\n",
       "      <th>2</th>\n",
       "      <td>2</td>\n",
       "      <td>Antônio Oliveira</td>\n",
       "      <td>2325.0</td>\n",
       "      <td>2021-01-25</td>\n",
       "    </tr>\n",
       "    <tr>\n",
       "      <th>3</th>\n",
       "      <td>3</td>\n",
       "      <td>Francisco Santos</td>\n",
       "      <td>375.0</td>\n",
       "      <td>2021-01-25</td>\n",
       "    </tr>\n",
       "    <tr>\n",
       "      <th>4</th>\n",
       "      <td>4</td>\n",
       "      <td>Carlos Rodrigues</td>\n",
       "      <td>2675.0</td>\n",
       "      <td>2021-01-05</td>\n",
       "    </tr>\n",
       "  </tbody>\n",
       "</table>\n",
       "</div>"
      ],
      "text/plain": [
       "   Unnamed: 0           cliente  limite dt_fechamento\n",
       "0           0        João Silva  2575.0    2021-01-25\n",
       "1           1        José Silva  4500.0    2021-01-05\n",
       "2           2  Antônio Oliveira  2325.0    2021-01-25\n",
       "3           3  Francisco Santos   375.0    2021-01-25\n",
       "4           4  Carlos Rodrigues  2675.0    2021-01-05"
      ]
     },
     "execution_count": 10,
     "metadata": {},
     "output_type": "execute_result"
    }
   ],
   "source": [
    "df_limites.head()"
   ]
  },
  {
   "cell_type": "code",
   "execution_count": 11,
   "metadata": {},
   "outputs": [
    {
     "name": "stdout",
     "output_type": "stream",
     "text": [
      "<class 'pandas.core.frame.DataFrame'>\n",
      "RangeIndex: 150 entries, 0 to 149\n",
      "Data columns (total 6 columns):\n",
      " #   Column          Non-Null Count  Dtype         \n",
      "---  ------          --------------  -----         \n",
      " 0   Unnamed: 0      150 non-null    int64         \n",
      " 1   nm_cliente      150 non-null    object        \n",
      " 2   valor_operacao  150 non-null    float64       \n",
      " 3   num_parcelas    150 non-null    int64         \n",
      " 4   dt_operacao     150 non-null    datetime64[ns]\n",
      " 5   mes_atual       150 non-null    datetime64[ns]\n",
      "dtypes: datetime64[ns](2), float64(1), int64(2), object(1)\n",
      "memory usage: 7.2+ KB\n"
     ]
    }
   ],
   "source": [
    "df_gastos.info()"
   ]
  },
  {
   "cell_type": "code",
   "execution_count": 12,
   "metadata": {},
   "outputs": [
    {
     "data": {
      "text/plain": [
       "array(['2021-01-01T00:00:00.000000000', '2021-01-02T00:00:00.000000000',\n",
       "       '2021-01-03T00:00:00.000000000', '2021-01-04T00:00:00.000000000',\n",
       "       '2021-01-05T00:00:00.000000000', '2021-01-06T00:00:00.000000000',\n",
       "       '2021-01-07T00:00:00.000000000', '2021-01-08T00:00:00.000000000',\n",
       "       '2021-01-09T00:00:00.000000000', '2021-01-10T00:00:00.000000000',\n",
       "       '2021-01-11T00:00:00.000000000', '2021-01-12T00:00:00.000000000',\n",
       "       '2021-01-13T00:00:00.000000000', '2021-01-14T00:00:00.000000000',\n",
       "       '2021-01-15T00:00:00.000000000', '2021-01-16T00:00:00.000000000',\n",
       "       '2021-01-17T00:00:00.000000000', '2021-01-18T00:00:00.000000000',\n",
       "       '2021-01-19T00:00:00.000000000', '2021-01-20T00:00:00.000000000',\n",
       "       '2021-01-21T00:00:00.000000000', '2021-01-22T00:00:00.000000000',\n",
       "       '2021-01-23T00:00:00.000000000', '2021-01-24T00:00:00.000000000',\n",
       "       '2021-01-25T00:00:00.000000000', '2021-01-26T00:00:00.000000000',\n",
       "       '2021-01-27T00:00:00.000000000', '2021-01-28T00:00:00.000000000',\n",
       "       '2021-01-29T00:00:00.000000000', '2021-01-30T00:00:00.000000000',\n",
       "       '2021-01-31T00:00:00.000000000'], dtype='datetime64[ns]')"
      ]
     },
     "execution_count": 12,
     "metadata": {},
     "output_type": "execute_result"
    }
   ],
   "source": [
    "df_gastos['dt_operacao'].unique()"
   ]
  },
  {
   "cell_type": "code",
   "execution_count": 13,
   "metadata": {},
   "outputs": [],
   "source": [
    "df_gastos_acum = df_gastos.groupby(df_gastos['dt_operacao'].dt.strftime('%B'))[['nm_cliente','valor_operacao']]"
   ]
  },
  {
   "cell_type": "code",
   "execution_count": 14,
   "metadata": {},
   "outputs": [
    {
     "data": {
      "text/html": [
       "<div>\n",
       "<style scoped>\n",
       "    .dataframe tbody tr th:only-of-type {\n",
       "        vertical-align: middle;\n",
       "    }\n",
       "\n",
       "    .dataframe tbody tr th {\n",
       "        vertical-align: top;\n",
       "    }\n",
       "\n",
       "    .dataframe thead th {\n",
       "        text-align: right;\n",
       "    }\n",
       "</style>\n",
       "<table border=\"1\" class=\"dataframe\">\n",
       "  <thead>\n",
       "    <tr style=\"text-align: right;\">\n",
       "      <th></th>\n",
       "      <th>nm_cliente</th>\n",
       "      <th>valor_operacao</th>\n",
       "    </tr>\n",
       "  </thead>\n",
       "  <tbody>\n",
       "    <tr>\n",
       "      <th>0</th>\n",
       "      <td>Paulo Gomes</td>\n",
       "      <td>855.00</td>\n",
       "    </tr>\n",
       "    <tr>\n",
       "      <th>1</th>\n",
       "      <td>Camila Santos</td>\n",
       "      <td>504.18</td>\n",
       "    </tr>\n",
       "    <tr>\n",
       "      <th>2</th>\n",
       "      <td>Márcia Silva</td>\n",
       "      <td>970.00</td>\n",
       "    </tr>\n",
       "    <tr>\n",
       "      <th>3</th>\n",
       "      <td>Maria Alves</td>\n",
       "      <td>2010.31</td>\n",
       "    </tr>\n",
       "    <tr>\n",
       "      <th>4</th>\n",
       "      <td>Lucas Oliveira</td>\n",
       "      <td>465.00</td>\n",
       "    </tr>\n",
       "  </tbody>\n",
       "</table>\n",
       "</div>"
      ],
      "text/plain": [
       "       nm_cliente  valor_operacao\n",
       "0     Paulo Gomes          855.00\n",
       "1   Camila Santos          504.18\n",
       "2    Márcia Silva          970.00\n",
       "3     Maria Alves         2010.31\n",
       "4  Lucas Oliveira          465.00"
      ]
     },
     "execution_count": 14,
     "metadata": {},
     "output_type": "execute_result"
    }
   ],
   "source": [
    "df_gastos_acum.head()"
   ]
  },
  {
   "cell_type": "code",
   "execution_count": 15,
   "metadata": {},
   "outputs": [],
   "source": [
    "df_gastos['valor_parcela']=round((df_gastos['valor_operacao']/df_gastos['num_parcelas']),2)"
   ]
  },
  {
   "cell_type": "code",
   "execution_count": 16,
   "metadata": {},
   "outputs": [
    {
     "data": {
      "text/html": [
       "<div>\n",
       "<style scoped>\n",
       "    .dataframe tbody tr th:only-of-type {\n",
       "        vertical-align: middle;\n",
       "    }\n",
       "\n",
       "    .dataframe tbody tr th {\n",
       "        vertical-align: top;\n",
       "    }\n",
       "\n",
       "    .dataframe thead th {\n",
       "        text-align: right;\n",
       "    }\n",
       "</style>\n",
       "<table border=\"1\" class=\"dataframe\">\n",
       "  <thead>\n",
       "    <tr style=\"text-align: right;\">\n",
       "      <th></th>\n",
       "      <th>Unnamed: 0</th>\n",
       "      <th>cliente</th>\n",
       "      <th>limite</th>\n",
       "      <th>dt_fechamento</th>\n",
       "    </tr>\n",
       "  </thead>\n",
       "  <tbody>\n",
       "    <tr>\n",
       "      <th>12</th>\n",
       "      <td>12</td>\n",
       "      <td>Adriana Pereira</td>\n",
       "      <td>1875.0</td>\n",
       "      <td>2021-01-05</td>\n",
       "    </tr>\n",
       "    <tr>\n",
       "      <th>17</th>\n",
       "      <td>17</td>\n",
       "      <td>Aline Rodrigues</td>\n",
       "      <td>2600.0</td>\n",
       "      <td>2021-01-15</td>\n",
       "    </tr>\n",
       "    <tr>\n",
       "      <th>11</th>\n",
       "      <td>11</td>\n",
       "      <td>Ana Costa</td>\n",
       "      <td>5375.0</td>\n",
       "      <td>2021-01-25</td>\n",
       "    </tr>\n",
       "    <tr>\n",
       "      <th>2</th>\n",
       "      <td>2</td>\n",
       "      <td>Antônio Oliveira</td>\n",
       "      <td>2325.0</td>\n",
       "      <td>2021-01-25</td>\n",
       "    </tr>\n",
       "    <tr>\n",
       "      <th>19</th>\n",
       "      <td>19</td>\n",
       "      <td>Camila Santos</td>\n",
       "      <td>3275.0</td>\n",
       "      <td>2021-01-15</td>\n",
       "    </tr>\n",
       "    <tr>\n",
       "      <th>4</th>\n",
       "      <td>4</td>\n",
       "      <td>Carlos Rodrigues</td>\n",
       "      <td>2675.0</td>\n",
       "      <td>2021-01-05</td>\n",
       "    </tr>\n",
       "    <tr>\n",
       "      <th>15</th>\n",
       "      <td>15</td>\n",
       "      <td>Fernanda Oliveira</td>\n",
       "      <td>2925.0</td>\n",
       "      <td>2021-01-05</td>\n",
       "    </tr>\n",
       "    <tr>\n",
       "      <th>3</th>\n",
       "      <td>3</td>\n",
       "      <td>Francisco Santos</td>\n",
       "      <td>375.0</td>\n",
       "      <td>2021-01-25</td>\n",
       "    </tr>\n",
       "    <tr>\n",
       "      <th>1</th>\n",
       "      <td>1</td>\n",
       "      <td>José Silva</td>\n",
       "      <td>4500.0</td>\n",
       "      <td>2021-01-05</td>\n",
       "    </tr>\n",
       "    <tr>\n",
       "      <th>0</th>\n",
       "      <td>0</td>\n",
       "      <td>João Silva</td>\n",
       "      <td>2575.0</td>\n",
       "      <td>2021-01-25</td>\n",
       "    </tr>\n",
       "  </tbody>\n",
       "</table>\n",
       "</div>"
      ],
      "text/plain": [
       "    Unnamed: 0            cliente  limite dt_fechamento\n",
       "12          12    Adriana Pereira  1875.0    2021-01-05\n",
       "17          17    Aline Rodrigues  2600.0    2021-01-15\n",
       "11          11          Ana Costa  5375.0    2021-01-25\n",
       "2            2   Antônio Oliveira  2325.0    2021-01-25\n",
       "19          19      Camila Santos  3275.0    2021-01-15\n",
       "4            4   Carlos Rodrigues  2675.0    2021-01-05\n",
       "15          15  Fernanda Oliveira  2925.0    2021-01-05\n",
       "3            3   Francisco Santos   375.0    2021-01-25\n",
       "1            1         José Silva  4500.0    2021-01-05\n",
       "0            0         João Silva  2575.0    2021-01-25"
      ]
     },
     "execution_count": 16,
     "metadata": {},
     "output_type": "execute_result"
    }
   ],
   "source": [
    "df_limites.sort_values(by='cliente').head(10)"
   ]
  },
  {
   "cell_type": "code",
   "execution_count": 17,
   "metadata": {},
   "outputs": [
    {
     "data": {
      "text/html": [
       "<div>\n",
       "<style scoped>\n",
       "    .dataframe tbody tr th:only-of-type {\n",
       "        vertical-align: middle;\n",
       "    }\n",
       "\n",
       "    .dataframe tbody tr th {\n",
       "        vertical-align: top;\n",
       "    }\n",
       "\n",
       "    .dataframe thead th {\n",
       "        text-align: right;\n",
       "    }\n",
       "</style>\n",
       "<table border=\"1\" class=\"dataframe\">\n",
       "  <thead>\n",
       "    <tr style=\"text-align: right;\">\n",
       "      <th></th>\n",
       "      <th>Unnamed: 0</th>\n",
       "      <th>nm_cliente</th>\n",
       "      <th>valor_operacao</th>\n",
       "      <th>num_parcelas</th>\n",
       "      <th>dt_operacao</th>\n",
       "      <th>mes_atual</th>\n",
       "      <th>valor_parcela</th>\n",
       "    </tr>\n",
       "  </thead>\n",
       "  <tbody>\n",
       "    <tr>\n",
       "      <th>74</th>\n",
       "      <td>74</td>\n",
       "      <td>Adriana Pereira</td>\n",
       "      <td>63.88</td>\n",
       "      <td>1</td>\n",
       "      <td>2021-01-14</td>\n",
       "      <td>2021-01-01</td>\n",
       "      <td>63.88</td>\n",
       "    </tr>\n",
       "    <tr>\n",
       "      <th>145</th>\n",
       "      <td>145</td>\n",
       "      <td>Adriana Pereira</td>\n",
       "      <td>1084.58</td>\n",
       "      <td>10</td>\n",
       "      <td>2021-01-30</td>\n",
       "      <td>2021-01-01</td>\n",
       "      <td>108.46</td>\n",
       "    </tr>\n",
       "    <tr>\n",
       "      <th>118</th>\n",
       "      <td>118</td>\n",
       "      <td>Adriana Pereira</td>\n",
       "      <td>1464.84</td>\n",
       "      <td>2</td>\n",
       "      <td>2021-01-25</td>\n",
       "      <td>2021-01-01</td>\n",
       "      <td>732.42</td>\n",
       "    </tr>\n",
       "    <tr>\n",
       "      <th>71</th>\n",
       "      <td>71</td>\n",
       "      <td>Adriana Pereira</td>\n",
       "      <td>2036.00</td>\n",
       "      <td>3</td>\n",
       "      <td>2021-01-14</td>\n",
       "      <td>2021-01-01</td>\n",
       "      <td>678.67</td>\n",
       "    </tr>\n",
       "    <tr>\n",
       "      <th>135</th>\n",
       "      <td>135</td>\n",
       "      <td>Adriana Pereira</td>\n",
       "      <td>2056.00</td>\n",
       "      <td>1</td>\n",
       "      <td>2021-01-28</td>\n",
       "      <td>2021-01-01</td>\n",
       "      <td>2056.00</td>\n",
       "    </tr>\n",
       "    <tr>\n",
       "      <th>126</th>\n",
       "      <td>126</td>\n",
       "      <td>Adriana Pereira</td>\n",
       "      <td>247.98</td>\n",
       "      <td>3</td>\n",
       "      <td>2021-01-26</td>\n",
       "      <td>2021-01-01</td>\n",
       "      <td>82.66</td>\n",
       "    </tr>\n",
       "    <tr>\n",
       "      <th>68</th>\n",
       "      <td>68</td>\n",
       "      <td>Adriana Pereira</td>\n",
       "      <td>764.42</td>\n",
       "      <td>3</td>\n",
       "      <td>2021-01-13</td>\n",
       "      <td>2021-01-01</td>\n",
       "      <td>254.81</td>\n",
       "    </tr>\n",
       "    <tr>\n",
       "      <th>130</th>\n",
       "      <td>130</td>\n",
       "      <td>Adriana Pereira</td>\n",
       "      <td>155.56</td>\n",
       "      <td>4</td>\n",
       "      <td>2021-01-27</td>\n",
       "      <td>2021-01-01</td>\n",
       "      <td>38.89</td>\n",
       "    </tr>\n",
       "    <tr>\n",
       "      <th>33</th>\n",
       "      <td>33</td>\n",
       "      <td>Aline Rodrigues</td>\n",
       "      <td>234.00</td>\n",
       "      <td>5</td>\n",
       "      <td>2021-01-06</td>\n",
       "      <td>2021-01-01</td>\n",
       "      <td>46.80</td>\n",
       "    </tr>\n",
       "    <tr>\n",
       "      <th>56</th>\n",
       "      <td>56</td>\n",
       "      <td>Aline Rodrigues</td>\n",
       "      <td>281.00</td>\n",
       "      <td>1</td>\n",
       "      <td>2021-01-10</td>\n",
       "      <td>2021-01-01</td>\n",
       "      <td>281.00</td>\n",
       "    </tr>\n",
       "  </tbody>\n",
       "</table>\n",
       "</div>"
      ],
      "text/plain": [
       "     Unnamed: 0       nm_cliente  valor_operacao  num_parcelas dt_operacao  \\\n",
       "74           74  Adriana Pereira           63.88             1  2021-01-14   \n",
       "145         145  Adriana Pereira         1084.58            10  2021-01-30   \n",
       "118         118  Adriana Pereira         1464.84             2  2021-01-25   \n",
       "71           71  Adriana Pereira         2036.00             3  2021-01-14   \n",
       "135         135  Adriana Pereira         2056.00             1  2021-01-28   \n",
       "126         126  Adriana Pereira          247.98             3  2021-01-26   \n",
       "68           68  Adriana Pereira          764.42             3  2021-01-13   \n",
       "130         130  Adriana Pereira          155.56             4  2021-01-27   \n",
       "33           33  Aline Rodrigues          234.00             5  2021-01-06   \n",
       "56           56  Aline Rodrigues          281.00             1  2021-01-10   \n",
       "\n",
       "     mes_atual  valor_parcela  \n",
       "74  2021-01-01          63.88  \n",
       "145 2021-01-01         108.46  \n",
       "118 2021-01-01         732.42  \n",
       "71  2021-01-01         678.67  \n",
       "135 2021-01-01        2056.00  \n",
       "126 2021-01-01          82.66  \n",
       "68  2021-01-01         254.81  \n",
       "130 2021-01-01          38.89  \n",
       "33  2021-01-01          46.80  \n",
       "56  2021-01-01         281.00  "
      ]
     },
     "execution_count": 17,
     "metadata": {},
     "output_type": "execute_result"
    }
   ],
   "source": [
    "df_gastos.sort_values(by='nm_cliente').head(10)"
   ]
  },
  {
   "cell_type": "code",
   "execution_count": 18,
   "metadata": {},
   "outputs": [
    {
     "data": {
      "text/plain": [
       "Index(['Unnamed: 0_x', 'cliente', 'limite', 'dt_fechamento', 'Unnamed: 0_y',\n",
       "       'nm_cliente', 'valor_operacao', 'num_parcelas', 'dt_operacao',\n",
       "       'mes_atual', 'valor_parcela'],\n",
       "      dtype='object')"
      ]
     },
     "execution_count": 18,
     "metadata": {},
     "output_type": "execute_result"
    }
   ],
   "source": [
    "df_total = df_limites.merge(df_gastos, left_on='cliente', right_on='nm_cliente', how='left')\n",
    "df_total.columns\n"
   ]
  },
  {
   "cell_type": "code",
   "execution_count": 19,
   "metadata": {},
   "outputs": [
    {
     "data": {
      "text/plain": [
       "20"
      ]
     },
     "execution_count": 19,
     "metadata": {},
     "output_type": "execute_result"
    }
   ],
   "source": [
    "len(df_total['cliente'].unique().tolist())"
   ]
  },
  {
   "cell_type": "code",
   "execution_count": 20,
   "metadata": {},
   "outputs": [
    {
     "data": {
      "text/plain": [
       "20"
      ]
     },
     "execution_count": 20,
     "metadata": {},
     "output_type": "execute_result"
    }
   ],
   "source": [
    "len(df_gastos['nm_cliente'].unique().tolist())"
   ]
  },
  {
   "cell_type": "code",
   "execution_count": 21,
   "metadata": {},
   "outputs": [],
   "source": [
    "df_total.drop(df_total.columns[df_total.columns.str.contains('unnamed',case = False)],axis = 1, inplace = True)"
   ]
  },
  {
   "cell_type": "code",
   "execution_count": 22,
   "metadata": {},
   "outputs": [
    {
     "data": {
      "text/html": [
       "<div>\n",
       "<style scoped>\n",
       "    .dataframe tbody tr th:only-of-type {\n",
       "        vertical-align: middle;\n",
       "    }\n",
       "\n",
       "    .dataframe tbody tr th {\n",
       "        vertical-align: top;\n",
       "    }\n",
       "\n",
       "    .dataframe thead th {\n",
       "        text-align: right;\n",
       "    }\n",
       "</style>\n",
       "<table border=\"1\" class=\"dataframe\">\n",
       "  <thead>\n",
       "    <tr style=\"text-align: right;\">\n",
       "      <th></th>\n",
       "      <th>cliente</th>\n",
       "      <th>limite</th>\n",
       "      <th>dt_fechamento</th>\n",
       "      <th>nm_cliente</th>\n",
       "      <th>valor_operacao</th>\n",
       "      <th>num_parcelas</th>\n",
       "      <th>dt_operacao</th>\n",
       "      <th>mes_atual</th>\n",
       "      <th>valor_parcela</th>\n",
       "    </tr>\n",
       "  </thead>\n",
       "  <tbody>\n",
       "    <tr>\n",
       "      <th>0</th>\n",
       "      <td>João Silva</td>\n",
       "      <td>2575.0</td>\n",
       "      <td>2021-01-25</td>\n",
       "      <td>João Silva</td>\n",
       "      <td>243.42</td>\n",
       "      <td>5</td>\n",
       "      <td>2021-01-03</td>\n",
       "      <td>2021-01-01</td>\n",
       "      <td>48.68</td>\n",
       "    </tr>\n",
       "    <tr>\n",
       "      <th>1</th>\n",
       "      <td>João Silva</td>\n",
       "      <td>2575.0</td>\n",
       "      <td>2021-01-25</td>\n",
       "      <td>João Silva</td>\n",
       "      <td>1121.00</td>\n",
       "      <td>8</td>\n",
       "      <td>2021-01-15</td>\n",
       "      <td>2021-01-01</td>\n",
       "      <td>140.12</td>\n",
       "    </tr>\n",
       "    <tr>\n",
       "      <th>2</th>\n",
       "      <td>João Silva</td>\n",
       "      <td>2575.0</td>\n",
       "      <td>2021-01-25</td>\n",
       "      <td>João Silva</td>\n",
       "      <td>611.00</td>\n",
       "      <td>4</td>\n",
       "      <td>2021-01-16</td>\n",
       "      <td>2021-01-01</td>\n",
       "      <td>152.75</td>\n",
       "    </tr>\n",
       "  </tbody>\n",
       "</table>\n",
       "</div>"
      ],
      "text/plain": [
       "      cliente  limite dt_fechamento  nm_cliente  valor_operacao  num_parcelas  \\\n",
       "0  João Silva  2575.0    2021-01-25  João Silva          243.42             5   \n",
       "1  João Silva  2575.0    2021-01-25  João Silva         1121.00             8   \n",
       "2  João Silva  2575.0    2021-01-25  João Silva          611.00             4   \n",
       "\n",
       "  dt_operacao  mes_atual  valor_parcela  \n",
       "0  2021-01-03 2021-01-01          48.68  \n",
       "1  2021-01-15 2021-01-01         140.12  \n",
       "2  2021-01-16 2021-01-01         152.75  "
      ]
     },
     "execution_count": 22,
     "metadata": {},
     "output_type": "execute_result"
    }
   ],
   "source": [
    "df_total.head(3)"
   ]
  },
  {
   "cell_type": "code",
   "execution_count": 23,
   "metadata": {},
   "outputs": [
    {
     "data": {
      "text/plain": [
       "Index(['cliente', 'limite', 'dt_fechamento', 'nm_cliente', 'valor_operacao',\n",
       "       'num_parcelas', 'dt_operacao', 'mes_atual', 'valor_parcela'],\n",
       "      dtype='object')"
      ]
     },
     "execution_count": 23,
     "metadata": {},
     "output_type": "execute_result"
    }
   ],
   "source": [
    "df_total.columns"
   ]
  },
  {
   "cell_type": "code",
   "execution_count": 24,
   "metadata": {},
   "outputs": [],
   "source": [
    "df_total_com_parcelas = pd.DataFrame(columns=['cliente', 'limite', 'dt_pagamento', 'valor_operacao',\n",
    "       'num_parcelas', 'num_parcela','dt_operacao', 'valor_parcela'])"
   ]
  },
  {
   "cell_type": "code",
   "execution_count": 25,
   "metadata": {},
   "outputs": [
    {
     "name": "stdout",
     "output_type": "stream",
     "text": [
      "<class 'pandas.core.frame.DataFrame'>\n",
      "Int64Index: 150 entries, 0 to 149\n",
      "Data columns (total 9 columns):\n",
      " #   Column          Non-Null Count  Dtype         \n",
      "---  ------          --------------  -----         \n",
      " 0   cliente         150 non-null    object        \n",
      " 1   limite          150 non-null    float64       \n",
      " 2   dt_fechamento   150 non-null    datetime64[ns]\n",
      " 3   nm_cliente      150 non-null    object        \n",
      " 4   valor_operacao  150 non-null    float64       \n",
      " 5   num_parcelas    150 non-null    int64         \n",
      " 6   dt_operacao     150 non-null    datetime64[ns]\n",
      " 7   mes_atual       150 non-null    datetime64[ns]\n",
      " 8   valor_parcela   150 non-null    float64       \n",
      "dtypes: datetime64[ns](3), float64(3), int64(1), object(2)\n",
      "memory usage: 11.7+ KB\n"
     ]
    }
   ],
   "source": [
    "df_total.info()\n",
    "\n"
   ]
  },
  {
   "cell_type": "code",
   "execution_count": 26,
   "metadata": {},
   "outputs": [
    {
     "data": {
      "text/plain": [
       "cliente           0\n",
       "limite            0\n",
       "dt_fechamento     0\n",
       "nm_cliente        0\n",
       "valor_operacao    0\n",
       "num_parcelas      0\n",
       "dt_operacao       0\n",
       "mes_atual         0\n",
       "valor_parcela     0\n",
       "dtype: int64"
      ]
     },
     "execution_count": 26,
     "metadata": {},
     "output_type": "execute_result"
    }
   ],
   "source": [
    "df_total.isna().sum()"
   ]
  },
  {
   "cell_type": "code",
   "execution_count": 27,
   "metadata": {},
   "outputs": [],
   "source": [
    "for i in df_total.values:\n",
    "    for n in range(int(i[5])):\n",
    "        \n",
    "        limite = i[1]\n",
    "        vencim = i[2]\n",
    "        cliente = i[0]\n",
    "        valor= i[4]\n",
    "        num_parcelas = i[5]\n",
    "        parcela=i[8]\n",
    "        data_operacao=i[6]\n",
    "        mes = 0\n",
    "        data_pagamento = dt.datetime(data_operacao.year, data_operacao.month,vencim.day)\n",
    "        data_pagamento = data_pagamento + relativedelta(months=n)\n",
    "        if data_operacao.day > vencim.day and n==0:\n",
    "            data_pagamento = data_pagamento + relativedelta(months=1)\n",
    "        \n",
    "        df_total_com_parcelas.loc[0 if pd.isnull(df_total_com_parcelas.index.max()) else df_total_com_parcelas.index.max() + 1] = [cliente, limite, data_operacao, valor,\n",
    "            num_parcelas, str(n+1), data_pagamento, parcela]\n",
    "        #print(i)\n",
    "    \n"
   ]
  },
  {
   "cell_type": "code",
   "execution_count": 28,
   "metadata": {},
   "outputs": [
    {
     "data": {
      "text/html": [
       "<div>\n",
       "<style scoped>\n",
       "    .dataframe tbody tr th:only-of-type {\n",
       "        vertical-align: middle;\n",
       "    }\n",
       "\n",
       "    .dataframe tbody tr th {\n",
       "        vertical-align: top;\n",
       "    }\n",
       "\n",
       "    .dataframe thead th {\n",
       "        text-align: right;\n",
       "    }\n",
       "</style>\n",
       "<table border=\"1\" class=\"dataframe\">\n",
       "  <thead>\n",
       "    <tr style=\"text-align: right;\">\n",
       "      <th></th>\n",
       "      <th>cliente</th>\n",
       "      <th>limite</th>\n",
       "      <th>dt_pagamento</th>\n",
       "      <th>valor_operacao</th>\n",
       "      <th>num_parcelas</th>\n",
       "      <th>num_parcela</th>\n",
       "      <th>dt_operacao</th>\n",
       "      <th>valor_parcela</th>\n",
       "    </tr>\n",
       "  </thead>\n",
       "  <tbody>\n",
       "    <tr>\n",
       "      <th>0</th>\n",
       "      <td>João Silva</td>\n",
       "      <td>2575.0</td>\n",
       "      <td>2021-01-03</td>\n",
       "      <td>243.42</td>\n",
       "      <td>5</td>\n",
       "      <td>1</td>\n",
       "      <td>2021-01-25</td>\n",
       "      <td>48.68</td>\n",
       "    </tr>\n",
       "    <tr>\n",
       "      <th>1</th>\n",
       "      <td>João Silva</td>\n",
       "      <td>2575.0</td>\n",
       "      <td>2021-01-03</td>\n",
       "      <td>243.42</td>\n",
       "      <td>5</td>\n",
       "      <td>2</td>\n",
       "      <td>2021-02-25</td>\n",
       "      <td>48.68</td>\n",
       "    </tr>\n",
       "    <tr>\n",
       "      <th>2</th>\n",
       "      <td>João Silva</td>\n",
       "      <td>2575.0</td>\n",
       "      <td>2021-01-03</td>\n",
       "      <td>243.42</td>\n",
       "      <td>5</td>\n",
       "      <td>3</td>\n",
       "      <td>2021-03-25</td>\n",
       "      <td>48.68</td>\n",
       "    </tr>\n",
       "    <tr>\n",
       "      <th>3</th>\n",
       "      <td>João Silva</td>\n",
       "      <td>2575.0</td>\n",
       "      <td>2021-01-03</td>\n",
       "      <td>243.42</td>\n",
       "      <td>5</td>\n",
       "      <td>4</td>\n",
       "      <td>2021-04-25</td>\n",
       "      <td>48.68</td>\n",
       "    </tr>\n",
       "    <tr>\n",
       "      <th>4</th>\n",
       "      <td>João Silva</td>\n",
       "      <td>2575.0</td>\n",
       "      <td>2021-01-03</td>\n",
       "      <td>243.42</td>\n",
       "      <td>5</td>\n",
       "      <td>5</td>\n",
       "      <td>2021-05-25</td>\n",
       "      <td>48.68</td>\n",
       "    </tr>\n",
       "    <tr>\n",
       "      <th>...</th>\n",
       "      <td>...</td>\n",
       "      <td>...</td>\n",
       "      <td>...</td>\n",
       "      <td>...</td>\n",
       "      <td>...</td>\n",
       "      <td>...</td>\n",
       "      <td>...</td>\n",
       "      <td>...</td>\n",
       "    </tr>\n",
       "    <tr>\n",
       "      <th>564</th>\n",
       "      <td>Camila Santos</td>\n",
       "      <td>3275.0</td>\n",
       "      <td>2021-01-29</td>\n",
       "      <td>203.01</td>\n",
       "      <td>3</td>\n",
       "      <td>2</td>\n",
       "      <td>2021-02-15</td>\n",
       "      <td>67.67</td>\n",
       "    </tr>\n",
       "    <tr>\n",
       "      <th>565</th>\n",
       "      <td>Camila Santos</td>\n",
       "      <td>3275.0</td>\n",
       "      <td>2021-01-29</td>\n",
       "      <td>203.01</td>\n",
       "      <td>3</td>\n",
       "      <td>3</td>\n",
       "      <td>2021-03-15</td>\n",
       "      <td>67.67</td>\n",
       "    </tr>\n",
       "    <tr>\n",
       "      <th>566</th>\n",
       "      <td>Camila Santos</td>\n",
       "      <td>3275.0</td>\n",
       "      <td>2021-01-30</td>\n",
       "      <td>702.00</td>\n",
       "      <td>3</td>\n",
       "      <td>1</td>\n",
       "      <td>2021-02-15</td>\n",
       "      <td>234.00</td>\n",
       "    </tr>\n",
       "    <tr>\n",
       "      <th>567</th>\n",
       "      <td>Camila Santos</td>\n",
       "      <td>3275.0</td>\n",
       "      <td>2021-01-30</td>\n",
       "      <td>702.00</td>\n",
       "      <td>3</td>\n",
       "      <td>2</td>\n",
       "      <td>2021-02-15</td>\n",
       "      <td>234.00</td>\n",
       "    </tr>\n",
       "    <tr>\n",
       "      <th>568</th>\n",
       "      <td>Camila Santos</td>\n",
       "      <td>3275.0</td>\n",
       "      <td>2021-01-30</td>\n",
       "      <td>702.00</td>\n",
       "      <td>3</td>\n",
       "      <td>3</td>\n",
       "      <td>2021-03-15</td>\n",
       "      <td>234.00</td>\n",
       "    </tr>\n",
       "  </tbody>\n",
       "</table>\n",
       "<p>569 rows × 8 columns</p>\n",
       "</div>"
      ],
      "text/plain": [
       "           cliente  limite dt_pagamento  valor_operacao num_parcelas  \\\n",
       "0       João Silva  2575.0   2021-01-03          243.42            5   \n",
       "1       João Silva  2575.0   2021-01-03          243.42            5   \n",
       "2       João Silva  2575.0   2021-01-03          243.42            5   \n",
       "3       João Silva  2575.0   2021-01-03          243.42            5   \n",
       "4       João Silva  2575.0   2021-01-03          243.42            5   \n",
       "..             ...     ...          ...             ...          ...   \n",
       "564  Camila Santos  3275.0   2021-01-29          203.01            3   \n",
       "565  Camila Santos  3275.0   2021-01-29          203.01            3   \n",
       "566  Camila Santos  3275.0   2021-01-30          702.00            3   \n",
       "567  Camila Santos  3275.0   2021-01-30          702.00            3   \n",
       "568  Camila Santos  3275.0   2021-01-30          702.00            3   \n",
       "\n",
       "    num_parcela dt_operacao  valor_parcela  \n",
       "0             1  2021-01-25          48.68  \n",
       "1             2  2021-02-25          48.68  \n",
       "2             3  2021-03-25          48.68  \n",
       "3             4  2021-04-25          48.68  \n",
       "4             5  2021-05-25          48.68  \n",
       "..          ...         ...            ...  \n",
       "564           2  2021-02-15          67.67  \n",
       "565           3  2021-03-15          67.67  \n",
       "566           1  2021-02-15         234.00  \n",
       "567           2  2021-02-15         234.00  \n",
       "568           3  2021-03-15         234.00  \n",
       "\n",
       "[569 rows x 8 columns]"
      ]
     },
     "execution_count": 28,
     "metadata": {},
     "output_type": "execute_result"
    }
   ],
   "source": [
    "df_total_com_parcelas"
   ]
  },
  {
   "cell_type": "code",
   "execution_count": 29,
   "metadata": {},
   "outputs": [],
   "source": [
    "result = df_total_com_parcelas.groupby([df_total_com_parcelas['dt_pagamento'].dt.year, df_total_com_parcelas['dt_pagamento'].dt.month, df_total_com_parcelas['cliente']]).agg({'valor_parcela':sum})"
   ]
  },
  {
   "cell_type": "code",
   "execution_count": 30,
   "metadata": {},
   "outputs": [
    {
     "data": {
      "text/html": [
       "<div>\n",
       "<style scoped>\n",
       "    .dataframe tbody tr th:only-of-type {\n",
       "        vertical-align: middle;\n",
       "    }\n",
       "\n",
       "    .dataframe tbody tr th {\n",
       "        vertical-align: top;\n",
       "    }\n",
       "\n",
       "    .dataframe thead th {\n",
       "        text-align: right;\n",
       "    }\n",
       "</style>\n",
       "<table border=\"1\" class=\"dataframe\">\n",
       "  <thead>\n",
       "    <tr style=\"text-align: right;\">\n",
       "      <th></th>\n",
       "      <th></th>\n",
       "      <th></th>\n",
       "      <th>valor_parcela</th>\n",
       "    </tr>\n",
       "    <tr>\n",
       "      <th>dt_pagamento</th>\n",
       "      <th>dt_pagamento</th>\n",
       "      <th>cliente</th>\n",
       "      <th></th>\n",
       "    </tr>\n",
       "  </thead>\n",
       "  <tbody>\n",
       "    <tr>\n",
       "      <th rowspan=\"20\" valign=\"top\">2021</th>\n",
       "      <th rowspan=\"20\" valign=\"top\">1</th>\n",
       "      <th>Adriana Pereira</th>\n",
       "      <td>7873.30</td>\n",
       "    </tr>\n",
       "    <tr>\n",
       "      <th>Aline Rodrigues</th>\n",
       "      <td>1649.12</td>\n",
       "    </tr>\n",
       "    <tr>\n",
       "      <th>Ana Costa</th>\n",
       "      <td>4907.02</td>\n",
       "    </tr>\n",
       "    <tr>\n",
       "      <th>Antônio Oliveira</th>\n",
       "      <td>5028.80</td>\n",
       "    </tr>\n",
       "    <tr>\n",
       "      <th>Camila Santos</th>\n",
       "      <td>4111.14</td>\n",
       "    </tr>\n",
       "    <tr>\n",
       "      <th>Carlos Rodrigues</th>\n",
       "      <td>5367.84</td>\n",
       "    </tr>\n",
       "    <tr>\n",
       "      <th>Fernanda Oliveira</th>\n",
       "      <td>2566.49</td>\n",
       "    </tr>\n",
       "    <tr>\n",
       "      <th>Francisco Santos</th>\n",
       "      <td>5330.69</td>\n",
       "    </tr>\n",
       "    <tr>\n",
       "      <th>José Silva</th>\n",
       "      <td>3863.07</td>\n",
       "    </tr>\n",
       "    <tr>\n",
       "      <th>João Silva</th>\n",
       "      <td>4839.44</td>\n",
       "    </tr>\n",
       "    <tr>\n",
       "      <th>Juliana Costa</th>\n",
       "      <td>4120.91</td>\n",
       "    </tr>\n",
       "    <tr>\n",
       "      <th>Lucas Oliveira</th>\n",
       "      <td>5269.59</td>\n",
       "    </tr>\n",
       "    <tr>\n",
       "      <th>Luiz Alves</th>\n",
       "      <td>6127.03</td>\n",
       "    </tr>\n",
       "    <tr>\n",
       "      <th>Marcos Souza</th>\n",
       "      <td>5869.66</td>\n",
       "    </tr>\n",
       "    <tr>\n",
       "      <th>Maria Alves</th>\n",
       "      <td>5524.50</td>\n",
       "    </tr>\n",
       "    <tr>\n",
       "      <th>Márcia Silva</th>\n",
       "      <td>8289.81</td>\n",
       "    </tr>\n",
       "    <tr>\n",
       "      <th>Patrícia Pereira</th>\n",
       "      <td>2171.39</td>\n",
       "    </tr>\n",
       "    <tr>\n",
       "      <th>Paulo Gomes</th>\n",
       "      <td>16559.84</td>\n",
       "    </tr>\n",
       "    <tr>\n",
       "      <th>Pedro Ribeira</th>\n",
       "      <td>2095.40</td>\n",
       "    </tr>\n",
       "    <tr>\n",
       "      <th>Sandra Souza</th>\n",
       "      <td>6137.77</td>\n",
       "    </tr>\n",
       "  </tbody>\n",
       "</table>\n",
       "</div>"
      ],
      "text/plain": [
       "                                             valor_parcela\n",
       "dt_pagamento dt_pagamento cliente                         \n",
       "2021         1            Adriana Pereira          7873.30\n",
       "                          Aline Rodrigues          1649.12\n",
       "                          Ana Costa                4907.02\n",
       "                          Antônio Oliveira         5028.80\n",
       "                          Camila Santos            4111.14\n",
       "                          Carlos Rodrigues         5367.84\n",
       "                          Fernanda Oliveira        2566.49\n",
       "                          Francisco Santos         5330.69\n",
       "                          José Silva               3863.07\n",
       "                          João Silva               4839.44\n",
       "                          Juliana Costa            4120.91\n",
       "                          Lucas Oliveira           5269.59\n",
       "                          Luiz Alves               6127.03\n",
       "                          Marcos Souza             5869.66\n",
       "                          Maria Alves              5524.50\n",
       "                          Márcia Silva             8289.81\n",
       "                          Patrícia Pereira         2171.39\n",
       "                          Paulo Gomes             16559.84\n",
       "                          Pedro Ribeira            2095.40\n",
       "                          Sandra Souza             6137.77"
      ]
     },
     "execution_count": 30,
     "metadata": {},
     "output_type": "execute_result"
    }
   ],
   "source": [
    "result"
   ]
  }
 ],
 "metadata": {
  "interpreter": {
   "hash": "e922dd073470bdcc017ae3abd31d6491d6ed7bf31c1d559806e5511bfea88b81"
  },
  "kernelspec": {
   "display_name": "Python 3",
   "language": "python",
   "name": "python3"
  },
  "language_info": {
   "codemirror_mode": {
    "name": "ipython",
    "version": 3
   },
   "file_extension": ".py",
   "mimetype": "text/x-python",
   "name": "python",
   "nbconvert_exporter": "python",
   "pygments_lexer": "ipython3",
   "version": "3.7.6"
  }
 },
 "nbformat": 4,
 "nbformat_minor": 2
}
